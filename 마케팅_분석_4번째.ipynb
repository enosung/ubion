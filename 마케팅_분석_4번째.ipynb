{
  "nbformat": 4,
  "nbformat_minor": 0,
  "metadata": {
    "colab": {
      "provenance": [],
      "authorship_tag": "ABX9TyPrvub/AMkh3ek5Fq6q+99e",
      "include_colab_link": true
    },
    "kernelspec": {
      "name": "python3",
      "display_name": "Python 3"
    },
    "language_info": {
      "name": "python"
    }
  },
  "cells": [
    {
      "cell_type": "markdown",
      "metadata": {
        "id": "view-in-github",
        "colab_type": "text"
      },
      "source": [
        "<a href=\"https://colab.research.google.com/github/enosung/ubion/blob/main/%EB%A7%88%EC%BC%80%ED%8C%85_%EB%B6%84%EC%84%9D_4%EB%B2%88%EC%A7%B8.ipynb\" target=\"_parent\"><img src=\"https://colab.research.google.com/assets/colab-badge.svg\" alt=\"Open In Colab\"/></a>"
      ]
    },
    {
      "cell_type": "code",
      "execution_count": null,
      "metadata": {
        "id": "BBK3BqpgZ8Oj"
      },
      "outputs": [],
      "source": []
    },
    {
      "cell_type": "markdown",
      "source": [
        "#빅데이터 마케팅 분석 전문가4@\n"
      ],
      "metadata": {
        "id": "q_xeH_BUaytm"
      }
    },
    {
      "cell_type": "markdown",
      "source": [
        "##1.인공신경망"
      ],
      "metadata": {
        "id": "c4jPFWS5bNpJ"
      }
    },
    {
      "cell_type": "code",
      "source": [
        "#분류예측"
      ],
      "metadata": {
        "id": "nZ_rxDSnbOuf"
      },
      "execution_count": null,
      "outputs": []
    },
    {
      "cell_type": "code",
      "source": [
        "from google.colab import drive\n",
        "drive.mount('/content/drive')"
      ],
      "metadata": {
        "colab": {
          "base_uri": "https://localhost:8080/"
        },
        "id": "UD7pN93hbTWV",
        "outputId": "22974aa5-bd3e-4566-8ab4-17ecdfe2275b"
      },
      "execution_count": 1,
      "outputs": [
        {
          "output_type": "stream",
          "name": "stdout",
          "text": [
            "Mounted at /content/drive\n"
          ]
        }
      ]
    },
    {
      "cell_type": "markdown",
      "source": [
        "s"
      ],
      "metadata": {
        "id": "S5XRkhlqb--l"
      }
    },
    {
      "cell_type": "code",
      "source": [
        "import pandas as pd\n"
      ],
      "metadata": {
        "id": "gThVuHV5b-HG"
      },
      "execution_count": 7,
      "outputs": []
    },
    {
      "cell_type": "code",
      "source": [
        "df = pd.read_csv('/content/drive/MyDrive/Colab Notebooks/ubion 파일/Ashopping0.csv',encoding='cp949')"
      ],
      "metadata": {
        "id": "I8ePWcLvbONW"
      },
      "execution_count": 9,
      "outputs": []
    },
    {
      "cell_type": "code",
      "source": [
        "df.info"
      ],
      "metadata": {
        "colab": {
          "base_uri": "https://localhost:8080/"
        },
        "id": "s6pM3bFGcJSG",
        "outputId": "0bd35b26-ea46-4d73-96e9-2533f0f2a8e7"
      },
      "execution_count": 10,
      "outputs": [
        {
          "output_type": "execute_result",
          "data": {
            "text/plain": [
              "<bound method DataFrame.info of      고객ID  이탈여부      총매출액  구매금액대  방문빈도  1회 평균매출액  할인권 사용 횟수  총 할인 금액  고객등급  \\\n",
              "0       1     1   4963160      1    22    225598          1     5445     1   \n",
              "1       2     1   2271520      0    38     59777         22   350995     1   \n",
              "2       3     1   2484250      0     2   1242125          6   186045     1   \n",
              "3       4     1   2778850      0     9    308761          1     5195     2   \n",
              "4       5     1   4437610      1    10    443761          9   246350     2   \n",
              "..    ...   ...       ...    ...   ...       ...        ...      ...   ...   \n",
              "995   996     0  12731560      2    35    363759          3    44445     2   \n",
              "996   997     0   3419010      0     6    569835          6   186545     1   \n",
              "997   998     0   4612100      1    13    354777          8   260700     2   \n",
              "998   999     0   5165360      1    28    184477         20   347700     1   \n",
              "999  1000     0   4323050      1    16    270191         19   367045     2   \n",
              "\n",
              "     구매유형  ...  구매카테고리수  거주지역  성별  고객 나이대  거래기간  할인민감여부  Recency  Frequency  \\\n",
              "0       3  ...        7     6   1       6  3303       0        3          2   \n",
              "1       1  ...        5     4   0       2  3129       0        5          3   \n",
              "2       2  ...        4     6   0       3  3636       0        4          1   \n",
              "3       4  ...        4     5   0       4  3637       0        7          4   \n",
              "4       4  ...        6     6   0       4  3638       0        5          1   \n",
              "..    ...  ...      ...   ...  ..     ...   ...     ...      ...        ...   \n",
              "995     3  ...        8     6   0       4  4629       1        3          3   \n",
              "996     2  ...        9     6   0       4  4630       1        7          3   \n",
              "997     1  ...        1     4   1       6  4631       1        2          1   \n",
              "998     3  ...        7     5   1       6  3907       0        7          2   \n",
              "999     4  ...        6     5   1       6  2118       0        5          1   \n",
              "\n",
              "     Monetary      평균 구매주기  \n",
              "0           1   149.136364  \n",
              "1           4    81.342105  \n",
              "2           4  1817.000000  \n",
              "3           6   403.111111  \n",
              "4           4   362.800000  \n",
              "..        ...          ...  \n",
              "995         1   131.257143  \n",
              "996         6   770.666667  \n",
              "997         2   355.230769  \n",
              "998         6   138.535714  \n",
              "999         4   131.375000  \n",
              "\n",
              "[1000 rows x 21 columns]>"
            ]
          },
          "metadata": {},
          "execution_count": 10
        }
      ]
    },
    {
      "cell_type": "code",
      "source": [
        "df.isnull().sum()"
      ],
      "metadata": {
        "colab": {
          "base_uri": "https://localhost:8080/"
        },
        "id": "ya2oZ5v7c5b4",
        "outputId": "08ca6fa9-ee8e-4c68-d8f5-bbbcf10f83fa"
      },
      "execution_count": 11,
      "outputs": [
        {
          "output_type": "execute_result",
          "data": {
            "text/plain": [
              "고객ID         0\n",
              "이탈여부         0\n",
              "총매출액         0\n",
              "구매금액대        0\n",
              "방문빈도         0\n",
              "1회 평균매출액     0\n",
              "할인권 사용 횟수    0\n",
              "총 할인 금액      0\n",
              "고객등급         0\n",
              "구매유형         0\n",
              "클레임접수여부      0\n",
              "구매카테고리수      0\n",
              "거주지역         0\n",
              "성별           0\n",
              "고객 나이대       0\n",
              "거래기간         0\n",
              "할인민감여부       0\n",
              "Recency      0\n",
              "Frequency    0\n",
              "Monetary     0\n",
              "평균 구매주기      0\n",
              "dtype: int64"
            ]
          },
          "metadata": {},
          "execution_count": 11
        }
      ]
    },
    {
      "cell_type": "code",
      "source": [
        "df.columns"
      ],
      "metadata": {
        "colab": {
          "base_uri": "https://localhost:8080/"
        },
        "id": "GF4VYLMHdCDr",
        "outputId": "5b60801f-7042-452f-aba9-d4154ec13579"
      },
      "execution_count": 12,
      "outputs": [
        {
          "output_type": "execute_result",
          "data": {
            "text/plain": [
              "Index(['고객ID', '이탈여부', '총매출액', '구매금액대', '방문빈도', '1회 평균매출액', '할인권 사용 횟수',\n",
              "       '총 할인 금액', '고객등급', '구매유형', '클레임접수여부', '구매카테고리수', '거주지역', '성별', '고객 나이대',\n",
              "       '거래기간', '할인민감여부', 'Recency', 'Frequency', 'Monetary', '평균 구매주기'],\n",
              "      dtype='object')"
            ]
          },
          "metadata": {},
          "execution_count": 12
        }
      ]
    },
    {
      "cell_type": "code",
      "source": [
        "#분류예측\n",
        "from sklearn.model_selection import train_test_split\n",
        "from sklearn.compose import ColumnTransformer\n",
        "from sklearn.preprocessing import StandardScaler\n",
        "from sklearn.preprocessing import OneHotEncoder\n",
        "from  imblearn.over_sampling import SMOTE \n",
        "#1.변수선택\n",
        "X = df[[\"총매출액\", \"구매금액대\",\"1회 평균매출액\",\"평균 구매주기\",\"거래기간\"]]\n",
        "Y = df[\"할인민감여부\"]\n",
        "\n",
        "#2.train - test split\n",
        "X_train, X_test, Y_train, Y_test = train_test_split(X,Y,test_size=0.3, random_state=0)\n",
        "\n",
        "#3. 데이터 전처리(preprocessing)\n",
        "\n",
        "ct = ColumnTransformer([(\"scaling\", StandardScaler(),['총매출액','1회 평균매출액','평균 구매주기','거래기간']), \n",
        "                        (\"onehot\", OneHotEncoder(sparse = False),['구매금액대'])])\n",
        "ct.fit(X_train)\n",
        "X_train=ct.transform(X_train)\n",
        "X_test=ct.transform(X_test)\n",
        "\n",
        "#4. 오버샘플링\n",
        "smote = SMOTE(random_state=0)\n",
        "X_train_over, Y_train_over = smote.fit_resample(X_train, Y_train)"
      ],
      "metadata": {
        "id": "EoIDjAwQdHdX"
      },
      "execution_count": 19,
      "outputs": []
    },
    {
      "cell_type": "code",
      "source": [
        "#5. 모델링\n",
        "from sklearn.neural_network import MLPClassifier\n",
        "nn_model = MLPClassifier(random_state=0, alpha = 0.001, hidden_layer_sizes = [50])\n",
        "## 5-1. 모형학습\n",
        "nn_model.fit(X_train, Y_train)\n",
        "\n",
        "#6. 예측\n",
        "Y_pred = nn_model.predict(X_test)"
      ],
      "metadata": {
        "colab": {
          "base_uri": "https://localhost:8080/"
        },
        "id": "Qz_nWIhGgZEc",
        "outputId": "24215ca0-9786-4772-d7ba-9ae00af1caeb"
      },
      "execution_count": 20,
      "outputs": [
        {
          "output_type": "stream",
          "name": "stderr",
          "text": [
            "/usr/local/lib/python3.8/dist-packages/sklearn/neural_network/_multilayer_perceptron.py:692: ConvergenceWarning: Stochastic Optimizer: Maximum iterations (200) reached and the optimization hasn't converged yet.\n",
            "  warnings.warn(\n"
          ]
        }
      ]
    },
    {
      "cell_type": "code",
      "source": [
        "#7. 결과값 보고\n",
        "print (\"Y 예측값\\n\", Y_pred)\n",
        "print(\"accuracy(train) : {:.3f}\".format(nn_model.score(X_train, Y_train)))\n",
        "from sklearn.metrics import classification_report\n",
        "print(classification_report(Y_test, Y_pred))"
      ],
      "metadata": {
        "colab": {
          "base_uri": "https://localhost:8080/"
        },
        "id": "5_Qsp9BWhaAi",
        "outputId": "7d5784db-4fce-49b1-fec6-96ced37dd801"
      },
      "execution_count": 22,
      "outputs": [
        {
          "output_type": "stream",
          "name": "stdout",
          "text": [
            "Y 예측값\n",
            " [1 1 0 0 1 1 0 0 0 1 0 0 1 0 1 0 1 0 0 0 0 1 0 0 1 1 0 0 0 0 1 1 1 1 1 1 1\n",
            " 0 1 0 0 1 1 1 0 0 1 0 0 0 1 0 0 0 1 1 0 1 1 1 0 1 1 0 0 0 1 0 0 0 1 0 0 0\n",
            " 1 0 0 0 0 1 0 0 0 1 1 1 0 0 1 0 1 0 0 0 0 1 1 0 0 0 1 1 0 1 0 1 1 0 1 1 0\n",
            " 1 0 0 0 0 0 0 0 0 1 0 0 1 0 1 0 0 1 1 0 0 1 1 1 1 0 1 0 1 0 0 0 0 0 1 0 0\n",
            " 1 1 0 0 0 0 0 1 0 0 0 0 1 1 0 0 1 0 0 1 0 0 0 1 0 1 0 0 0 0 1 0 0 0 0 0 1\n",
            " 0 0 1 1 1 0 1 0 1 1 1 1 0 1 0 0 1 0 1 1 0 1 1 0 1 0 0 0 1 0 1 0 0 0 0 1 1\n",
            " 1 0 0 1 1 0 0 1 0 0 0 0 0 0 0 0 0 0 0 0 0 0 1 0 1 0 1 1 0 1 0 0 0 1 1 0 0\n",
            " 0 1 1 0 0 0 0 0 0 1 0 1 1 0 0 1 1 0 0 0 0 1 1 0 1 0 0 1 0 0 0 1 0 1 1 0 0\n",
            " 0 0 0 0]\n",
            "accuracy(train) : 0.923\n",
            "              precision    recall  f1-score   support\n",
            "\n",
            "           0       0.91      0.94      0.93       177\n",
            "           1       0.91      0.87      0.89       123\n",
            "\n",
            "    accuracy                           0.91       300\n",
            "   macro avg       0.91      0.91      0.91       300\n",
            "weighted avg       0.91      0.91      0.91       300\n",
            "\n"
          ]
        }
      ]
    },
    {
      "cell_type": "code",
      "source": [
        "df.columns"
      ],
      "metadata": {
        "colab": {
          "base_uri": "https://localhost:8080/"
        },
        "id": "IAiZ8DeJopoP",
        "outputId": "7aab084e-93cf-4a76-86db-437ee024e9d0"
      },
      "execution_count": 23,
      "outputs": [
        {
          "output_type": "execute_result",
          "data": {
            "text/plain": [
              "Index(['고객ID', '이탈여부', '총매출액', '구매금액대', '방문빈도', '1회 평균매출액', '할인권 사용 횟수',\n",
              "       '총 할인 금액', '고객등급', '구매유형', '클레임접수여부', '구매카테고리수', '거주지역', '성별', '고객 나이대',\n",
              "       '거래기간', '할인민감여부', 'Recency', 'Frequency', 'Monetary', '평균 구매주기'],\n",
              "      dtype='object')"
            ]
          },
          "metadata": {},
          "execution_count": 23
        }
      ]
    },
    {
      "cell_type": "code",
      "source": [
        "#예측\n",
        "import numpy as np\n",
        "\n",
        "#1.변수선택\n",
        "X = df[df.이탈여부 == 0][[\"방문빈도\", \"총 할인 금액\",\"고객등급\",\"구매유형\",\"거래기간\",\n",
        "                   \"할인민감여부\",\"평균 구매주기\"]]\n",
        "Y = df[df.이탈여부 == 0][\"1회 평균매출액\"]\n",
        "\n",
        "#2.train - test split\n",
        "X_train, X_test, Y_train, Y_test = train_test_split(X,Y,test_size=0.3, random_state=0)\n",
        "\n",
        "#3. 데이터 전처리(preprocessing)\n",
        "\n",
        "ct = ColumnTransformer([(\"scaling\", StandardScaler(),['방문빈도','총 할인 금액','평균 구매주기','거래기간']), \n",
        "                        (\"onehot\", OneHotEncoder(sparse = False),['고객등급','구매유형','할인민감여부'])])\n",
        "ct.fit(X_train)\n",
        "X_train=ct.transform(X_train)\n",
        "X_test=ct.transform(X_test)\n",
        "\n"
      ],
      "metadata": {
        "id": "BQcfohznjJW0"
      },
      "execution_count": 26,
      "outputs": []
    },
    {
      "cell_type": "code",
      "source": [
        "#4. 모델링\n",
        "from sklearn.neural_network import MLPRegressor\n",
        "\n",
        "nn_reg_model = MLPRegressor(random_state=0, alpha=0.001, max_iter= 2000,\n",
        "                            hidden_layer_sizes= [50,50])\n",
        "\n",
        "\n",
        "\n",
        "#4-1 모델 생성\n",
        "nn_reg_model.fit(X_train,Y_train)\n",
        "Y_pred = nn_reg_model.predict(X_test)\n",
        "\n",
        "#6. 결과값 보고\n",
        "print(\"Y predict value : \\n\", Y_pred)\n",
        "print(\"train accuracy : {:.3f}\".format(nn_reg_model.score(X_train, Y_train)))\n",
        "from sklearn.metrics import mean_squared_error\n",
        "from math import sqrt\n",
        "rmse = sqrt (mean_squared_error(Y_test, Y_pred))\n",
        "print(\"RMSE : {:.3f}\".format(rmse))"
      ],
      "metadata": {
        "colab": {
          "base_uri": "https://localhost:8080/"
        },
        "id": "E0YGR8miqEF2",
        "outputId": "eac56442-3cb5-4478-ac75-3a1500b2efe1"
      },
      "execution_count": 29,
      "outputs": [
        {
          "output_type": "stream",
          "name": "stdout",
          "text": [
            "Y predict value : \n",
            " [380943.93573227 197165.8390128  203010.31766935 631509.29864294\n",
            " 109752.03907415 288254.26609973   8822.1862865  152800.9597391\n",
            " 137090.39090439 303583.93065315 235848.11455972 254076.31154317\n",
            " 218156.93035032 237725.58337219 348568.69354035 300687.97279636\n",
            " 403952.6137117  444705.79112397 212138.89193483 299147.26439895\n",
            " 465946.52151328 107394.31484814 257921.46198589 358409.83138154\n",
            "   5148.09384091 462207.51529926 399687.7965142  179564.49117644\n",
            " 186432.7220686  209073.88520174 400749.25172964 465881.40965026\n",
            " 221052.83701565 459519.69371281 223145.70255094 112487.16698261\n",
            " 186428.67082741 458788.84052785 132138.37577458 714289.2181063\n",
            " 347206.59685524 177910.49224385 295482.62393214 312699.17343593\n",
            " 282978.20375824 375579.14322421  10550.54220111 228819.15019819\n",
            " 359843.94140834 364024.37043787 218845.36829625 641657.00944289\n",
            "  36177.1291392  432198.572089   369086.43732178 230089.44459979\n",
            " 351051.37631758 266979.92163653 325819.45136793 288832.35677816\n",
            " 388130.42979669 466521.57535173 249590.34047525 327300.5383992\n",
            " 229031.76382814 165565.41903507 250218.33243046 106835.04217257\n",
            " 428783.87511214 276492.79139434 252687.50216362 170627.14850946\n",
            " 138112.35982045 275237.88583667 208519.82137133 464611.2887736\n",
            " 403277.66742685 507502.57066389 132512.81760056 279462.54803388\n",
            " 235304.09120423 203621.22878294 156753.77966916 230945.72324735\n",
            " 310083.61030032 381810.30756606 324964.02683471 312630.34222385\n",
            " 305786.08384044 426609.52475814 230117.17189138 444233.24798116\n",
            " 297928.81359275 471860.09462788 152566.19084109 549348.64471328\n",
            " 373585.86916114 275716.59376592 460133.2112293  154833.91389274\n",
            " 215349.13788187 298179.19827185 366098.03129271 208821.80981698\n",
            " 299143.39450764 415055.20055105 424886.5220228   65542.60541022\n",
            " 265128.91197814 403020.80667748 209889.07623699 128253.77450938\n",
            " 385260.30960036 509311.01100967 220318.55753876 258447.65937387\n",
            " 274781.07519633 376959.33031604 273870.93272225 352933.15021169\n",
            " 369818.90169568 454296.57326819 213057.66923538 391560.77038084\n",
            " 431773.68009415 207449.81924063 171679.32478794 291081.86527554\n",
            " 420888.20487589 199633.95527738 147103.47591964 130069.02641883\n",
            " 570638.70189052 253913.42449349 137996.16475507 296188.89323042\n",
            " 161695.35610663 152148.04767085 317421.55648049 185729.22391089\n",
            " 234329.57675787 249097.00053962 321809.37503635 178674.14262416\n",
            " 238166.47605894 355997.59270153 350787.24353137 444948.55543614\n",
            " 251120.47305979 280059.61033839 234518.58266792 362888.86635743\n",
            " 271604.89960052 430177.39993137 875468.58004311  85609.87047571\n",
            "  46664.83730762 441631.63567761 242738.76406907 344807.28825926\n",
            " 462149.55916302 432819.36012535 355204.9511033  157685.22446601\n",
            " 281321.90134519 303626.41586429 403540.11305435 141734.1571223\n",
            " 391679.25929991 291555.81736204   9460.63644256 241624.69736779\n",
            " 122883.0200146  596778.56186452 203876.93154201 345336.58755526\n",
            " 864890.53990308 235668.38706102 307100.09173245 130879.26294487\n",
            " 756739.88884473 963027.15649127 399038.51892845 405881.3494272\n",
            " 189630.18637174 118471.59041195 270840.65362772 216403.85221224\n",
            "  15614.37730878 439143.11971711 285911.21911142 383441.40069134\n",
            " 712914.17625144 149453.00998677 257890.64966959 218782.01965736\n",
            " 230839.10321554 154056.02000401 413677.0215037  107185.3012603\n",
            " 605021.57679572 168519.62868851 260864.62862803 200978.75145417\n",
            " 346370.62299952 253995.88634853 270320.91884581 246989.59865865\n",
            " 415685.11304835 284390.28211338]\n",
            "train accuracy : 0.434\n",
            "RMSE : 201157.598\n"
          ]
        },
        {
          "output_type": "stream",
          "name": "stderr",
          "text": [
            "/usr/local/lib/python3.8/dist-packages/sklearn/neural_network/_multilayer_perceptron.py:692: ConvergenceWarning: Stochastic Optimizer: Maximum iterations (2000) reached and the optimization hasn't converged yet.\n",
            "  warnings.warn(\n"
          ]
        }
      ]
    }
  ]
}