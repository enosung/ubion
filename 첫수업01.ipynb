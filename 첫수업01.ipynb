{
  "nbformat": 4,
  "nbformat_minor": 0,
  "metadata": {
    "colab": {
      "provenance": [],
      "authorship_tag": "ABX9TyONGoUHRzqwDiP8x7OPWXjd",
      "include_colab_link": true
    },
    "kernelspec": {
      "name": "python3",
      "display_name": "Python 3"
    },
    "language_info": {
      "name": "python"
    }
  },
  "cells": [
    {
      "cell_type": "markdown",
      "metadata": {
        "id": "view-in-github",
        "colab_type": "text"
      },
      "source": [
        "<a href=\"https://colab.research.google.com/github/enosung/ubion/blob/main/%EC%B2%AB%EC%88%98%EC%97%8501.ipynb\" target=\"_parent\"><img src=\"https://colab.research.google.com/assets/colab-badge.svg\" alt=\"Open In Colab\"/></a>"
      ]
    },
    {
      "cell_type": "markdown",
      "source": [
        "###빅데이터 마케팅 전문가 과정\n",
        "#김효성\n",
        "###### 2022.12.29\n"
      ],
      "metadata": {
        "id": "2eS9_9REN4mA"
      }
    },
    {
      "cell_type": "markdown",
      "source": [],
      "metadata": {
        "id": "Gxg47nSsN4N3"
      }
    },
    {
      "cell_type": "code",
      "execution_count": null,
      "metadata": {
        "colab": {
          "base_uri": "https://localhost:8080/"
        },
        "id": "_jUZH9j0MuU2",
        "outputId": "e06ffe31-ab29-41da-ef38-d016faad2a8a"
      },
      "outputs": [
        {
          "output_type": "stream",
          "name": "stdout",
          "text": [
            "HELLO WORLD!\n"
          ]
        }
      ],
      "source": [
        "print(\"HELLO WORLD!\") # HELLO WORLD!를 나타내줘\n",
        "\n",
        "# 변수명은 대문자, 소문자를 구분\n",
        "#  예약어를 사용하면 안됨\n",
        "# 공백, 기호는 사용불가.(공백 대신 _ 를 사용)\n",
        "# 첫 글자가 숫자이면 안됩니다."
      ]
    },
    {
      "cell_type": "code",
      "source": [
        "a = \"python\"       #쌍따옴표로 문자건 숫자건 내가 지정한 변수a에 내용을 나타내줘"
      ],
      "metadata": {
        "id": "kEELL0N7O-2W"
      },
      "execution_count": null,
      "outputs": []
    },
    {
      "cell_type": "code",
      "source": [
        "a   #a 출력"
      ],
      "metadata": {
        "colab": {
          "base_uri": "https://localhost:8080/",
          "height": 35
        },
        "id": "hCxzrVwNPUl6",
        "outputId": "5edad3c3-ab9f-4dfc-bcd6-894be1342a82"
      },
      "execution_count": null,
      "outputs": [
        {
          "output_type": "execute_result",
          "data": {
            "text/plain": [
              "'python'"
            ],
            "application/vnd.google.colaboratory.intrinsic+json": {
              "type": "string"
            }
          },
          "metadata": {},
          "execution_count": 10
        }
      ]
    },
    {
      "cell_type": "code",
      "source": [
        "print(a)  #print 함수로 a 출력"
      ],
      "metadata": {
        "colab": {
          "base_uri": "https://localhost:8080/"
        },
        "id": "b4hHy4fRPX5s",
        "outputId": "0d263f21-6822-4f11-c62c-179355bc6b14"
      },
      "execution_count": null,
      "outputs": [
        {
          "output_type": "stream",
          "name": "stdout",
          "text": [
            "python\n"
          ]
        }
      ]
    },
    {
      "cell_type": "code",
      "source": [
        "del a # 삭제해 a 변수"
      ],
      "metadata": {
        "id": "bigRfpiCP1nD"
      },
      "execution_count": null,
      "outputs": []
    },
    {
      "cell_type": "code",
      "source": [
        "print(a) #a변수 출력해줘 / 이전에 del 함수로 a변수 삭제해서 에러발생"
      ],
      "metadata": {
        "colab": {
          "base_uri": "https://localhost:8080/",
          "height": 174
        },
        "id": "9oe2kjkZP5T9",
        "outputId": "fe7a7a25-133a-4d42-8225-ab347885adc9"
      },
      "execution_count": null,
      "outputs": [
        {
          "output_type": "error",
          "ename": "NameError",
          "evalue": "ignored",
          "traceback": [
            "\u001b[0;31m---------------------------------------------------------------------------\u001b[0m",
            "\u001b[0;31mNameError\u001b[0m                                 Traceback (most recent call last)",
            "\u001b[0;32m<ipython-input-14-bca0e2660b9f>\u001b[0m in \u001b[0;36m<module>\u001b[0;34m\u001b[0m\n\u001b[0;32m----> 1\u001b[0;31m \u001b[0mprint\u001b[0m\u001b[0;34m(\u001b[0m\u001b[0ma\u001b[0m\u001b[0;34m)\u001b[0m\u001b[0;34m\u001b[0m\u001b[0;34m\u001b[0m\u001b[0m\n\u001b[0m",
            "\u001b[0;31mNameError\u001b[0m: name 'a' is not defined"
          ]
        }
      ]
    },
    {
      "cell_type": "code",
      "source": [
        "a = 2   #a 변수 선언하고 a에 2라는 숫자를 지정"
      ],
      "metadata": {
        "id": "MuZaCZQZQFb_"
      },
      "execution_count": null,
      "outputs": []
    },
    {
      "cell_type": "code",
      "source": [
        "print (a)  #print 함수로 a 출력   출력값 : 2"
      ],
      "metadata": {
        "colab": {
          "base_uri": "https://localhost:8080/"
        },
        "id": "6DXMu1E6QXhD",
        "outputId": "c5624f88-ad11-4702-8cd6-fe5f75a19d9c"
      },
      "execution_count": null,
      "outputs": [
        {
          "output_type": "stream",
          "name": "stdout",
          "text": [
            "2\n"
          ]
        }
      ]
    },
    {
      "cell_type": "code",
      "source": [
        "b = 4 #b 변수 선언하고 b에 4라는 숫자를 지정"
      ],
      "metadata": {
        "id": "xQ0CWepsQkl7"
      },
      "execution_count": null,
      "outputs": []
    },
    {
      "cell_type": "code",
      "source": [
        "print (b) #print 함수로 b출력"
      ],
      "metadata": {
        "colab": {
          "base_uri": "https://localhost:8080/"
        },
        "id": "QvHxhD-RQm4i",
        "outputId": "77c33afc-3f2d-454c-bcf6-de597ad6201f"
      },
      "execution_count": null,
      "outputs": [
        {
          "output_type": "stream",
          "name": "stdout",
          "text": [
            "4\n"
          ]
        }
      ]
    },
    {
      "cell_type": "code",
      "source": [
        "a+b\n",
        "# a변수+b변수 "
      ],
      "metadata": {
        "colab": {
          "base_uri": "https://localhost:8080/"
        },
        "id": "6qeHAaT3Qqua",
        "outputId": "fb316c7a-7d55-4bff-9678-257fc2bc6ccb"
      },
      "execution_count": null,
      "outputs": [
        {
          "output_type": "execute_result",
          "data": {
            "text/plain": [
              "6"
            ]
          },
          "metadata": {},
          "execution_count": 23
        }
      ]
    },
    {
      "cell_type": "code",
      "source": [
        "a*b\n",
        "#a*b 곱"
      ],
      "metadata": {
        "colab": {
          "base_uri": "https://localhost:8080/"
        },
        "id": "BrSx0VqsQxHd",
        "outputId": "b7dee157-7f1f-46d0-c826-c4c2d1da4eef"
      },
      "execution_count": null,
      "outputs": [
        {
          "output_type": "execute_result",
          "data": {
            "text/plain": [
              "8"
            ]
          },
          "metadata": {},
          "execution_count": 22
        }
      ]
    },
    {
      "cell_type": "code",
      "source": [
        "a/b\n",
        "# a변수 ÷ b 변수"
      ],
      "metadata": {
        "colab": {
          "base_uri": "https://localhost:8080/"
        },
        "id": "E3EWnLEwRCeW",
        "outputId": "ea47fb46-c848-48fd-b127-ee44f17f1e09"
      },
      "execution_count": null,
      "outputs": [
        {
          "output_type": "execute_result",
          "data": {
            "text/plain": [
              "0.5"
            ]
          },
          "metadata": {},
          "execution_count": 24
        }
      ]
    },
    {
      "cell_type": "code",
      "source": [
        "a = 123   #a 변수 선언하고 a에 123라는 숫자를 지정"
      ],
      "metadata": {
        "id": "KzfgkrePRREx"
      },
      "execution_count": null,
      "outputs": []
    },
    {
      "cell_type": "code",
      "source": [
        "type(a)\n",
        "# type함수로 변수 a의 타입은 어떤건지 출력 /   현재  int  정수"
      ],
      "metadata": {
        "colab": {
          "base_uri": "https://localhost:8080/"
        },
        "id": "5x7VqPPFRVXt",
        "outputId": "05714ca2-269f-42e0-98ca-18284e457c9c"
      },
      "execution_count": null,
      "outputs": [
        {
          "output_type": "execute_result",
          "data": {
            "text/plain": [
              "int"
            ]
          },
          "metadata": {},
          "execution_count": 27
        }
      ]
    },
    {
      "cell_type": "code",
      "source": [
        "b = 123.1 #b 변수 선언하고 b에 123.1 라는 소수점을 지정"
      ],
      "metadata": {
        "id": "f_ukAYmBRfzm"
      },
      "execution_count": null,
      "outputs": []
    },
    {
      "cell_type": "code",
      "source": [
        "type(b)\n",
        "# type함수로 변수 a의 타입은 어떤건지 출력  (float 실수/소수점을 포함한 숫자)"
      ],
      "metadata": {
        "colab": {
          "base_uri": "https://localhost:8080/"
        },
        "id": "GVOI8Z3KRiLY",
        "outputId": "58aa4322-b06e-4842-9c33-53ce7cd63897"
      },
      "execution_count": null,
      "outputs": [
        {
          "output_type": "execute_result",
          "data": {
            "text/plain": [
              "float"
            ]
          },
          "metadata": {},
          "execution_count": 29
        }
      ]
    },
    {
      "cell_type": "code",
      "source": [
        "c = a+b  # c변수 생성하고 c변수에 a변수+b변수를 넣어줘"
      ],
      "metadata": {
        "id": "zPGOLvzURoMw"
      },
      "execution_count": null,
      "outputs": []
    },
    {
      "cell_type": "code",
      "source": [
        "c  # c 를 출력"
      ],
      "metadata": {
        "colab": {
          "base_uri": "https://localhost:8080/"
        },
        "id": "B4J9Psa9RuxJ",
        "outputId": "3689cee2-31a0-417c-9fe4-bf2cb92d9fff"
      },
      "execution_count": null,
      "outputs": [
        {
          "output_type": "execute_result",
          "data": {
            "text/plain": [
              "246.1"
            ]
          },
          "metadata": {},
          "execution_count": 31
        }
      ]
    },
    {
      "cell_type": "code",
      "source": [
        "type(c) # type함수로 변수 a의 타입은 어떤건지 출력  (float 실수/소수점을 포함한 숫자)"
      ],
      "metadata": {
        "colab": {
          "base_uri": "https://localhost:8080/"
        },
        "id": "o-eB-6azRw1m",
        "outputId": "1c41c19d-f583-491f-98ef-6f42e5ace525"
      },
      "execution_count": null,
      "outputs": [
        {
          "output_type": "execute_result",
          "data": {
            "text/plain": [
              "float"
            ]
          },
          "metadata": {},
          "execution_count": 32
        }
      ]
    },
    {
      "cell_type": "code",
      "source": [
        "type(int(c)) #타입을 int함수를 이용해서 c변수를  정수로 변경해줘"
      ],
      "metadata": {
        "colab": {
          "base_uri": "https://localhost:8080/"
        },
        "id": "a95s5dlKRzJD",
        "outputId": "914fbbe2-bc62-4668-dc5d-660053ec123a"
      },
      "execution_count": null,
      "outputs": [
        {
          "output_type": "execute_result",
          "data": {
            "text/plain": [
              "int"
            ]
          },
          "metadata": {},
          "execution_count": 33
        }
      ]
    },
    {
      "cell_type": "code",
      "source": [
        "d = \"python\"   # d 변수 만들고 b변수안에 python를 넣어줘"
      ],
      "metadata": {
        "id": "5R9LhaxKR-Wr"
      },
      "execution_count": null,
      "outputs": []
    },
    {
      "cell_type": "code",
      "source": [
        "type(d)\n",
        "# type함수로 변수 d의 타입은 어떤건지 출력 / str 문자 "
      ],
      "metadata": {
        "colab": {
          "base_uri": "https://localhost:8080/"
        },
        "id": "iVPbyjUSSLND",
        "outputId": "3974b0aa-e475-42d1-fbeb-9dadc54a3257"
      },
      "execution_count": null,
      "outputs": [
        {
          "output_type": "execute_result",
          "data": {
            "text/plain": [
              "str"
            ]
          },
          "metadata": {},
          "execution_count": 35
        }
      ]
    },
    {
      "cell_type": "code",
      "source": [
        "3**3\n",
        "# 숫자제곱    숫자**숫자"
      ],
      "metadata": {
        "colab": {
          "base_uri": "https://localhost:8080/"
        },
        "id": "_CPL2dAeSVKr",
        "outputId": "e2bb3e74-680c-4ad1-a566-6c30431ad1a4"
      },
      "execution_count": null,
      "outputs": [
        {
          "output_type": "execute_result",
          "data": {
            "text/plain": [
              "27"
            ]
          },
          "metadata": {},
          "execution_count": 37
        }
      ]
    },
    {
      "cell_type": "code",
      "source": [
        "3**0.5\n",
        "#루트는 제곱에 2/1이니까 파이썬에서는  0.5소수 /  **0.5로 표현"
      ],
      "metadata": {
        "colab": {
          "base_uri": "https://localhost:8080/"
        },
        "id": "8g8oi_H2ShVy",
        "outputId": "a1e31a51-9f9e-4334-e59c-d16e01c554e9"
      },
      "execution_count": null,
      "outputs": [
        {
          "output_type": "execute_result",
          "data": {
            "text/plain": [
              "1.7320508075688772"
            ]
          },
          "metadata": {},
          "execution_count": 38
        }
      ]
    },
    {
      "cell_type": "code",
      "source": [
        "13/4\n",
        "# 13÷4"
      ],
      "metadata": {
        "colab": {
          "base_uri": "https://localhost:8080/"
        },
        "id": "yqenvoL2S0M6",
        "outputId": "ca2cfb84-b23e-4e50-d704-06ad09c37e8a"
      },
      "execution_count": null,
      "outputs": [
        {
          "output_type": "execute_result",
          "data": {
            "text/plain": [
              "3.25"
            ]
          },
          "metadata": {},
          "execution_count": 39
        }
      ]
    },
    {
      "cell_type": "code",
      "source": [
        "13//4\n",
        "#13÷4 정수만 뽑을땐 // 사용 "
      ],
      "metadata": {
        "colab": {
          "base_uri": "https://localhost:8080/"
        },
        "id": "osvnLfZCS7Ki",
        "outputId": "bf287136-cad9-49ab-be98-501b8dca1136"
      },
      "execution_count": null,
      "outputs": [
        {
          "output_type": "execute_result",
          "data": {
            "text/plain": [
              "3"
            ]
          },
          "metadata": {},
          "execution_count": 40
        }
      ]
    },
    {
      "cell_type": "code",
      "source": [
        "13%4\n",
        "#13÷4 나누고 나머지값을 출력 "
      ],
      "metadata": {
        "colab": {
          "base_uri": "https://localhost:8080/"
        },
        "id": "4LIwZpcYTGNZ",
        "outputId": "cc51d45a-df25-4f8e-d369-bd1cac4af5da"
      },
      "execution_count": null,
      "outputs": [
        {
          "output_type": "execute_result",
          "data": {
            "text/plain": [
              "1"
            ]
          },
          "metadata": {},
          "execution_count": 41
        }
      ]
    },
    {
      "cell_type": "code",
      "source": [
        "print (\"ubion's the best.\")"
      ],
      "metadata": {
        "colab": {
          "base_uri": "https://localhost:8080/"
        },
        "id": "9oy9MS1ETH9Y",
        "outputId": "0242c51f-c969-431c-8378-1add9985fe97"
      },
      "execution_count": null,
      "outputs": [
        {
          "output_type": "stream",
          "name": "stdout",
          "text": [
            "ubion's the best.\n"
          ]
        }
      ]
    },
    {
      "cell_type": "code",
      "source": [
        "print(\"ubion isn't the best\")"
      ],
      "metadata": {
        "colab": {
          "base_uri": "https://localhost:8080/"
        },
        "id": "IqZ8yiy1TeS_",
        "outputId": "d4bef95a-3d76-49f2-f306-e09e5fc73365"
      },
      "execution_count": null,
      "outputs": [
        {
          "output_type": "stream",
          "name": "stdout",
          "text": [
            "ubion isn't the best\n"
          ]
        }
      ]
    },
    {
      "cell_type": "code",
      "source": [
        "print('ubion isn\\'t the best')\n",
        "# 쌍따옴표가 아닌 따옴표를 쓸때 \\'를 쓰면 '따옴표를 쓸수있다"
      ],
      "metadata": {
        "colab": {
          "base_uri": "https://localhost:8080/"
        },
        "id": "Dsdjx2a7T3cX",
        "outputId": "1aef6fec-2422-42a3-9531-baed90fef97e"
      },
      "execution_count": null,
      "outputs": [
        {
          "output_type": "stream",
          "name": "stdout",
          "text": [
            "ubion isn't the best\n"
          ]
        }
      ]
    },
    {
      "cell_type": "code",
      "source": [
        "print('ubion isn\\'     t the best') #붙여주는 기능은 없는거 같다. \\를 이용해서 따옴표만 쓸수있는듯"
      ],
      "metadata": {
        "colab": {
          "base_uri": "https://localhost:8080/"
        },
        "id": "ALGE5TAGg50q",
        "outputId": "ec846af7-258a-4bd5-ecb0-68b8d1164d89"
      },
      "execution_count": 1,
      "outputs": [
        {
          "output_type": "stream",
          "name": "stdout",
          "text": [
            "ubion isn'     t the best\n"
          ]
        }
      ]
    },
    {
      "cell_type": "code",
      "source": [
        "print('ubion is the best.\\n ubion isn\\'t the best')\n",
        "#\\n 을 이용해서 뛰어쓰기"
      ],
      "metadata": {
        "colab": {
          "base_uri": "https://localhost:8080/"
        },
        "id": "L82JSgqBUfqN",
        "outputId": "2f6edbba-c5f5-429a-a48e-55d9d11b7cb9"
      },
      "execution_count": 2,
      "outputs": [
        {
          "output_type": "stream",
          "name": "stdout",
          "text": [
            "ubion is the best.\n",
            " ubion isn't the best\n"
          ]
        }
      ]
    },
    {
      "cell_type": "code",
      "source": [
        "a = \"ubion is the best.\" #변수 a 만들고 변수a에 ubion is the best. 넣어줘"
      ],
      "metadata": {
        "id": "75G_fB_cS_q1"
      },
      "execution_count": null,
      "outputs": []
    },
    {
      "cell_type": "code",
      "source": [
        "b = \"ubion isn't the best\" #변수 b 만들고 변수b에 ubion isn't the best 넣어줘"
      ],
      "metadata": {
        "id": "oB1EpkP6Vvon"
      },
      "execution_count": null,
      "outputs": []
    },
    {
      "cell_type": "code",
      "source": [
        "ubion = a+b    # a변수 + b변수를 더해서 변수 ubion 에 넣어줘"
      ],
      "metadata": {
        "id": "vHF9z5AfV2Vo"
      },
      "execution_count": null,
      "outputs": []
    },
    {
      "cell_type": "code",
      "source": [
        "print(ubion)   # print로 ubion 변수 출력\n",
        "# a와b 변수를 더한값을 ubion 값으로 출력"
      ],
      "metadata": {
        "colab": {
          "base_uri": "https://localhost:8080/"
        },
        "id": "YjjCfCbXV5aZ",
        "outputId": "32d89bb3-63e7-48dd-ab5c-990347563a05"
      },
      "execution_count": null,
      "outputs": [
        {
          "output_type": "stream",
          "name": "stdout",
          "text": [
            "ubion is the bestubion isn't the best\n"
          ]
        }
      ]
    },
    {
      "cell_type": "code",
      "source": [
        "a*20\n",
        "# a변수를 20번 출력"
      ],
      "metadata": {
        "colab": {
          "base_uri": "https://localhost:8080/",
          "height": 72
        },
        "id": "1aGft2cOWXz2",
        "outputId": "3967f8a7-2d07-4e44-f661-748157f72ac1"
      },
      "execution_count": null,
      "outputs": [
        {
          "output_type": "execute_result",
          "data": {
            "text/plain": [
              "'ubion is the bestubion is the bestubion is the bestubion is the bestubion is the bestubion is the bestubion is the bestubion is the bestubion is the bestubion is the bestubion is the bestubion is the bestubion is the bestubion is the bestubion is the bestubion is the bestubion is the bestubion is the bestubion is the bestubion is the best'"
            ],
            "application/vnd.google.colaboratory.intrinsic+json": {
              "type": "string"
            }
          },
          "metadata": {},
          "execution_count": 54
        }
      ]
    },
    {
      "cell_type": "code",
      "source": [
        "print(\"-\"*40)\n",
        "print(a*2)\n",
        "print(\"-\"*30)\n",
        "# - 를 40번 곱해서 출력\n",
        "# a변수값을  2번 출력\n",
        "# -를 30번 곱한값 출력"
      ],
      "metadata": {
        "colab": {
          "base_uri": "https://localhost:8080/"
        },
        "id": "p_DMlS_5ZbbO",
        "outputId": "3713737d-909d-438c-9fee-f349001cca1d"
      },
      "execution_count": null,
      "outputs": [
        {
          "output_type": "stream",
          "name": "stdout",
          "text": [
            "----------------------------------------\n",
            "ubion is the best.ubion is the best.\n",
            "------------------------------\n"
          ]
        }
      ]
    },
    {
      "cell_type": "code",
      "source": [
        "\"유비온은 최고의 교육기간이다.\"[0:3]\n",
        "# [a:b] : a<- x <b]\n",
        "# [a(열):b(행)] : a<- x <b]\n",
        "#a보다 크거나 같고, b보다 작은 인덱스를 꺼내온다."
      ],
      "metadata": {
        "colab": {
          "base_uri": "https://localhost:8080/",
          "height": 35
        },
        "id": "KJMigeEkaV1m",
        "outputId": "3b4d48a7-af30-41fc-f9f1-e1743f42ca11"
      },
      "execution_count": null,
      "outputs": [
        {
          "output_type": "execute_result",
          "data": {
            "text/plain": [
              "'유비온'"
            ],
            "application/vnd.google.colaboratory.intrinsic+json": {
              "type": "string"
            }
          },
          "metadata": {},
          "execution_count": 66
        }
      ]
    },
    {
      "cell_type": "code",
      "source": [
        "\"유비온은 최고의 교육기간이다.\"[-3]\n",
        "#-2는 뒤에서 3번째만 불러와라\n"
      ],
      "metadata": {
        "colab": {
          "base_uri": "https://localhost:8080/",
          "height": 35
        },
        "id": "81otYpRlcwHD",
        "outputId": "b19af978-a6cf-4e27-d995-e69971ac83aa"
      },
      "execution_count": null,
      "outputs": [
        {
          "output_type": "execute_result",
          "data": {
            "text/plain": [
              "'이'"
            ],
            "application/vnd.google.colaboratory.intrinsic+json": {
              "type": "string"
            }
          },
          "metadata": {},
          "execution_count": 95
        }
      ]
    },
    {
      "cell_type": "code",
      "source": [
        "\"유비온은 최고의 교육기간이다.\"[5:3]\n",
        "# 앞 숫자는 앞에 몇번째부터 / 뒷 숫자는 몇번째까지 이며 해당되는 구간을 출력해달라는 뜻이다 "
      ],
      "metadata": {
        "colab": {
          "base_uri": "https://localhost:8080/",
          "height": 36
        },
        "id": "Kh3L7flZnpZ6",
        "outputId": "932988b1-60dc-451a-a3dc-0b10696ff7f1"
      },
      "execution_count": 5,
      "outputs": [
        {
          "output_type": "execute_result",
          "data": {
            "text/plain": [
              "''"
            ],
            "application/vnd.google.colaboratory.intrinsic+json": {
              "type": "string"
            }
          },
          "metadata": {},
          "execution_count": 5
        }
      ]
    },
    {
      "cell_type": "code",
      "source": [
        "first_name = \"hyosung kim \"[:7]\n",
        "print(first_name)\n",
        "# 처음부터 7번째 까지 불러와줘"
      ],
      "metadata": {
        "colab": {
          "base_uri": "https://localhost:8080/"
        },
        "id": "eSGew0m3d7p8",
        "outputId": "797bfde2-7c4c-4b86-c763-dcc686e5a8fb"
      },
      "execution_count": null,
      "outputs": [
        {
          "output_type": "stream",
          "name": "stdout",
          "text": [
            "hyosung\n"
          ]
        }
      ]
    },
    {
      "cell_type": "code",
      "source": [
        "last_name = \"hyosung kim\"[8:]\n",
        "print(last_name)\n",
        "# 8번째부터 마지막까지 불러와줘"
      ],
      "metadata": {
        "colab": {
          "base_uri": "https://localhost:8080/"
        },
        "id": "RcdSlhpOekZx",
        "outputId": "51ab9ef8-d8d9-4f94-81a1-15075290cee5"
      },
      "execution_count": null,
      "outputs": [
        {
          "output_type": "stream",
          "name": "stdout",
          "text": [
            "kim\n"
          ]
        }
      ]
    },
    {
      "cell_type": "code",
      "source": [
        "name = \"hyosung kim\"\n",
        "len(name)\n",
        "#문자열이(문자의 갯수) 몇개인지 출력"
      ],
      "metadata": {
        "colab": {
          "base_uri": "https://localhost:8080/"
        },
        "id": "cLYDOe-TfA2t",
        "outputId": "fd90b867-83eb-456c-9028-9e8fdf4f659e"
      },
      "execution_count": 10,
      "outputs": [
        {
          "output_type": "execute_result",
          "data": {
            "text/plain": [
              "11"
            ]
          },
          "metadata": {},
          "execution_count": 10
        }
      ]
    },
    {
      "cell_type": "code",
      "source": [
        "first_name = \"hyosung kim \"[-4:-1]\n",
        "print(first_name)\n",
        "#뒤에서 4번째부터 마지막1번까지 출력"
      ],
      "metadata": {
        "colab": {
          "base_uri": "https://localhost:8080/"
        },
        "id": "Lmp4SsHxg3gu",
        "outputId": "2faca490-6a62-4ec0-a770-92184b3f9bc4"
      },
      "execution_count": null,
      "outputs": [
        {
          "output_type": "stream",
          "name": "stdout",
          "text": [
            "kim\n"
          ]
        }
      ]
    },
    {
      "cell_type": "code",
      "source": [
        "name.count(\"o\")\n",
        "#name 변수에 o 몇개인지 카운트해서 출력"
      ],
      "metadata": {
        "colab": {
          "base_uri": "https://localhost:8080/"
        },
        "id": "-kq7vO2QhBbv",
        "outputId": "e06e499b-2c6f-48cc-c924-8daa859956da"
      },
      "execution_count": null,
      "outputs": [
        {
          "output_type": "execute_result",
          "data": {
            "text/plain": [
              "1"
            ]
          },
          "metadata": {},
          "execution_count": 79
        }
      ]
    },
    {
      "cell_type": "code",
      "source": [
        "name.find(\"h\")\n",
        "#name 변수에 h 몇번째에 있는지 알려줘"
      ],
      "metadata": {
        "colab": {
          "base_uri": "https://localhost:8080/"
        },
        "id": "1H6KdEG8hbvh",
        "outputId": "cd1d072a-d510-4a6a-ee09-7e44947f76dc"
      },
      "execution_count": null,
      "outputs": [
        {
          "output_type": "execute_result",
          "data": {
            "text/plain": [
              "0"
            ]
          },
          "metadata": {},
          "execution_count": 84
        }
      ]
    },
    {
      "cell_type": "code",
      "source": [
        "name.find(\"k\")\n",
        "#name 변수에 k 몇번째에 있는지 알려줘"
      ],
      "metadata": {
        "colab": {
          "base_uri": "https://localhost:8080/"
        },
        "id": "kf2MK1JjhzeU",
        "outputId": "23c07427-25f7-49ef-f7bc-ac45f2d770b4"
      },
      "execution_count": null,
      "outputs": [
        {
          "output_type": "execute_result",
          "data": {
            "text/plain": [
              "8"
            ]
          },
          "metadata": {},
          "execution_count": 82
        }
      ]
    },
    {
      "cell_type": "code",
      "source": [
        "a = \" \"\n",
        "a.join(\"hyosung kim\")\n",
        "# a 변수 생성 변수 내용은 없음 \n",
        "# a변수에 join 함수를 이용해서 hyosung kim 넣어서 출력\n"
      ],
      "metadata": {
        "colab": {
          "base_uri": "https://localhost:8080/",
          "height": 36
        },
        "id": "59ofsMcih_yM",
        "outputId": "4e7ce7ce-e2b8-4ef7-8b7b-b6c58b240e87"
      },
      "execution_count": 11,
      "outputs": [
        {
          "output_type": "execute_result",
          "data": {
            "text/plain": [
              "'h y o s u n g   k i m'"
            ],
            "application/vnd.google.colaboratory.intrinsic+json": {
              "type": "string"
            }
          },
          "metadata": {},
          "execution_count": 11
        }
      ]
    },
    {
      "cell_type": "code",
      "source": [
        "name.upper()\n",
        "# name 변수를 대문자로 변경"
      ],
      "metadata": {
        "colab": {
          "base_uri": "https://localhost:8080/",
          "height": 36
        },
        "id": "O9pk8bFciT2E",
        "outputId": "e841dc00-f3eb-4a7f-8eec-2cc0089e33d2"
      },
      "execution_count": 12,
      "outputs": [
        {
          "output_type": "execute_result",
          "data": {
            "text/plain": [
              "'HYOSUNG KIM'"
            ],
            "application/vnd.google.colaboratory.intrinsic+json": {
              "type": "string"
            }
          },
          "metadata": {},
          "execution_count": 12
        }
      ]
    },
    {
      "cell_type": "code",
      "source": [
        "print (name) \n",
        "# upper 는 변수자체를 대문자로 변경해주는건 아니다 / a = .upper() 로 변수 자체를 대문자로 변경가능"
      ],
      "metadata": {
        "colab": {
          "base_uri": "https://localhost:8080/"
        },
        "id": "lU0PY78wqYcr",
        "outputId": "ebf182df-2906-4c6a-b855-57265e9a8f59"
      },
      "execution_count": 13,
      "outputs": [
        {
          "output_type": "stream",
          "name": "stdout",
          "text": [
            "hyosung kim\n"
          ]
        }
      ]
    },
    {
      "cell_type": "code",
      "source": [
        "name = \"hyosung KIM\" #name 변수에 대문자로 HYOSUNG KIM 생성 "
      ],
      "metadata": {
        "id": "gIl0aF6UrGLI"
      },
      "execution_count": 22,
      "outputs": []
    },
    {
      "cell_type": "code",
      "source": [
        "name.lower()\n",
        "# name 변수를 소문자로 모두 변경"
      ],
      "metadata": {
        "colab": {
          "base_uri": "https://localhost:8080/",
          "height": 36
        },
        "id": "dAWZEnPcin39",
        "outputId": "2ba505d4-5ccf-4c66-e76b-623ee614a414"
      },
      "execution_count": 23,
      "outputs": [
        {
          "output_type": "execute_result",
          "data": {
            "text/plain": [
              "'hyosung kim'"
            ],
            "application/vnd.google.colaboratory.intrinsic+json": {
              "type": "string"
            }
          },
          "metadata": {},
          "execution_count": 23
        }
      ]
    },
    {
      "cell_type": "code",
      "source": [
        "name[:5]+name[4].upper()+name[4:]\n",
        "# name변수 5번째까지 출력 + name변수 4번째를 대문자로 변경 + name변수 4번째 부터 끝까지 출력 "
      ],
      "metadata": {
        "colab": {
          "base_uri": "https://localhost:8080/",
          "height": 36
        },
        "id": "5ZlWIVSdVBKL",
        "outputId": "ba2285fb-2677-40f3-f0d8-c1e1a0e8574e"
      },
      "execution_count": 24,
      "outputs": [
        {
          "output_type": "execute_result",
          "data": {
            "text/plain": [
              "'hyosuUung KIM'"
            ],
            "application/vnd.google.colaboratory.intrinsic+json": {
              "type": "string"
            }
          },
          "metadata": {},
          "execution_count": 24
        }
      ]
    },
    {
      "cell_type": "code",
      "source": [
        "name = \"        ssssss    \" # name 변수에 ssssss 앞뒤로 공백을 넣음\n",
        "name"
      ],
      "metadata": {
        "colab": {
          "base_uri": "https://localhost:8080/",
          "height": 36
        },
        "id": "JKO9waPWirly",
        "outputId": "6d21efaa-3a5e-4025-a974-48679f38b6ee"
      },
      "execution_count": 30,
      "outputs": [
        {
          "output_type": "execute_result",
          "data": {
            "text/plain": [
              "'        ssssss    '"
            ],
            "application/vnd.google.colaboratory.intrinsic+json": {
              "type": "string"
            }
          },
          "metadata": {},
          "execution_count": 30
        }
      ]
    },
    {
      "cell_type": "code",
      "source": [
        "name.strip()\n",
        "#(공백제거) name변수에 strip 함수이용 문자열의 앞과 뒤 즉, 왼쪽과 오른쪽 끝 공백을 모두 제거 "
      ],
      "metadata": {
        "colab": {
          "base_uri": "https://localhost:8080/",
          "height": 36
        },
        "id": "wgYnkLH8m-sv",
        "outputId": "3e9e2a4c-91de-4e41-93c5-9ea116694311"
      },
      "execution_count": 36,
      "outputs": [
        {
          "output_type": "execute_result",
          "data": {
            "text/plain": [
              "'ssssss'"
            ],
            "application/vnd.google.colaboratory.intrinsic+json": {
              "type": "string"
            }
          },
          "metadata": {},
          "execution_count": 36
        }
      ]
    },
    {
      "cell_type": "code",
      "source": [
        "name.rstrip()\n",
        "# name변수에 rstrip 함수이용 오른쪽 끝 공백을 모두 제거 "
      ],
      "metadata": {
        "colab": {
          "base_uri": "https://localhost:8080/",
          "height": 36
        },
        "id": "CbC5RMglnact",
        "outputId": "9d6fc100-5d69-45cf-f94c-ea1716901b13"
      },
      "execution_count": 37,
      "outputs": [
        {
          "output_type": "execute_result",
          "data": {
            "text/plain": [
              "'        ssssss'"
            ],
            "application/vnd.google.colaboratory.intrinsic+json": {
              "type": "string"
            }
          },
          "metadata": {},
          "execution_count": 37
        }
      ]
    },
    {
      "cell_type": "code",
      "source": [
        "name.lstrip()\n",
        "# name변수에 lstrip 함수이용 왼쪽 끝 공백을 모두 제거 "
      ],
      "metadata": {
        "colab": {
          "base_uri": "https://localhost:8080/",
          "height": 36
        },
        "id": "GJW7usEsvGHn",
        "outputId": "f3718084-e792-44a5-fc5a-17910f4d974f"
      },
      "execution_count": 39,
      "outputs": [
        {
          "output_type": "execute_result",
          "data": {
            "text/plain": [
              "'ssssss    '"
            ],
            "application/vnd.google.colaboratory.intrinsic+json": {
              "type": "string"
            }
          },
          "metadata": {},
          "execution_count": 39
        }
      ]
    },
    {
      "cell_type": "code",
      "source": [
        "name = \"hhsssh   sssh\""
      ],
      "metadata": {
        "id": "kYi8zil-vRdi"
      },
      "execution_count": 55,
      "outputs": []
    },
    {
      "cell_type": "code",
      "source": [
        "name.strip(\"h\")\n",
        "# name 변수에 strip 함수를 이용해서 양끝에 h가 나오지 않을때까지 삭제후 출력"
      ],
      "metadata": {
        "colab": {
          "base_uri": "https://localhost:8080/",
          "height": 36
        },
        "id": "hs3xP-yvvzCV",
        "outputId": "afed96af-3b9f-4761-ea37-c3e48ece4621"
      },
      "execution_count": 56,
      "outputs": [
        {
          "output_type": "execute_result",
          "data": {
            "text/plain": [
              "'sssh   sss'"
            ],
            "application/vnd.google.colaboratory.intrinsic+json": {
              "type": "string"
            }
          },
          "metadata": {},
          "execution_count": 56
        }
      ]
    },
    {
      "cell_type": "code",
      "source": [
        "name = \"   hhsssh   sssh   \""
      ],
      "metadata": {
        "id": "J4yDH8jnw-AF"
      },
      "execution_count": 57,
      "outputs": []
    },
    {
      "cell_type": "code",
      "source": [
        "name.strip(\"h\") #name 변수에 strip 함수를 이용해서 양끝에 h가 나오지 않을때까지 삭제실행결과 양끝에 공백이 있어 삭제안됨"
      ],
      "metadata": {
        "colab": {
          "base_uri": "https://localhost:8080/",
          "height": 36
        },
        "id": "NQkrLy4gxB0x",
        "outputId": "8033124e-a89b-45b6-893c-3e417d4aa1fe"
      },
      "execution_count": 58,
      "outputs": [
        {
          "output_type": "execute_result",
          "data": {
            "text/plain": [
              "'   hhsssh   sssh   '"
            ],
            "application/vnd.google.colaboratory.intrinsic+json": {
              "type": "string"
            }
          },
          "metadata": {},
          "execution_count": 58
        }
      ]
    },
    {
      "cell_type": "code",
      "source": [
        "name = \"ssss kim\"    #name 변수생성"
      ],
      "metadata": {
        "id": "tFpQLgPJvtVF"
      },
      "execution_count": 60,
      "outputs": []
    },
    {
      "cell_type": "code",
      "source": [
        "name.replace(\"kim\",\"you\")\n",
        "#name 변수 ,kim을 you로 변경해줘"
      ],
      "metadata": {
        "colab": {
          "base_uri": "https://localhost:8080/",
          "height": 36
        },
        "id": "7XC9zKrCnjDo",
        "outputId": "ae3ec964-5ff8-4cc6-8bd5-f0db35983ad6"
      },
      "execution_count": 62,
      "outputs": [
        {
          "output_type": "execute_result",
          "data": {
            "text/plain": [
              "'ssss you'"
            ],
            "application/vnd.google.colaboratory.intrinsic+json": {
              "type": "string"
            }
          },
          "metadata": {},
          "execution_count": 62
        }
      ]
    },
    {
      "cell_type": "code",
      "source": [
        "name.split()\n",
        "# name 변수안에 내용을 뛰어쓰기 구분해서 출력"
      ],
      "metadata": {
        "colab": {
          "base_uri": "https://localhost:8080/"
        },
        "id": "tmagwYFzn1L1",
        "outputId": "24891b1e-46d8-40e9-ec67-4fba8da1712e"
      },
      "execution_count": 65,
      "outputs": [
        {
          "output_type": "execute_result",
          "data": {
            "text/plain": [
              "['ssss', 'kim']"
            ]
          },
          "metadata": {},
          "execution_count": 65
        }
      ]
    },
    {
      "cell_type": "code",
      "source": [
        "ubion = \"ubion is the best.ubion is the bestubion is the best.ubion is the best.ubion is the bestubion is the best.ubion is the best.ubion is the bestubion is the best.ubion is the best.ubion is the bestubion is the best.ubion is the best.ubion is the bestubion is the best\""
      ],
      "metadata": {
        "id": "ZDNj_CkGoWFh"
      },
      "execution_count": 85,
      "outputs": []
    },
    {
      "cell_type": "code",
      "source": [
        "ubion.split(\".\")\n",
        "# split 함수이용 ubion 변수값을 . 점으로 구분해서 출력됨"
      ],
      "metadata": {
        "id": "fTT8TZ3ronY8",
        "colab": {
          "base_uri": "https://localhost:8080/"
        },
        "outputId": "ff7b07ab-249f-479f-dda9-fb84bcaa008e"
      },
      "execution_count": 86,
      "outputs": [
        {
          "output_type": "execute_result",
          "data": {
            "text/plain": [
              "['ubion is the best',\n",
              " 'ubion is the bestubion is the best',\n",
              " 'ubion is the best',\n",
              " 'ubion is the bestubion is the best',\n",
              " 'ubion is the best',\n",
              " 'ubion is the bestubion is the best',\n",
              " 'ubion is the best',\n",
              " 'ubion is the bestubion is the best',\n",
              " 'ubion is the best',\n",
              " 'ubion is the bestubion is the best']"
            ]
          },
          "metadata": {},
          "execution_count": 86
        }
      ]
    },
    {
      "cell_type": "code",
      "source": [
        "ubion = \"ubion is the best,ubion is the bestubion is the best.ubion is the best,ubion is the bestubion is the best.ubion is the best,ubion is the bestubion is the best,ubion is the best.ubion is the bestubion is the best.ubion is the best,ubion is the bestubion is the best.\""
      ],
      "metadata": {
        "id": "N4VO9xDM1nBO"
      },
      "execution_count": 81,
      "outputs": []
    },
    {
      "cell_type": "code",
      "source": [
        "ubion = ubion.split(\",\")\n",
        "print (ubion)\n",
        "# split 함수이용 ubion 변수값을 , 컴마로 구분해서 출력됨"
      ],
      "metadata": {
        "colab": {
          "base_uri": "https://localhost:8080/"
        },
        "id": "-Km3j9r810Ha",
        "outputId": "b2795a3c-d49d-4e69-8cc3-e0d1d59957dc"
      },
      "execution_count": 82,
      "outputs": [
        {
          "output_type": "stream",
          "name": "stdout",
          "text": [
            "['ubion is the best', 'ubion is the bestubion is the best.ubion is the best', 'ubion is the bestubion is the best.ubion is the best', 'ubion is the bestubion is the best', 'ubion is the best.ubion is the bestubion is the best.ubion is the best', 'ubion is the bestubion is the best.']\n"
          ]
        }
      ]
    },
    {
      "cell_type": "code",
      "source": [
        "print(ubion)"
      ],
      "metadata": {
        "colab": {
          "base_uri": "https://localhost:8080/"
        },
        "id": "mh4oljl0hHpw",
        "outputId": "cc2db102-ee49-4661-e149-1caeb24a0191"
      },
      "execution_count": null,
      "outputs": [
        {
          "output_type": "stream",
          "name": "stdout",
          "text": [
            "['ubion is the best', 'ubion is the bestubion is the best', 'ubion is the best', 'ubion is the bestubion is the best', 'ubion is the best', 'ubion is the bestubion is the best', 'ubion is the best', 'ubion is the bestubion is the best', 'ubion is the best', 'ubion is the bestubion is the best', '']\n"
          ]
        }
      ]
    },
    {
      "cell_type": "code",
      "source": [
        "aryucke = \"umpy는 수학에서 말하는 '행렬'을 다루는 파이썬 모듈입니다. 파이썬 list 자료구조와 최대한 유사하게 디자인되었다는 점을 기억하면 좋겠습니다. Numpy에서 '행렬'을 '다차원배열'이라고 부르는데 이 넘파이 다차원 배열을 만들기 위해서 함수를 사용합니다\"\n",
        "print(aryucke)"
      ],
      "metadata": {
        "id": "npgMBvkMo-gt",
        "colab": {
          "base_uri": "https://localhost:8080/"
        },
        "outputId": "219fdd39-3f57-445f-dc33-17cf9218e457"
      },
      "execution_count": 89,
      "outputs": [
        {
          "output_type": "stream",
          "name": "stdout",
          "text": [
            "umpy는 수학에서 말하는 '행렬'을 다루는 파이썬 모듈입니다. 파이썬 list 자료구조와 최대한 유사하게 디자인되었다는 점을 기억하면 좋겠습니다. Numpy에서 '행렬'을 '다차원배열'이라고 부르는데 이 넘파이 다차원 배열을 만들기 위해서 함수를 사용합니다\n"
          ]
        }
      ]
    },
    {
      "cell_type": "code",
      "source": [
        "aryucke.split (\" \") #split 함수이용 aryucke 변수 내용을 공백으로 구분해서 열로 출력 "
      ],
      "metadata": {
        "colab": {
          "base_uri": "https://localhost:8080/"
        },
        "id": "RjVYdFNk4cij",
        "outputId": "7b88fd72-2a18-404d-c47f-4e419a1c0e59"
      },
      "execution_count": 91,
      "outputs": [
        {
          "output_type": "execute_result",
          "data": {
            "text/plain": [
              "['umpy는',\n",
              " '수학에서',\n",
              " '말하는',\n",
              " \"'행렬'을\",\n",
              " '다루는',\n",
              " '파이썬',\n",
              " '모듈입니다.',\n",
              " '파이썬',\n",
              " 'list',\n",
              " '자료구조와',\n",
              " '최대한',\n",
              " '유사하게',\n",
              " '디자인되었다는',\n",
              " '점을',\n",
              " '기억하면',\n",
              " '좋겠습니다.',\n",
              " 'Numpy에서',\n",
              " \"'행렬'을\",\n",
              " \"'다차원배열'이라고\",\n",
              " '부르는데',\n",
              " '이',\n",
              " '넘파이',\n",
              " '다차원',\n",
              " '배열을',\n",
              " '만들기',\n",
              " '위해서',\n",
              " '함수를',\n",
              " '사용합니다']"
            ]
          },
          "metadata": {},
          "execution_count": 91
        }
      ]
    },
    {
      "cell_type": "code",
      "source": [
        "a = [1,2,3,4,5] # 변수 a에 대괄호로 리스트 만든후 1,2,3,4,5 숫자 넣음\n",
        "a"
      ],
      "metadata": {
        "colab": {
          "base_uri": "https://localhost:8080/"
        },
        "id": "4z7GTbjXqZnv",
        "outputId": "94cf4193-55b2-4195-b366-df7d4b6eb02d"
      },
      "execution_count": 94,
      "outputs": [
        {
          "output_type": "execute_result",
          "data": {
            "text/plain": [
              "[1, 2, 3, 4, 5]"
            ]
          },
          "metadata": {},
          "execution_count": 94
        }
      ]
    },
    {
      "cell_type": "code",
      "source": [
        "type(a)  #type로 a 변수 확인 결과 list "
      ],
      "metadata": {
        "colab": {
          "base_uri": "https://localhost:8080/"
        },
        "id": "hdLrIN8Gqoeh",
        "outputId": "eb810ada-ed67-4aa7-d253-e8c0cb221b49"
      },
      "execution_count": 95,
      "outputs": [
        {
          "output_type": "execute_result",
          "data": {
            "text/plain": [
              "list"
            ]
          },
          "metadata": {},
          "execution_count": 95
        }
      ]
    },
    {
      "cell_type": "code",
      "source": [
        "b = (1,2,3,4,5)  #b변수 생성 소괄호로 튜플 만든후 1,2,3,4,5 숫자 넣음\n",
        "b"
      ],
      "metadata": {
        "colab": {
          "base_uri": "https://localhost:8080/"
        },
        "id": "PdesATA0qrWv",
        "outputId": "a12336ed-5e7e-4cf6-9a1d-d53e662a3813"
      },
      "execution_count": 97,
      "outputs": [
        {
          "output_type": "execute_result",
          "data": {
            "text/plain": [
              "(1, 2, 3, 4, 5)"
            ]
          },
          "metadata": {},
          "execution_count": 97
        }
      ]
    },
    {
      "cell_type": "code",
      "source": [
        "type(b)\n",
        "#type로 a 변수 확인 결과 튜플 tuple이다"
      ],
      "metadata": {
        "colab": {
          "base_uri": "https://localhost:8080/"
        },
        "id": "jVpTEa15q2fK",
        "outputId": "85be6e21-a826-49c7-8c64-d0ab5e65a908"
      },
      "execution_count": null,
      "outputs": [
        {
          "output_type": "execute_result",
          "data": {
            "text/plain": [
              "tuple"
            ]
          },
          "metadata": {},
          "execution_count": 116
        }
      ]
    },
    {
      "cell_type": "code",
      "source": [
        "a[3] = 7\n",
        "a\n",
        "# a변수 3번째를 숫자 7로 변경 / 1,2,3,4,5 -> 1, 2, 3, 7, 5 출력됨 "
      ],
      "metadata": {
        "colab": {
          "base_uri": "https://localhost:8080/"
        },
        "id": "hrwzlOnvq7Kp",
        "outputId": "026fcf1b-0878-44d9-a153-501eda7900c6"
      },
      "execution_count": null,
      "outputs": [
        {
          "output_type": "execute_result",
          "data": {
            "text/plain": [
              "[1, 2, 3, 7, 5]"
            ]
          },
          "metadata": {},
          "execution_count": 68
        }
      ]
    },
    {
      "cell_type": "code",
      "source": [
        "b[3] = 7  #리스트 변경했던걸 b변수 튜플에 적용해보니 찾을수 없다고한다./튜플은 변경이 불가하다\n",
        "# 튜플 사용시 변경 하지 않아도 괜찮을때 튜플 사용  "
      ],
      "metadata": {
        "colab": {
          "base_uri": "https://localhost:8080/",
          "height": 180
        },
        "id": "l_HM_CMX6yev",
        "outputId": "75b3799a-d2e7-4bee-8794-ceb3692837d4"
      },
      "execution_count": 98,
      "outputs": [
        {
          "output_type": "error",
          "ename": "TypeError",
          "evalue": "ignored",
          "traceback": [
            "\u001b[0;31m---------------------------------------------------------------------------\u001b[0m",
            "\u001b[0;31mTypeError\u001b[0m                                 Traceback (most recent call last)",
            "\u001b[0;32m<ipython-input-98-fc66e87992ec>\u001b[0m in \u001b[0;36m<module>\u001b[0;34m\u001b[0m\n\u001b[0;32m----> 1\u001b[0;31m \u001b[0mb\u001b[0m\u001b[0;34m[\u001b[0m\u001b[0;36m3\u001b[0m\u001b[0;34m]\u001b[0m \u001b[0;34m=\u001b[0m \u001b[0;36m7\u001b[0m\u001b[0;34m\u001b[0m\u001b[0;34m\u001b[0m\u001b[0m\n\u001b[0m",
            "\u001b[0;31mTypeError\u001b[0m: 'tuple' object does not support item assignment"
          ]
        }
      ]
    },
    {
      "cell_type": "code",
      "source": [
        "b.replace(3,4)\n",
        "#b 변수 역시 replace 함수이용 변경시도 했으나 튜플이라 변경 불가\n",
        "# 문자열.replace (\"변경하고 싶은 문자/문자열\",\"변경될 문자\",횟수) \n",
        "#횟수 : 변경 횟수를 지정하지 않으면 찾은 모든 문자열이 변경됨"
      ],
      "metadata": {
        "colab": {
          "base_uri": "https://localhost:8080/",
          "height": 200
        },
        "id": "asT_YOHBrFQ4",
        "outputId": "04af5f46-1936-4ade-b056-5a1ab696eb96"
      },
      "execution_count": 99,
      "outputs": [
        {
          "output_type": "error",
          "ename": "AttributeError",
          "evalue": "ignored",
          "traceback": [
            "\u001b[0;31m---------------------------------------------------------------------------\u001b[0m",
            "\u001b[0;31mAttributeError\u001b[0m                            Traceback (most recent call last)",
            "\u001b[0;32m<ipython-input-99-93ce1f9e06ab>\u001b[0m in \u001b[0;36m<module>\u001b[0;34m\u001b[0m\n\u001b[0;32m----> 1\u001b[0;31m \u001b[0mb\u001b[0m\u001b[0;34m.\u001b[0m\u001b[0mreplace\u001b[0m\u001b[0;34m(\u001b[0m\u001b[0;36m3\u001b[0m\u001b[0;34m,\u001b[0m\u001b[0;36m4\u001b[0m\u001b[0;34m)\u001b[0m\u001b[0;34m\u001b[0m\u001b[0;34m\u001b[0m\u001b[0m\n\u001b[0m\u001b[1;32m      2\u001b[0m \u001b[0;31m#b 변수 역시 replace 함수이용 변경불가 튜플이라 변경 불가\u001b[0m\u001b[0;34m\u001b[0m\u001b[0;34m\u001b[0m\u001b[0;34m\u001b[0m\u001b[0m\n",
            "\u001b[0;31mAttributeError\u001b[0m: 'tuple' object has no attribute 'replace'"
          ]
        }
      ]
    },
    {
      "cell_type": "code",
      "source": [
        "a = [1,2,3,4,5]\n",
        "b = [\"1\",\"2\",\"3\"]\n",
        "a+b  #a변수+b변수 출력 "
      ],
      "metadata": {
        "colab": {
          "base_uri": "https://localhost:8080/"
        },
        "id": "QU2rSIo1raSa",
        "outputId": "5507ad60-61a1-4acb-ec79-c52e438b16ae"
      },
      "execution_count": null,
      "outputs": [
        {
          "output_type": "execute_result",
          "data": {
            "text/plain": [
              "[1, 2, 3, 4, 5, '1', '2', '3']"
            ]
          },
          "metadata": {},
          "execution_count": 119
        }
      ]
    },
    {
      "cell_type": "code",
      "source": [
        "a"
      ],
      "metadata": {
        "colab": {
          "base_uri": "https://localhost:8080/"
        },
        "id": "VOTLuGG1CSXK",
        "outputId": "91f866c6-5fbb-4f62-c601-19fa83ac164a"
      },
      "execution_count": 122,
      "outputs": [
        {
          "output_type": "execute_result",
          "data": {
            "text/plain": [
              "[1, 2, 3, 4, 5]"
            ]
          },
          "metadata": {},
          "execution_count": 122
        }
      ]
    },
    {
      "cell_type": "code",
      "source": [
        "type(a)"
      ],
      "metadata": {
        "colab": {
          "base_uri": "https://localhost:8080/"
        },
        "id": "Jr56Rs9IAaTs",
        "outputId": "152dd93a-fbd7-4a13-f796-3d5faf1798c4"
      },
      "execution_count": 124,
      "outputs": [
        {
          "output_type": "execute_result",
          "data": {
            "text/plain": [
              "list"
            ]
          },
          "metadata": {},
          "execution_count": 124
        }
      ]
    },
    {
      "cell_type": "code",
      "source": [
        "a * 2 # a 변수 곱하기 2  출력"
      ],
      "metadata": {
        "colab": {
          "base_uri": "https://localhost:8080/"
        },
        "id": "O5wButzWrmZE",
        "outputId": "8a3aa7bc-0fde-4aaf-ff9a-ceae0eb158c9"
      },
      "execution_count": null,
      "outputs": [
        {
          "output_type": "execute_result",
          "data": {
            "text/plain": [
              "[1, 2, 3, 4, 5, 1, 2, 3, 4, 5]"
            ]
          },
          "metadata": {},
          "execution_count": 120
        }
      ]
    },
    {
      "cell_type": "code",
      "source": [
        "b * 2 # b변수 곱하기 2  출력"
      ],
      "metadata": {
        "colab": {
          "base_uri": "https://localhost:8080/"
        },
        "id": "MmdmbIyorrvu",
        "outputId": "31f71637-e2cf-4b9c-bb58-a5fbafcc053e"
      },
      "execution_count": null,
      "outputs": [
        {
          "output_type": "execute_result",
          "data": {
            "text/plain": [
              "['1', '2', '3', '1', '2', '3']"
            ]
          },
          "metadata": {},
          "execution_count": 121
        }
      ]
    },
    {
      "cell_type": "code",
      "source": [
        "c = b * 2 \n",
        "c   # c변수에 b변수 곱하기 2 값 넣음\n",
        "# 리스트 b변수 값에 2를 곱한값이 소괄호 tuple 튜플로 출력"
      ],
      "metadata": {
        "id": "dCOSpRBzr7Kq",
        "colab": {
          "base_uri": "https://localhost:8080/"
        },
        "outputId": "664ed5a6-4a64-4217-96f1-7ba0257dc3a2"
      },
      "execution_count": 127,
      "outputs": [
        {
          "output_type": "execute_result",
          "data": {
            "text/plain": [
              "(1, 2, 3, 4, 5, 1, 2, 3, 4, 5)"
            ]
          },
          "metadata": {},
          "execution_count": 127
        }
      ]
    },
    {
      "cell_type": "code",
      "source": [
        "type(c)  #c변수값이 소괄호  tuple 튜플로 변경됨 "
      ],
      "metadata": {
        "colab": {
          "base_uri": "https://localhost:8080/"
        },
        "id": "G2atD26D_58C",
        "outputId": "36299fe0-d53e-4303-f199-90d7435a9ca3"
      },
      "execution_count": 125,
      "outputs": [
        {
          "output_type": "execute_result",
          "data": {
            "text/plain": [
              "tuple"
            ]
          },
          "metadata": {},
          "execution_count": 125
        }
      ]
    },
    {
      "cell_type": "code",
      "source": [
        "c[1]  #c변수 첫번째 출력"
      ],
      "metadata": {
        "colab": {
          "base_uri": "https://localhost:8080/"
        },
        "id": "k575u7gyr_ah",
        "outputId": "3c17884b-6cc7-44b1-dc27-fb2f25475070"
      },
      "execution_count": 114,
      "outputs": [
        {
          "output_type": "execute_result",
          "data": {
            "text/plain": [
              "2"
            ]
          },
          "metadata": {},
          "execution_count": 114
        }
      ]
    },
    {
      "cell_type": "code",
      "source": [
        "c[1] = \"2\""
      ],
      "metadata": {
        "id": "waojVQ_WsHv1",
        "colab": {
          "base_uri": "https://localhost:8080/",
          "height": 180
        },
        "outputId": "c3c1bff8-f62e-49a2-a42e-899d80c72419"
      },
      "execution_count": 132,
      "outputs": [
        {
          "output_type": "error",
          "ename": "TypeError",
          "evalue": "ignored",
          "traceback": [
            "\u001b[0;31m---------------------------------------------------------------------------\u001b[0m",
            "\u001b[0;31mTypeError\u001b[0m                                 Traceback (most recent call last)",
            "\u001b[0;32m<ipython-input-132-515d62fb4c4b>\u001b[0m in \u001b[0;36m<module>\u001b[0;34m\u001b[0m\n\u001b[0;32m----> 1\u001b[0;31m \u001b[0mc\u001b[0m\u001b[0;34m[\u001b[0m\u001b[0;36m1\u001b[0m\u001b[0;34m]\u001b[0m \u001b[0;34m=\u001b[0m \u001b[0;34m\"2\"\u001b[0m\u001b[0;34m\u001b[0m\u001b[0;34m\u001b[0m\u001b[0m\n\u001b[0m",
            "\u001b[0;31mTypeError\u001b[0m: 'tuple' object does not support item assignment"
          ]
        }
      ]
    },
    {
      "cell_type": "code",
      "source": [
        "c"
      ],
      "metadata": {
        "colab": {
          "base_uri": "https://localhost:8080/"
        },
        "id": "c6nMLPHxsMHf",
        "outputId": "a1d912bf-9863-4376-bdea-98058fe1a487"
      },
      "execution_count": 130,
      "outputs": [
        {
          "output_type": "execute_result",
          "data": {
            "text/plain": [
              "(1, 2, 3, 4, 5, 1, 2, 3, 4, 5)"
            ]
          },
          "metadata": {},
          "execution_count": 130
        }
      ]
    },
    {
      "cell_type": "code",
      "source": [
        "b = (\"1\",\"2\",\"3\")"
      ],
      "metadata": {
        "id": "d6i85rmSsNbC"
      },
      "execution_count": null,
      "outputs": []
    },
    {
      "cell_type": "code",
      "source": [
        "b[2]\n",
        "#b변수  2번째를 불러줘"
      ],
      "metadata": {
        "colab": {
          "base_uri": "https://localhost:8080/",
          "height": 35
        },
        "id": "Wy1yHMLYsUTC",
        "outputId": "974f8972-87d4-40f3-f139-15a034d99f17"
      },
      "execution_count": null,
      "outputs": [
        {
          "output_type": "execute_result",
          "data": {
            "text/plain": [
              "'3'"
            ],
            "application/vnd.google.colaboratory.intrinsic+json": {
              "type": "string"
            }
          },
          "metadata": {},
          "execution_count": 127
        }
      ]
    },
    {
      "cell_type": "code",
      "source": [
        "b[2] = \"2\"\n",
        "#변수 b는 소괄호 튜플로 지정해서 변경 불가"
      ],
      "metadata": {
        "colab": {
          "base_uri": "https://localhost:8080/",
          "height": 174
        },
        "id": "wPi1fiNbsZQo",
        "outputId": "f821f7d3-b900-4262-9d01-a2020a28a675"
      },
      "execution_count": null,
      "outputs": [
        {
          "output_type": "error",
          "ename": "TypeError",
          "evalue": "ignored",
          "traceback": [
            "\u001b[0;31m---------------------------------------------------------------------------\u001b[0m",
            "\u001b[0;31mTypeError\u001b[0m                                 Traceback (most recent call last)",
            "\u001b[0;32m<ipython-input-128-75e67b1c0dd8>\u001b[0m in \u001b[0;36m<module>\u001b[0;34m\u001b[0m\n\u001b[0;32m----> 1\u001b[0;31m \u001b[0mb\u001b[0m\u001b[0;34m[\u001b[0m\u001b[0;36m2\u001b[0m\u001b[0;34m]\u001b[0m \u001b[0;34m=\u001b[0m \u001b[0;34m\"2\"\u001b[0m\u001b[0;34m\u001b[0m\u001b[0;34m\u001b[0m\u001b[0m\n\u001b[0m",
            "\u001b[0;31mTypeError\u001b[0m: 'tuple' object does not support item assignment"
          ]
        }
      ]
    },
    {
      "cell_type": "code",
      "source": [
        "len(a) #a 변수안에 문자열 몇개인지 출력"
      ],
      "metadata": {
        "colab": {
          "base_uri": "https://localhost:8080/"
        },
        "id": "kZng7hwQtp_d",
        "outputId": "8d5ce023-4001-47fd-ab7e-b56e0f843a4c"
      },
      "execution_count": 133,
      "outputs": [
        {
          "output_type": "execute_result",
          "data": {
            "text/plain": [
              "5"
            ]
          },
          "metadata": {},
          "execution_count": 133
        }
      ]
    },
    {
      "cell_type": "code",
      "source": [
        "len(b) #b 변수안에 문자열 몇개인지 출력"
      ],
      "metadata": {
        "colab": {
          "base_uri": "https://localhost:8080/"
        },
        "id": "8Ijh9VQ-tvxN",
        "outputId": "2d90e03a-7306-4428-eec6-9be5116e2c46"
      },
      "execution_count": null,
      "outputs": [
        {
          "output_type": "execute_result",
          "data": {
            "text/plain": [
              "3"
            ]
          },
          "metadata": {},
          "execution_count": 130
        }
      ]
    },
    {
      "cell_type": "code",
      "source": [
        "a[0:3] #a변수에서 앞에서 3번째까지 출력"
      ],
      "metadata": {
        "colab": {
          "base_uri": "https://localhost:8080/"
        },
        "id": "c-DgcBEityUN",
        "outputId": "3d8138d4-ffae-4e9f-d105-0f0ada8a969b"
      },
      "execution_count": 137,
      "outputs": [
        {
          "output_type": "execute_result",
          "data": {
            "text/plain": [
              "[1, 2, 3]"
            ]
          },
          "metadata": {},
          "execution_count": 137
        }
      ]
    },
    {
      "cell_type": "code",
      "source": [
        "a[2:5] #a변수에서 앞 (2) 두번째부터 5번째까지 출력"
      ],
      "metadata": {
        "colab": {
          "base_uri": "https://localhost:8080/"
        },
        "id": "Jx8r62spGQf7",
        "outputId": "52a44b12-d8d4-425c-ec10-4681eba64453"
      },
      "execution_count": 142,
      "outputs": [
        {
          "output_type": "execute_result",
          "data": {
            "text/plain": [
              "[3, 4, 5]"
            ]
          },
          "metadata": {},
          "execution_count": 142
        }
      ]
    },
    {
      "cell_type": "code",
      "source": [
        "del a  # 삭제 a 변수"
      ],
      "metadata": {
        "id": "JY1qIMqyt56I"
      },
      "execution_count": null,
      "outputs": []
    },
    {
      "cell_type": "code",
      "source": [
        "a  # a 변수 출력 / 찾을수 없다고 에러메시지"
      ],
      "metadata": {
        "colab": {
          "base_uri": "https://localhost:8080/",
          "height": 174
        },
        "id": "6JrAy7KQt-RA",
        "outputId": "995c06e8-0412-4ed8-83dc-ea8d1807527b"
      },
      "execution_count": null,
      "outputs": [
        {
          "output_type": "error",
          "ename": "NameError",
          "evalue": "ignored",
          "traceback": [
            "\u001b[0;31m---------------------------------------------------------------------------\u001b[0m",
            "\u001b[0;31mNameError\u001b[0m                                 Traceback (most recent call last)",
            "\u001b[0;32m<ipython-input-133-3f786850e387>\u001b[0m in \u001b[0;36m<module>\u001b[0;34m\u001b[0m\n\u001b[0;32m----> 1\u001b[0;31m \u001b[0ma\u001b[0m\u001b[0;34m\u001b[0m\u001b[0;34m\u001b[0m\u001b[0m\n\u001b[0m",
            "\u001b[0;31mNameError\u001b[0m: name 'a' is not defined"
          ]
        }
      ]
    },
    {
      "cell_type": "code",
      "source": [
        "a = [1,2,3,4,5] #a 변수 생성 \n",
        "del a[0]\n",
        "a\n",
        "# a 변수의 0번째 삭제 "
      ],
      "metadata": {
        "colab": {
          "base_uri": "https://localhost:8080/"
        },
        "id": "EwmPSShlt_0N",
        "outputId": "b5207da6-2d46-4be4-d12d-2a25e20be962"
      },
      "execution_count": 144,
      "outputs": [
        {
          "output_type": "execute_result",
          "data": {
            "text/plain": [
              "[2, 3, 4, 5]"
            ]
          },
          "metadata": {},
          "execution_count": 144
        }
      ]
    },
    {
      "cell_type": "code",
      "source": [
        "a = [1,2,4,3,5,6,8,7,9,10]\n",
        "a.append(11)\n",
        "a\n",
        "# a 변수 뒷쪽에 11를 넣어줘"
      ],
      "metadata": {
        "colab": {
          "base_uri": "https://localhost:8080/"
        },
        "id": "MnxSVbzOvDl9",
        "outputId": "5f81447a-4cf6-4f46-e7ae-f5eba49aa95c"
      },
      "execution_count": 145,
      "outputs": [
        {
          "output_type": "execute_result",
          "data": {
            "text/plain": [
              "[1, 2, 4, 3, 5, 6, 8, 7, 9, 10, 11]"
            ]
          },
          "metadata": {},
          "execution_count": 145
        }
      ]
    },
    {
      "cell_type": "code",
      "source": [
        "a.sort()\n",
        "a\n",
        "# a 변수를 숫자  정렬"
      ],
      "metadata": {
        "colab": {
          "base_uri": "https://localhost:8080/"
        },
        "id": "7_AI0-3DzRy4",
        "outputId": "7adada45-f91b-4c96-e10f-0f1d4190284c"
      },
      "execution_count": 148,
      "outputs": [
        {
          "output_type": "execute_result",
          "data": {
            "text/plain": [
              "[1, 2, 3, 4, 5, 6, 7, 8, 9, 10, 11]"
            ]
          },
          "metadata": {},
          "execution_count": 148
        }
      ]
    },
    {
      "cell_type": "code",
      "source": [
        "a.reverse()\n",
        "a\n",
        "#a 변수를 숫자를 큰수를 앞쪽으로 올수있게 정렬해줘"
      ],
      "metadata": {
        "colab": {
          "base_uri": "https://localhost:8080/"
        },
        "id": "lcGVPK1czjrG",
        "outputId": "7bceeb7d-2be8-467e-85e2-5b7e4c32604f"
      },
      "execution_count": 149,
      "outputs": [
        {
          "output_type": "execute_result",
          "data": {
            "text/plain": [
              "[11, 10, 9, 8, 7, 6, 5, 4, 3, 2, 1]"
            ]
          },
          "metadata": {},
          "execution_count": 149
        }
      ]
    },
    {
      "cell_type": "code",
      "source": [
        "a.index(6)\n",
        "#a변수에서 6의 인덱스(저장소 위치)를 출력 / 0부터 시작"
      ],
      "metadata": {
        "colab": {
          "base_uri": "https://localhost:8080/"
        },
        "id": "8hcKHMj-zvjr",
        "outputId": "d99b9936-4af8-41ac-89c4-2632a8a169b1"
      },
      "execution_count": 150,
      "outputs": [
        {
          "output_type": "execute_result",
          "data": {
            "text/plain": [
              "5"
            ]
          },
          "metadata": {},
          "execution_count": 150
        }
      ]
    },
    {
      "cell_type": "code",
      "source": [
        "a"
      ],
      "metadata": {
        "colab": {
          "base_uri": "https://localhost:8080/"
        },
        "id": "Wko8vAPfI1GI",
        "outputId": "3fe870bb-454f-4e43-8199-c5811f808c8d"
      },
      "execution_count": 152,
      "outputs": [
        {
          "output_type": "execute_result",
          "data": {
            "text/plain": [
              "[11, 10, 9, 8, 7, 6, 5, 4, 3, 2, 1]"
            ]
          },
          "metadata": {},
          "execution_count": 152
        }
      ]
    },
    {
      "cell_type": "code",
      "source": [
        "a = [1,3,4,1,3,4,1,3,4]\n",
        "a"
      ],
      "metadata": {
        "colab": {
          "base_uri": "https://localhost:8080/"
        },
        "id": "IJV-LZ8nK3ma",
        "outputId": "85e0e974-0d16-4cf1-f167-ef2842fa4391"
      },
      "execution_count": 162,
      "outputs": [
        {
          "output_type": "execute_result",
          "data": {
            "text/plain": [
              "[1, 3, 4, 1, 3, 4, 1, 3, 4]"
            ]
          },
          "metadata": {},
          "execution_count": 162
        }
      ]
    },
    {
      "cell_type": "code",
      "source": [
        "a.index(3)"
      ],
      "metadata": {
        "colab": {
          "base_uri": "https://localhost:8080/"
        },
        "id": "HzBHR5wP0iHZ",
        "outputId": "02044b7c-5941-469c-c1ac-de96b2d05c8a"
      },
      "execution_count": 174,
      "outputs": [
        {
          "output_type": "execute_result",
          "data": {
            "text/plain": [
              "1"
            ]
          },
          "metadata": {},
          "execution_count": 174
        }
      ]
    },
    {
      "cell_type": "code",
      "source": [
        "a.insert(2, 30)\n",
        "# a변수 2번째에 30을 넣어줘"
      ],
      "metadata": {
        "id": "Tb5uGqXV0lNw"
      },
      "execution_count": 176,
      "outputs": []
    },
    {
      "cell_type": "code",
      "source": [
        "a"
      ],
      "metadata": {
        "colab": {
          "base_uri": "https://localhost:8080/"
        },
        "id": "XdxbypJU0uCR",
        "outputId": "7db308e5-3d6c-4cb1-9b82-7e00218495ca"
      },
      "execution_count": 177,
      "outputs": [
        {
          "output_type": "execute_result",
          "data": {
            "text/plain": [
              "[1, 3, 30, 4, 1, 3, 4, 1, 3, 4]"
            ]
          },
          "metadata": {},
          "execution_count": 177
        }
      ]
    },
    {
      "cell_type": "code",
      "source": [
        "a.remove(30)\n",
        "#a안에서 30을 지워줘"
      ],
      "metadata": {
        "id": "LaxzlyF30z4f"
      },
      "execution_count": 178,
      "outputs": []
    },
    {
      "cell_type": "code",
      "source": [
        "a"
      ],
      "metadata": {
        "colab": {
          "base_uri": "https://localhost:8080/"
        },
        "id": "V8SSFi5S0364",
        "outputId": "c9292125-999a-464f-926c-78f2b17a24fe"
      },
      "execution_count": 179,
      "outputs": [
        {
          "output_type": "execute_result",
          "data": {
            "text/plain": [
              "[1, 3, 4, 1, 3, 4, 1, 3, 4]"
            ]
          },
          "metadata": {},
          "execution_count": 179
        }
      ]
    },
    {
      "cell_type": "code",
      "source": [
        "a.pop(4) #a변수에서 4번째 숫자 삭제"
      ],
      "metadata": {
        "colab": {
          "base_uri": "https://localhost:8080/"
        },
        "id": "J7H1Y0L81Rqu",
        "outputId": "8a21f38d-c5dd-4e41-96bb-661d6ef9c9d7"
      },
      "execution_count": 180,
      "outputs": [
        {
          "output_type": "execute_result",
          "data": {
            "text/plain": [
              "3"
            ]
          },
          "metadata": {},
          "execution_count": 180
        }
      ]
    },
    {
      "cell_type": "code",
      "source": [
        "a # 4번째 숫자 3 삭제됨"
      ],
      "metadata": {
        "colab": {
          "base_uri": "https://localhost:8080/"
        },
        "id": "uLZDUx8711H8",
        "outputId": "3832f070-863f-4e23-9e01-d8d90afe2caf"
      },
      "execution_count": 182,
      "outputs": [
        {
          "output_type": "execute_result",
          "data": {
            "text/plain": [
              "[1, 3, 4, 1, 4, 1, 3, 4]"
            ]
          },
          "metadata": {},
          "execution_count": 182
        }
      ]
    },
    {
      "cell_type": "code",
      "source": [
        "a.pop()\n",
        "#a 변수에 pop(소괄호에) 몇번째를 지정하지 않으면 마지막 숫자를 제가한다."
      ],
      "metadata": {
        "colab": {
          "base_uri": "https://localhost:8080/"
        },
        "id": "yapSTvdS14NX",
        "outputId": "c79032ca-80c2-4b4a-90f9-dc9877a7a2fb"
      },
      "execution_count": 183,
      "outputs": [
        {
          "output_type": "execute_result",
          "data": {
            "text/plain": [
              "4"
            ]
          },
          "metadata": {},
          "execution_count": 183
        }
      ]
    },
    {
      "cell_type": "code",
      "source": [
        "a"
      ],
      "metadata": {
        "colab": {
          "base_uri": "https://localhost:8080/"
        },
        "id": "MLHQ0gtb18HZ",
        "outputId": "fb80df2c-ae70-4d7d-8fbd-f09757be1221"
      },
      "execution_count": 184,
      "outputs": [
        {
          "output_type": "execute_result",
          "data": {
            "text/plain": [
              "[1, 3, 4, 1, 4, 1, 3]"
            ]
          },
          "metadata": {},
          "execution_count": 184
        }
      ]
    },
    {
      "cell_type": "code",
      "source": [
        "a.count(4) # a 변수에서 숫자 4 몇개인지 출력"
      ],
      "metadata": {
        "colab": {
          "base_uri": "https://localhost:8080/"
        },
        "id": "DuCFQqss2Egg",
        "outputId": "627839ee-a65a-46c3-cd99-2981283b22a7"
      },
      "execution_count": 185,
      "outputs": [
        {
          "output_type": "execute_result",
          "data": {
            "text/plain": [
              "2"
            ]
          },
          "metadata": {},
          "execution_count": 185
        }
      ]
    },
    {
      "cell_type": "code",
      "source": [
        "a.count(3)\n",
        "## a 변수에서 숫자 3 몇개인지 출력"
      ],
      "metadata": {
        "colab": {
          "base_uri": "https://localhost:8080/"
        },
        "id": "ysiAbY2k2Mi7",
        "outputId": "1cd26945-bdf1-40a6-abcc-d67903c224d5"
      },
      "execution_count": 186,
      "outputs": [
        {
          "output_type": "execute_result",
          "data": {
            "text/plain": [
              "2"
            ]
          },
          "metadata": {},
          "execution_count": 186
        }
      ]
    },
    {
      "cell_type": "code",
      "source": [
        "a=[1,1,2,3,4,5,5,5,6,6,]"
      ],
      "metadata": {
        "id": "qAw8rAe02N6g"
      },
      "execution_count": null,
      "outputs": []
    },
    {
      "cell_type": "code",
      "source": [
        "a.count(5)"
      ],
      "metadata": {
        "colab": {
          "base_uri": "https://localhost:8080/"
        },
        "id": "t0urqSbj2R-p",
        "outputId": "65f8342a-8794-4ba1-97d9-077e5c55dcaf"
      },
      "execution_count": null,
      "outputs": [
        {
          "output_type": "execute_result",
          "data": {
            "text/plain": [
              "3"
            ]
          },
          "metadata": {},
          "execution_count": 162
        }
      ]
    },
    {
      "cell_type": "code",
      "source": [
        "len(a) #변수 a에 문자열 갯수 출력"
      ],
      "metadata": {
        "colab": {
          "base_uri": "https://localhost:8080/"
        },
        "id": "VMWPSWxt2YnX",
        "outputId": "1a16d13d-ac5b-4fa0-f720-324f82e7b0ff"
      },
      "execution_count": null,
      "outputs": [
        {
          "output_type": "execute_result",
          "data": {
            "text/plain": [
              "10"
            ]
          },
          "metadata": {},
          "execution_count": 163
        }
      ]
    },
    {
      "cell_type": "code",
      "source": [
        "import numpy as np\n",
        "# numpy모듈을 import로 호출하고 numpy 를 np약자로 사용"
      ],
      "metadata": {
        "id": "A3dfSCA62dPv"
      },
      "execution_count": null,
      "outputs": []
    },
    {
      "cell_type": "code",
      "source": [
        "matrix = [[1,2,3,4,],[5,6,7,8,],[9,10,11,12]]\n",
        "matrix\n",
        "np.array(matrix, int).shape\n",
        "# numpy모듈을 import로 호출하고 numpy 를 np약자로 사용\n",
        "# matrix 출력\n",
        "# 출력할때 넘파이로 변경해줘 matrix를 int 정수로 보여주고 shape 행과열을 알려줘/  출력값 : 3행 4열"
      ],
      "metadata": {
        "colab": {
          "base_uri": "https://localhost:8080/"
        },
        "id": "9rzlEL5Q2uCB",
        "outputId": "07159a03-3716-4344-9e0c-bd8fceb8edfe"
      },
      "execution_count": null,
      "outputs": [
        {
          "output_type": "execute_result",
          "data": {
            "text/plain": [
              "(3, 4)"
            ]
          },
          "metadata": {},
          "execution_count": 165
        }
      ]
    },
    {
      "cell_type": "code",
      "source": [
        "a = ()\n",
        "b = (1,2,3)"
      ],
      "metadata": {
        "id": "ZZs4V9iu356Q"
      },
      "execution_count": null,
      "outputs": []
    },
    {
      "cell_type": "code",
      "source": [
        "c = (\"x\", \"y\", \"z\")"
      ],
      "metadata": {
        "id": "KqiTXwAM4DSs"
      },
      "execution_count": null,
      "outputs": []
    },
    {
      "cell_type": "code",
      "source": [
        "d = b+c"
      ],
      "metadata": {
        "id": "SoWTertY4QE-"
      },
      "execution_count": null,
      "outputs": []
    },
    {
      "cell_type": "code",
      "source": [
        "d"
      ],
      "metadata": {
        "colab": {
          "base_uri": "https://localhost:8080/"
        },
        "id": "frBOV4Me4WEf",
        "outputId": "cfb7ced0-87a9-41be-e9a4-42f664e112d6"
      },
      "execution_count": null,
      "outputs": [
        {
          "output_type": "execute_result",
          "data": {
            "text/plain": [
              "(1, 2, 3, 'x', 'y', 'z')"
            ]
          },
          "metadata": {},
          "execution_count": 173
        }
      ]
    },
    {
      "cell_type": "code",
      "source": [
        "a, b , c = (1,),(2,3),(4,5)  # 변수 a,b,c 한번에 생성하고 값지정"
      ],
      "metadata": {
        "id": "Kn1kZ4Gi5AfG"
      },
      "execution_count": null,
      "outputs": []
    },
    {
      "cell_type": "code",
      "source": [
        "print(a)"
      ],
      "metadata": {
        "colab": {
          "base_uri": "https://localhost:8080/"
        },
        "id": "E7z6jzvl4XiO",
        "outputId": "4af51cea-d7cd-44c9-8e99-c311af7b317d"
      },
      "execution_count": null,
      "outputs": [
        {
          "output_type": "stream",
          "name": "stdout",
          "text": [
            "(1,)\n"
          ]
        }
      ]
    },
    {
      "cell_type": "code",
      "source": [
        "print(b)"
      ],
      "metadata": {
        "colab": {
          "base_uri": "https://localhost:8080/"
        },
        "id": "VrBVwhc44cIx",
        "outputId": "6f298fef-4ddc-4460-863a-6e0788f5c31c"
      },
      "execution_count": null,
      "outputs": [
        {
          "output_type": "stream",
          "name": "stdout",
          "text": [
            "(2, 3)\n"
          ]
        }
      ]
    },
    {
      "cell_type": "code",
      "source": [
        "print(c)"
      ],
      "metadata": {
        "colab": {
          "base_uri": "https://localhost:8080/"
        },
        "id": "m_pKhMvy5Pv7",
        "outputId": "2a04f37b-3ab9-498e-d3dd-44e0131b5c7e"
      },
      "execution_count": null,
      "outputs": [
        {
          "output_type": "stream",
          "name": "stdout",
          "text": [
            "(4, 5)\n"
          ]
        }
      ]
    },
    {
      "cell_type": "code",
      "source": [
        "a = (1,2,3,4,) # a변수 소괄호 튜플 생성 "
      ],
      "metadata": {
        "id": "XdGuJyrY4jAM"
      },
      "execution_count": null,
      "outputs": []
    },
    {
      "cell_type": "code",
      "source": [
        "del a[1]\n",
        "#튜플이라 삭제 불가"
      ],
      "metadata": {
        "colab": {
          "base_uri": "https://localhost:8080/",
          "height": 174
        },
        "id": "e86GFwWc4mp8",
        "outputId": "151e3c75-7fda-4299-83cb-b7291689f6fc"
      },
      "execution_count": null,
      "outputs": [
        {
          "output_type": "error",
          "ename": "TypeError",
          "evalue": "ignored",
          "traceback": [
            "\u001b[0;31m---------------------------------------------------------------------------\u001b[0m",
            "\u001b[0;31mTypeError\u001b[0m                                 Traceback (most recent call last)",
            "\u001b[0;32m<ipython-input-185-d982d7dc2a95>\u001b[0m in \u001b[0;36m<module>\u001b[0;34m\u001b[0m\n\u001b[0;32m----> 1\u001b[0;31m \u001b[0;32mdel\u001b[0m \u001b[0ma\u001b[0m\u001b[0;34m[\u001b[0m\u001b[0;36m1\u001b[0m\u001b[0;34m]\u001b[0m\u001b[0;34m\u001b[0m\u001b[0;34m\u001b[0m\u001b[0m\n\u001b[0m",
            "\u001b[0;31mTypeError\u001b[0m: 'tuple' object doesn't support item deletion"
          ]
        }
      ]
    },
    {
      "cell_type": "code",
      "source": [
        "a = {\"달러\" : 1400, \"엔화\" : 100} #딕셔너리  중괄호로 지정\n",
        "a\n",
        "#[key키(달러) value값(1400)] 사전 key출력하면  value값을 출력\n",
        "# value값에는 숫자, 문자, 문자열, 리스트, 튜플도 올 수 있다.\n",
        "# key값에는 list.dict등 내용이 변경되는 오프젝트는 사용불가"
      ],
      "metadata": {
        "colab": {
          "base_uri": "https://localhost:8080/"
        },
        "id": "KcScoDW18sWK",
        "outputId": "b6ff3b3c-58be-4955-e0fd-d09ddc3363f8"
      },
      "execution_count": null,
      "outputs": [
        {
          "output_type": "execute_result",
          "data": {
            "text/plain": [
              "{'달러': 1400, '엔화': 100}"
            ]
          },
          "metadata": {},
          "execution_count": 186
        }
      ]
    },
    {
      "cell_type": "code",
      "source": [
        "a[\"달러\"]"
      ],
      "metadata": {
        "colab": {
          "base_uri": "https://localhost:8080/"
        },
        "id": "7cG7ZQXf9HWk",
        "outputId": "034c30d0-b94c-4801-c63e-74943aa3f6ea"
      },
      "execution_count": null,
      "outputs": [
        {
          "output_type": "execute_result",
          "data": {
            "text/plain": [
              "1400"
            ]
          },
          "metadata": {},
          "execution_count": 187
        }
      ]
    },
    {
      "cell_type": "code",
      "source": [
        "a[\"위안\"] #위안은 a변수 사전에 없어서 에러"
      ],
      "metadata": {
        "colab": {
          "base_uri": "https://localhost:8080/",
          "height": 174
        },
        "id": "w8wG8-pk9MQo",
        "outputId": "f0ac6180-efbc-47c6-d370-f8e530b451b8"
      },
      "execution_count": null,
      "outputs": [
        {
          "output_type": "error",
          "ename": "KeyError",
          "evalue": "ignored",
          "traceback": [
            "\u001b[0;31m---------------------------------------------------------------------------\u001b[0m",
            "\u001b[0;31mKeyError\u001b[0m                                  Traceback (most recent call last)",
            "\u001b[0;32m<ipython-input-188-80f034eb8a0a>\u001b[0m in \u001b[0;36m<module>\u001b[0;34m\u001b[0m\n\u001b[0;32m----> 1\u001b[0;31m \u001b[0ma\u001b[0m\u001b[0;34m[\u001b[0m\u001b[0;34m\"위안\"\u001b[0m\u001b[0;34m]\u001b[0m\u001b[0;34m\u001b[0m\u001b[0;34m\u001b[0m\u001b[0m\n\u001b[0m",
            "\u001b[0;31mKeyError\u001b[0m: '위안'"
          ]
        }
      ]
    },
    {
      "cell_type": "code",
      "source": [
        "a[1400]\n",
        "# a변수 사전 불러오는 key키에 1400은 없다 / 값에는 1400원이 있지만 호출할땐 키를 불러야 값이 출력됨"
      ],
      "metadata": {
        "colab": {
          "base_uri": "https://localhost:8080/",
          "height": 174
        },
        "id": "mZoDAsFS9SyY",
        "outputId": "c9d5b7f3-7734-456b-c397-5f71b7356ba6"
      },
      "execution_count": null,
      "outputs": [
        {
          "output_type": "error",
          "ename": "KeyError",
          "evalue": "ignored",
          "traceback": [
            "\u001b[0;31m---------------------------------------------------------------------------\u001b[0m",
            "\u001b[0;31mKeyError\u001b[0m                                  Traceback (most recent call last)",
            "\u001b[0;32m<ipython-input-189-f58277b994c4>\u001b[0m in \u001b[0;36m<module>\u001b[0;34m\u001b[0m\n\u001b[0;32m----> 1\u001b[0;31m \u001b[0ma\u001b[0m\u001b[0;34m[\u001b[0m\u001b[0;36m1400\u001b[0m\u001b[0;34m]\u001b[0m\u001b[0;34m\u001b[0m\u001b[0;34m\u001b[0m\u001b[0m\n\u001b[0m",
            "\u001b[0;31mKeyError\u001b[0m: 1400"
          ]
        }
      ]
    },
    {
      "cell_type": "code",
      "source": [
        "print (a.get(\"위안\")) # get함수는 출력하고자 하는 key가 없으면, 오류가 아닌 None을 출력"
      ],
      "metadata": {
        "colab": {
          "base_uri": "https://localhost:8080/"
        },
        "id": "6h87uFji9ZAT",
        "outputId": "137b77f4-97de-4670-fd24-b222e0f6a016"
      },
      "execution_count": null,
      "outputs": [
        {
          "output_type": "stream",
          "name": "stdout",
          "text": [
            "None\n"
          ]
        }
      ]
    },
    {
      "cell_type": "code",
      "source": [
        "print (a.get(\"달러\"))"
      ],
      "metadata": {
        "colab": {
          "base_uri": "https://localhost:8080/"
        },
        "id": "sa0lw38J9het",
        "outputId": "c2588d65-0da1-493a-ea69-8cf40c8652fc"
      },
      "execution_count": null,
      "outputs": [
        {
          "output_type": "stream",
          "name": "stdout",
          "text": [
            "1400\n"
          ]
        }
      ]
    },
    {
      "cell_type": "code",
      "source": [
        "a.get(\"위안\", \"그런거 없어\") #a변수에 get함수로 위안 key호출"
      ],
      "metadata": {
        "colab": {
          "base_uri": "https://localhost:8080/",
          "height": 35
        },
        "id": "BUBmUFWS9lMa",
        "outputId": "b9ad4eac-0c23-4476-e720-92a5e908db48"
      },
      "execution_count": null,
      "outputs": [
        {
          "output_type": "execute_result",
          "data": {
            "text/plain": [
              "'그런거 없어'"
            ],
            "application/vnd.google.colaboratory.intrinsic+json": {
              "type": "string"
            }
          },
          "metadata": {},
          "execution_count": 192
        }
      ]
    },
    {
      "cell_type": "code",
      "source": [
        "a [\"위안\"] = 300"
      ],
      "metadata": {
        "id": "o3nneGC99sye"
      },
      "execution_count": null,
      "outputs": []
    },
    {
      "cell_type": "code",
      "source": [
        "a"
      ],
      "metadata": {
        "colab": {
          "base_uri": "https://localhost:8080/"
        },
        "id": "oQWVgD4H94nN",
        "outputId": "cb43b7d8-cd71-4bfc-dfb7-b10940357c4a"
      },
      "execution_count": null,
      "outputs": [
        {
          "output_type": "execute_result",
          "data": {
            "text/plain": [
              "{'달러': 1400, '엔화': 100, '위안': 300}"
            ]
          },
          "metadata": {},
          "execution_count": 194
        }
      ]
    },
    {
      "cell_type": "code",
      "source": [
        "a.get(\"위안\", \"그런거 없어\")"
      ],
      "metadata": {
        "colab": {
          "base_uri": "https://localhost:8080/"
        },
        "id": "50mIEaRQ99b-",
        "outputId": "bdf2b7ec-cfe3-46be-d6c6-9c0e26af0a8e"
      },
      "execution_count": null,
      "outputs": [
        {
          "output_type": "execute_result",
          "data": {
            "text/plain": [
              "300"
            ]
          },
          "metadata": {},
          "execution_count": 195
        }
      ]
    },
    {
      "cell_type": "code",
      "source": [
        "del a[\"엔화\"]"
      ],
      "metadata": {
        "id": "OatIR4G4-A0N"
      },
      "execution_count": null,
      "outputs": []
    },
    {
      "cell_type": "code",
      "source": [
        "a"
      ],
      "metadata": {
        "colab": {
          "base_uri": "https://localhost:8080/"
        },
        "id": "0IOYcypa-JK9",
        "outputId": "4b9b43d0-f7eb-486d-a213-2a199fa1cfde"
      },
      "execution_count": null,
      "outputs": [
        {
          "output_type": "execute_result",
          "data": {
            "text/plain": [
              "{'달러': 1400, '위안': 300}"
            ]
          },
          "metadata": {},
          "execution_count": 197
        }
      ]
    },
    {
      "cell_type": "code",
      "source": [
        "a = {'달러' : 1400, '위안' : 300, '위안' : 320'}"
      ],
      "metadata": {
        "colab": {
          "base_uri": "https://localhost:8080/",
          "height": 137
        },
        "id": "8ZuxTsqx-MZ1",
        "outputId": "5b236c2e-abc1-42b3-8aa8-34bd6f1ea537"
      },
      "execution_count": null,
      "outputs": [
        {
          "output_type": "error",
          "ename": "SyntaxError",
          "evalue": "ignored",
          "traceback": [
            "\u001b[0;36m  File \u001b[0;32m\"<ipython-input-201-396d1a8ba62c>\"\u001b[0;36m, line \u001b[0;32m1\u001b[0m\n\u001b[0;31m    a = {'달러' : 1400, '위안' : 300, '위안' : 320'}\u001b[0m\n\u001b[0m                                              ^\u001b[0m\n\u001b[0;31mSyntaxError\u001b[0m\u001b[0;31m:\u001b[0m EOL while scanning string literal\n"
          ]
        }
      ]
    },
    {
      "cell_type": "code",
      "source": [
        "a.keys()\n",
        "#a변수 사전에서 key키만 출력"
      ],
      "metadata": {
        "colab": {
          "base_uri": "https://localhost:8080/"
        },
        "id": "khagPSn4-uyW",
        "outputId": "93717ad0-491c-45df-cf18-c377092369eb"
      },
      "execution_count": null,
      "outputs": [
        {
          "output_type": "execute_result",
          "data": {
            "text/plain": [
              "dict_keys(['달러', '위안'])"
            ]
          },
          "metadata": {},
          "execution_count": 200
        }
      ]
    },
    {
      "cell_type": "code",
      "source": [
        "a.values()\n",
        "#a변수 사전에서 values값만 출력"
      ],
      "metadata": {
        "colab": {
          "base_uri": "https://localhost:8080/"
        },
        "id": "GkYZ3yf1-4Ic",
        "outputId": "25ee01ca-7e0a-47ee-cfcb-a6154a4aea9f"
      },
      "execution_count": null,
      "outputs": [
        {
          "output_type": "execute_result",
          "data": {
            "text/plain": [
              "dict_values([1400, 300])"
            ]
          },
          "metadata": {},
          "execution_count": 202
        }
      ]
    },
    {
      "cell_type": "code",
      "source": [
        "a = \"statustucsssss\"\n",
        "s = set(a)\n",
        "s\n",
        "#같은값은 세트로 묶임/ 중복된 값은 허용하지 않는다"
      ],
      "metadata": {
        "colab": {
          "base_uri": "https://localhost:8080/"
        },
        "id": "rmq9OQKQ_Jy3",
        "outputId": "732962c2-6ccb-4042-a28f-7f50130f1a50"
      },
      "execution_count": 190,
      "outputs": [
        {
          "output_type": "execute_result",
          "data": {
            "text/plain": [
              "{'a', 'c', 's', 't', 'u'}"
            ]
          },
          "metadata": {},
          "execution_count": 190
        }
      ]
    },
    {
      "cell_type": "code",
      "source": [
        "com = [\"사원\", \"대리\",\"팀장\",\"실장\",\"팀장\"]"
      ],
      "metadata": {
        "id": "gC0Mfuxr_XWV"
      },
      "execution_count": 187,
      "outputs": []
    },
    {
      "cell_type": "code",
      "source": [
        "s_com = set(com)"
      ],
      "metadata": {
        "id": "KMBwcpEh_naw"
      },
      "execution_count": 188,
      "outputs": []
    },
    {
      "cell_type": "code",
      "source": [
        "s_com\n",
        "# 중복된 값은 세트로 묶여서 한개의값으로 출력"
      ],
      "metadata": {
        "colab": {
          "base_uri": "https://localhost:8080/"
        },
        "id": "NIbR8YFR_sUY",
        "outputId": "3b984bce-4809-4786-e90a-0268b77dd745"
      },
      "execution_count": 189,
      "outputs": [
        {
          "output_type": "execute_result",
          "data": {
            "text/plain": [
              "{'대리', '사원', '실장', '팀장'}"
            ]
          },
          "metadata": {},
          "execution_count": 189
        }
      ]
    },
    {
      "cell_type": "code",
      "source": [
        "a = set ([1,2,3])\n",
        "b = set ([2,3,4])\n",
        "#세트는 데이터들을 중괄호로 출력한다.\n",
        "#집합을 구할려면 세트로 묶어서 볼수있다."
      ],
      "metadata": {
        "id": "XGSDn6J4_2UQ"
      },
      "execution_count": 211,
      "outputs": []
    },
    {
      "cell_type": "code",
      "source": [
        "a"
      ],
      "metadata": {
        "colab": {
          "base_uri": "https://localhost:8080/"
        },
        "id": "_mTIZ1fxAMD2",
        "outputId": "08cee78f-8f34-49b3-ac0d-a93b2f8c7281"
      },
      "execution_count": 199,
      "outputs": [
        {
          "output_type": "execute_result",
          "data": {
            "text/plain": [
              "{1, 2, 3}"
            ]
          },
          "metadata": {},
          "execution_count": 199
        }
      ]
    },
    {
      "cell_type": "code",
      "source": [
        "b"
      ],
      "metadata": {
        "colab": {
          "base_uri": "https://localhost:8080/"
        },
        "id": "0N9jy1gBANaz",
        "outputId": "1a6fbe35-eafa-4696-bf52-498d73287b50"
      },
      "execution_count": 194,
      "outputs": [
        {
          "output_type": "execute_result",
          "data": {
            "text/plain": [
              "{2, 3, 4}"
            ]
          },
          "metadata": {},
          "execution_count": 194
        }
      ]
    },
    {
      "cell_type": "code",
      "source": [
        "a & b\n",
        "#a변수와 b변수 교집합 / \"&\" 기호를 이용하면 교집합을 간단히 구할 수 있다."
      ],
      "metadata": {
        "colab": {
          "base_uri": "https://localhost:8080/"
        },
        "id": "R_KZssr2AOfL",
        "outputId": "20aeb40e-8763-46fb-dc92-c9a5f0734cb1"
      },
      "execution_count": 201,
      "outputs": [
        {
          "output_type": "execute_result",
          "data": {
            "text/plain": [
              "{2, 3}"
            ]
          },
          "metadata": {},
          "execution_count": 201
        }
      ]
    },
    {
      "cell_type": "code",
      "source": [
        "a|b\n",
        "# 합집합은 \"|\" 사용해 다음과 같이 구할 수 있다.  중복해서 포함된 값은 한 개씩만 출력된다."
      ],
      "metadata": {
        "colab": {
          "base_uri": "https://localhost:8080/"
        },
        "id": "vxWGYzE0AQ6I",
        "outputId": "fcc825ed-bcd7-4e4f-f7b0-74f3dd40fc8c"
      },
      "execution_count": 202,
      "outputs": [
        {
          "output_type": "execute_result",
          "data": {
            "text/plain": [
              "{1, 2, 3, 4}"
            ]
          },
          "metadata": {},
          "execution_count": 202
        }
      ]
    },
    {
      "cell_type": "code",
      "source": [
        "a - b\n",
        "# 차집합은 다음과 같이 빼기(-) 기호를 사용 구할 수 있다. a의 차집합이니 값은 1 출력\n",
        "# b의 차집합을 나타내게 하려면 b-a를 입력 / b의 차집합을 구하면 4가 출력됨"
      ],
      "metadata": {
        "colab": {
          "base_uri": "https://localhost:8080/"
        },
        "id": "NEUK8Z48AWpn",
        "outputId": "6f222b96-7b40-4e12-d7ad-033cdbd541b9"
      },
      "execution_count": 197,
      "outputs": [
        {
          "output_type": "execute_result",
          "data": {
            "text/plain": [
              "{1}"
            ]
          },
          "metadata": {},
          "execution_count": 197
        }
      ]
    },
    {
      "cell_type": "code",
      "source": [
        "a^b  # 대칭 집합 / 서로 겹치지 않는 대칭차집합 "
      ],
      "metadata": {
        "colab": {
          "base_uri": "https://localhost:8080/"
        },
        "id": "8wLRFFVehxJx",
        "outputId": "e1be0e04-0f55-4974-c3a0-d17aae278ac4"
      },
      "execution_count": 203,
      "outputs": [
        {
          "output_type": "execute_result",
          "data": {
            "text/plain": [
              "{1, 4}"
            ]
          },
          "metadata": {},
          "execution_count": 203
        }
      ]
    },
    {
      "cell_type": "code",
      "source": [
        "print(a.symmetric_difference(b))  # 대칭 집합 함수 2번째 / 서로 겹치지 않는 대칭차집합 "
      ],
      "metadata": {
        "colab": {
          "base_uri": "https://localhost:8080/"
        },
        "id": "_Fl--2wDiCHb",
        "outputId": "8c85ea97-1136-4af5-9475-3c4c3d936277"
      },
      "execution_count": 206,
      "outputs": [
        {
          "output_type": "stream",
          "name": "stdout",
          "text": [
            "{1, 4}\n"
          ]
        }
      ]
    },
    {
      "cell_type": "code",
      "source": [
        "a"
      ],
      "metadata": {
        "colab": {
          "base_uri": "https://localhost:8080/"
        },
        "id": "SJIgSJtoi9c_",
        "outputId": "aef3d48b-caba-4d72-cd20-099237315b57"
      },
      "execution_count": 212,
      "outputs": [
        {
          "output_type": "execute_result",
          "data": {
            "text/plain": [
              "{1, 2, 3}"
            ]
          },
          "metadata": {},
          "execution_count": 212
        }
      ]
    },
    {
      "cell_type": "code",
      "source": [
        "a.update([5,6,7])\n",
        "# 여러 개의 값을 한꺼번에 추가(update) 사용\n",
        "#1개의 값만 추가(add)할 경우에는 a.add(4)"
      ],
      "metadata": {
        "id": "Ve-LYz3KAZk4"
      },
      "execution_count": 213,
      "outputs": []
    },
    {
      "cell_type": "code",
      "source": [
        "a"
      ],
      "metadata": {
        "colab": {
          "base_uri": "https://localhost:8080/"
        },
        "id": "-v3Ob8JIAli5",
        "outputId": "d2b68754-c7aa-42f8-941f-23332bb38c0d"
      },
      "execution_count": 214,
      "outputs": [
        {
          "output_type": "execute_result",
          "data": {
            "text/plain": [
              "{1, 2, 3, 5, 6, 7}"
            ]
          },
          "metadata": {},
          "execution_count": 214
        }
      ]
    },
    {
      "cell_type": "code",
      "source": [
        "a.remove(3)\n",
        "#a변수에서 (소괄호)해당하는 숫자만 지워줘"
      ],
      "metadata": {
        "id": "_e1DDz0-AoBw"
      },
      "execution_count": null,
      "outputs": []
    },
    {
      "cell_type": "code",
      "source": [
        "a"
      ],
      "metadata": {
        "colab": {
          "base_uri": "https://localhost:8080/"
        },
        "id": "RtDTQcqHAw8f",
        "outputId": "89353487-7b39-4722-d11c-9a4791f9ecb0"
      },
      "execution_count": null,
      "outputs": [
        {
          "output_type": "execute_result",
          "data": {
            "text/plain": [
              "{1, 2, 5, 6, 7}"
            ]
          },
          "metadata": {},
          "execution_count": 218
        }
      ]
    },
    {
      "cell_type": "code",
      "source": [
        "a.remove(5)"
      ],
      "metadata": {
        "id": "luYdqJelAyNs"
      },
      "execution_count": null,
      "outputs": []
    },
    {
      "cell_type": "code",
      "source": [
        "a"
      ],
      "metadata": {
        "colab": {
          "base_uri": "https://localhost:8080/"
        },
        "id": "Dx1QcxrkA1DD",
        "outputId": "bf3c09a1-91b0-4d08-bbc3-e2a8f933e2e9"
      },
      "execution_count": null,
      "outputs": [
        {
          "output_type": "execute_result",
          "data": {
            "text/plain": [
              "{1, 2, 6, 7}"
            ]
          },
          "metadata": {},
          "execution_count": 220
        }
      ]
    },
    {
      "cell_type": "code",
      "source": [
        "a.remove(7)"
      ],
      "metadata": {
        "id": "5o-AYW_RA2eO"
      },
      "execution_count": null,
      "outputs": []
    },
    {
      "cell_type": "code",
      "source": [
        "a\n",
        "# remove로 5를 제거한 결과값"
      ],
      "metadata": {
        "colab": {
          "base_uri": "https://localhost:8080/"
        },
        "id": "4dVXUKT5A4aY",
        "outputId": "862be10b-4d84-447e-eab2-762e9895a9d5"
      },
      "execution_count": null,
      "outputs": [
        {
          "output_type": "execute_result",
          "data": {
            "text/plain": [
              "{1, 2, 6}"
            ]
          },
          "metadata": {},
          "execution_count": 222
        }
      ]
    },
    {
      "cell_type": "code",
      "source": [
        "a = 100\n",
        "b = 150\n",
        "c = 200\n",
        "# %d : integer 정수\n",
        "# %f : float 실수\n",
        "# %s : string 문자열\n",
        "# %o로 8진수 포맷팅이나, %x로 16진수 포맷팅을 하는 것도 가능 \n",
        "# 단, 이 때 변수에 담긴 값은 정수 수나 문자열 자료형 등이 들어오면 오류가 발생합니다."
      ],
      "metadata": {
        "id": "NOasVNyDBAxn"
      },
      "execution_count": null,
      "outputs": []
    },
    {
      "cell_type": "code",
      "source": [
        "print('정수 포맷팅(5자리 0으로채움) : %05d'%a)\n",
        "print('정수 포맷팅(5자리 공백) : %5d'%a)"
      ],
      "metadata": {
        "colab": {
          "base_uri": "https://localhost:8080/"
        },
        "id": "aa1Bke0flZs3",
        "outputId": "75616750-7f10-41e2-9285-e12fcba0e446"
      },
      "execution_count": 221,
      "outputs": [
        {
          "output_type": "stream",
          "name": "stdout",
          "text": [
            "정수 포맷팅(5자리 0으로채움) : 00100\n",
            "정수 포맷팅(5자리 공백) :   100\n"
          ]
        }
      ]
    },
    {
      "cell_type": "code",
      "source": [
        "print(\"사과 1개의 가격은 %d원 입니다.\" %a)\n",
        "#%d를 이용해서 계속 변할수 있는 정수를 사용할때 이용하면된다."
      ],
      "metadata": {
        "colab": {
          "base_uri": "https://localhost:8080/"
        },
        "id": "aBQFtEjhBGyS",
        "outputId": "7e7e4022-17ea-4202-aacf-8e36fa7ba8e2"
      },
      "execution_count": null,
      "outputs": [
        {
          "output_type": "stream",
          "name": "stdout",
          "text": [
            "사과 1개의 가격은 100원 입니다.\n"
          ]
        }
      ]
    },
    {
      "cell_type": "code",
      "source": [
        "print(\"사과 1개의 가격은 %d원 입니다.\" %b)"
      ],
      "metadata": {
        "colab": {
          "base_uri": "https://localhost:8080/"
        },
        "id": "VtP0XeJkBYBK",
        "outputId": "13d0df6f-87c8-4cb7-f8fa-1300f66530d7"
      },
      "execution_count": null,
      "outputs": [
        {
          "output_type": "stream",
          "name": "stdout",
          "text": [
            "사과 1개의 가격은 150원 입니다.\n"
          ]
        }
      ]
    },
    {
      "cell_type": "code",
      "source": [
        "print(\"사과 1개의 가격은 %d원 입니다.\" %c)"
      ],
      "metadata": {
        "colab": {
          "base_uri": "https://localhost:8080/"
        },
        "id": "ry_u9BEqBaWT",
        "outputId": "4acf41aa-7d26-4a08-b9d1-c0b3d73f9a9e"
      },
      "execution_count": null,
      "outputs": [
        {
          "output_type": "stream",
          "name": "stdout",
          "text": [
            "사과 1개의 가격은 200원 입니다.\n"
          ]
        }
      ]
    },
    {
      "cell_type": "code",
      "source": [
        "print(\"사과 1개의 가격은 %d원 입니다. 사과 2개의 가격은 %d원 입니다\" %(a, b))"
      ],
      "metadata": {
        "colab": {
          "base_uri": "https://localhost:8080/"
        },
        "id": "kb6d3um4Bcg-",
        "outputId": "89581210-9fdb-4417-d685-1af68c164d2b"
      },
      "execution_count": null,
      "outputs": [
        {
          "output_type": "stream",
          "name": "stdout",
          "text": [
            "사과 1개의 가격은 100원 입니다. 사과 2개의 가격은 150원 입니다\n"
          ]
        }
      ]
    },
    {
      "cell_type": "code",
      "source": [
        "a = 100.50123\n",
        "b = 150.50\n",
        "c = 200"
      ],
      "metadata": {
        "id": "In3rUur9CGi2"
      },
      "execution_count": 226,
      "outputs": []
    },
    {
      "cell_type": "code",
      "source": [
        "print('정수 (1자리 ) : %.1f'%a)\n",
        "print('정수 (2자리 ) : %.3f'%a)\n",
        "#1f정수 한자리 출력  3f는 정수 3자리까지 출력"
      ],
      "metadata": {
        "colab": {
          "base_uri": "https://localhost:8080/"
        },
        "id": "hJ1uqTVDmrkO",
        "outputId": "ff207c2f-b49c-4a2f-c986-9eec78d8ccb1"
      },
      "execution_count": 229,
      "outputs": [
        {
          "output_type": "stream",
          "name": "stdout",
          "text": [
            "정수 (1자리 ) : 100.5\n",
            "정수 (2자리 ) : 100.501\n"
          ]
        }
      ]
    },
    {
      "cell_type": "code",
      "source": [
        "print(\"사과 2개의 가격은 %.1f원 입니다.\" %b) #b변값을 %.1f  f앞에 숫자로 소수점을 몇개 표현할건지 정한다 "
      ],
      "metadata": {
        "colab": {
          "base_uri": "https://localhost:8080/"
        },
        "id": "ARkjjVdJCMLj",
        "outputId": "b46a45ef-adf8-4c39-ca71-3ee905ac68f9"
      },
      "execution_count": 230,
      "outputs": [
        {
          "output_type": "stream",
          "name": "stdout",
          "text": [
            "사과 2개의 가격은 150.5원 입니다.\n"
          ]
        }
      ]
    },
    {
      "cell_type": "code",
      "source": [
        "d = \"김효성\"\n",
        "print(\"%s 고객님. 안녕하세요\" %d)\n",
        "print(\"사과 1개의 가격은 %d원 입니다\" %a)\n",
        "#a 변수값을 %d로 정수로만 출력"
      ],
      "metadata": {
        "colab": {
          "base_uri": "https://localhost:8080/"
        },
        "id": "n2bO_9nzCfcf",
        "outputId": "0cd7d6b9-ee2b-4c6c-b51a-0f47d8caf87e"
      },
      "execution_count": 234,
      "outputs": [
        {
          "output_type": "stream",
          "name": "stdout",
          "text": [
            "김효성 고객님. 안녕하세요\n",
            "사과 1개의 가격은 100원 입니다\n"
          ]
        }
      ]
    },
    {
      "cell_type": "code",
      "source": [
        "e = 11"
      ],
      "metadata": {
        "id": "ALydT23alr3G"
      },
      "execution_count": null,
      "outputs": []
    },
    {
      "cell_type": "code",
      "source": [
        "a+b"
      ],
      "metadata": {
        "colab": {
          "base_uri": "https://localhost:8080/"
        },
        "id": "S3LQSlpqnfbB",
        "outputId": "71a0c00d-8823-4515-b0e5-a3970a62696c"
      },
      "execution_count": 235,
      "outputs": [
        {
          "output_type": "execute_result",
          "data": {
            "text/plain": [
              "251.00123000000002"
            ]
          },
          "metadata": {},
          "execution_count": 235
        }
      ]
    },
    {
      "cell_type": "code",
      "source": [
        "a = (5)"
      ],
      "metadata": {
        "id": "mJloYjnZTQ6j"
      },
      "execution_count": 236,
      "outputs": []
    },
    {
      "cell_type": "code",
      "source": [
        "type(a)"
      ],
      "metadata": {
        "colab": {
          "base_uri": "https://localhost:8080/"
        },
        "id": "eTbU_7nkTXwH",
        "outputId": "9c3107e7-78e9-4e79-9586-3c0a5d9a2a96"
      },
      "execution_count": 237,
      "outputs": [
        {
          "output_type": "execute_result",
          "data": {
            "text/plain": [
              "int"
            ]
          },
          "metadata": {},
          "execution_count": 237
        }
      ]
    },
    {
      "cell_type": "code",
      "source": [
        "조건문"
      ],
      "metadata": {
        "id": "kqVcfaICWBsh"
      },
      "execution_count": null,
      "outputs": []
    },
    {
      "cell_type": "code",
      "source": [
        "#if\n",
        "1 < 2    # 1보다 2가 크면 맞다고 해줘"
      ],
      "metadata": {
        "colab": {
          "base_uri": "https://localhost:8080/"
        },
        "id": "iqEdUPNnWFkI",
        "outputId": "8bba43a9-3fdd-42e0-f87c-2ef30dd49222"
      },
      "execution_count": null,
      "outputs": [
        {
          "output_type": "execute_result",
          "data": {
            "text/plain": [
              "True"
            ]
          },
          "metadata": {},
          "execution_count": 5
        }
      ]
    },
    {
      "cell_type": "code",
      "source": [
        "1 > 2    #  2보다 1이 크니?  출력값 : False 아니"
      ],
      "metadata": {
        "colab": {
          "base_uri": "https://localhost:8080/"
        },
        "id": "swlTwFdqWmen",
        "outputId": "15ebc075-bbf0-4dba-98c7-fbb2e1a7d288"
      },
      "execution_count": null,
      "outputs": [
        {
          "output_type": "execute_result",
          "data": {
            "text/plain": [
              "False"
            ]
          },
          "metadata": {},
          "execution_count": 6
        }
      ]
    },
    {
      "cell_type": "code",
      "source": [
        "1 <= 2  # 2가 1보다 크거나 같니?   출력값 : True 맞아"
      ],
      "metadata": {
        "colab": {
          "base_uri": "https://localhost:8080/"
        },
        "id": "8N3brWK-WpU0",
        "outputId": "328bd4f1-27d9-41d0-afbc-30dd5acaa4f2"
      },
      "execution_count": null,
      "outputs": [
        {
          "output_type": "execute_result",
          "data": {
            "text/plain": [
              "True"
            ]
          },
          "metadata": {},
          "execution_count": 7
        }
      ]
    },
    {
      "cell_type": "code",
      "source": [
        "1<=1   # 1이 1보다 크거나 같니 ???  출력값 : True 맞아"
      ],
      "metadata": {
        "colab": {
          "base_uri": "https://localhost:8080/"
        },
        "id": "0KlVSoIeWugZ",
        "outputId": "cca05080-1989-49a0-a0bb-25e72423c854"
      },
      "execution_count": null,
      "outputs": [
        {
          "output_type": "execute_result",
          "data": {
            "text/plain": [
              "True"
            ]
          },
          "metadata": {},
          "execution_count": 8
        }
      ]
    },
    {
      "cell_type": "code",
      "source": [
        "# and  교집합 \n",
        "# or 합집합 "
      ],
      "metadata": {
        "id": "LBwlK7Z4i_Gw"
      },
      "execution_count": null,
      "outputs": []
    },
    {
      "cell_type": "code",
      "source": [
        "1 and 0 \n",
        "#트루 펄스에서 펄스가 나온다 / 1 & 0 으로 해도 된다 / 교집합이 안되니까 0 거짓이 나온거다"
      ],
      "metadata": {
        "colab": {
          "base_uri": "https://localhost:8080/"
        },
        "id": "k4s0Sn0GWw7F",
        "outputId": "a4e5864c-d3d3-4114-e823-fee8fda867d3"
      },
      "execution_count": null,
      "outputs": [
        {
          "output_type": "execute_result",
          "data": {
            "text/plain": [
              "0"
            ]
          },
          "metadata": {},
          "execution_count": 9
        }
      ]
    },
    {
      "cell_type": "code",
      "source": [
        "1 and 1    # and  교집합 "
      ],
      "metadata": {
        "colab": {
          "base_uri": "https://localhost:8080/"
        },
        "id": "G26GfVr6gG5I",
        "outputId": "9462b0e9-38e1-46e2-d445-38a55596bea0"
      },
      "execution_count": null,
      "outputs": [
        {
          "output_type": "execute_result",
          "data": {
            "text/plain": [
              "1"
            ]
          },
          "metadata": {},
          "execution_count": 95
        }
      ]
    },
    {
      "cell_type": "code",
      "source": [
        "1 or 0    # or 합집합 "
      ],
      "metadata": {
        "colab": {
          "base_uri": "https://localhost:8080/"
        },
        "id": "koTRl2cUW0lu",
        "outputId": "4b29e06c-c306-45c7-a582-888bc2045d59"
      },
      "execution_count": null,
      "outputs": [
        {
          "output_type": "execute_result",
          "data": {
            "text/plain": [
              "1"
            ]
          },
          "metadata": {},
          "execution_count": 10
        }
      ]
    },
    {
      "cell_type": "code",
      "source": [
        "not 1 #  참을 뜻하는 1에 반전 False 출력 / True참이면 반대로 False 거짓을 출력 False 거짓이면 True참을출력"
      ],
      "metadata": {
        "colab": {
          "base_uri": "https://localhost:8080/"
        },
        "id": "zXRpLMIyW8_8",
        "outputId": "2e629c7b-5a45-47d1-bb52-1ad7acf3ebe2"
      },
      "execution_count": 238,
      "outputs": [
        {
          "output_type": "execute_result",
          "data": {
            "text/plain": [
              "False"
            ]
          },
          "metadata": {},
          "execution_count": 238
        }
      ]
    },
    {
      "cell_type": "code",
      "source": [
        "not 0"
      ],
      "metadata": {
        "colab": {
          "base_uri": "https://localhost:8080/"
        },
        "id": "1ApErp7HXFns",
        "outputId": "b8ffc3d1-a157-410f-f027-2b079a633b7b"
      },
      "execution_count": null,
      "outputs": [
        {
          "output_type": "execute_result",
          "data": {
            "text/plain": [
              "True"
            ]
          },
          "metadata": {},
          "execution_count": 12
        }
      ]
    },
    {
      "cell_type": "code",
      "source": [
        "\"a\"in \"abc\"  #abc안에 a가 있니???  답 : True 있어 "
      ],
      "metadata": {
        "colab": {
          "base_uri": "https://localhost:8080/"
        },
        "id": "R9JjuNzWXKMf",
        "outputId": "5786bc95-b93e-4c45-f970-0e2177700615"
      },
      "execution_count": null,
      "outputs": [
        {
          "output_type": "execute_result",
          "data": {
            "text/plain": [
              "True"
            ]
          },
          "metadata": {},
          "execution_count": 13
        }
      ]
    },
    {
      "cell_type": "code",
      "source": [
        "\"e\"in \"ebc\"   #ebc안에 e가 있니???  답 : True 있어 "
      ],
      "metadata": {
        "colab": {
          "base_uri": "https://localhost:8080/"
        },
        "id": "AkeI-3spkIy-",
        "outputId": "257e6ceb-5546-4475-9116-3425c0683f42"
      },
      "execution_count": null,
      "outputs": [
        {
          "output_type": "execute_result",
          "data": {
            "text/plain": [
              "True"
            ]
          },
          "metadata": {},
          "execution_count": 97
        }
      ]
    },
    {
      "cell_type": "code",
      "source": [
        "\"a\"in \"bc\"    #bc안에 a가 있니???  답 : False 없어\n",
        "#스트링 안에서 본것"
      ],
      "metadata": {
        "colab": {
          "base_uri": "https://localhost:8080/"
        },
        "id": "1nUDnUCXXcTt",
        "outputId": "cc69b289-54d3-48f0-e553-87066d93240b"
      },
      "execution_count": null,
      "outputs": [
        {
          "output_type": "execute_result",
          "data": {
            "text/plain": [
              "False"
            ]
          },
          "metadata": {},
          "execution_count": 14
        }
      ]
    },
    {
      "cell_type": "code",
      "source": [
        "1 in [0,2,3,4]     #[0,2,3,4] 안에 1가 있니???  답 : False 없어\n",
        "#리스트에서 본것"
      ],
      "metadata": {
        "colab": {
          "base_uri": "https://localhost:8080/"
        },
        "id": "CgKYOZ4XXnJ0",
        "outputId": "4c4bcc5b-7780-4eff-cf29-cdbaa9df8ca8"
      },
      "execution_count": null,
      "outputs": [
        {
          "output_type": "execute_result",
          "data": {
            "text/plain": [
              "False"
            ]
          },
          "metadata": {},
          "execution_count": 16
        }
      ]
    },
    {
      "cell_type": "code",
      "source": [
        "1 not in [0,2,3,4]      #[0,2,3,4] 안에 1가 없니???  답 : True 응 니말이 맞아"
      ],
      "metadata": {
        "colab": {
          "base_uri": "https://localhost:8080/"
        },
        "id": "ix9PYSkXXurW",
        "outputId": "6885520b-5f11-49dd-fc03-a17aa1d62025"
      },
      "execution_count": null,
      "outputs": [
        {
          "output_type": "execute_result",
          "data": {
            "text/plain": [
              "True"
            ]
          },
          "metadata": {},
          "execution_count": 17
        }
      ]
    },
    {
      "cell_type": "code",
      "source": [
        "score = 75\n",
        "if  score  > 90:\n",
        "    print (\"a\")    # 스코어점수가  90보다 크면 a를 출력해줘  (else) 아니면 다음문장으로\n",
        "else :      #여기까지 한 묶음  if ~ else까지 \n",
        "    if score > 80 :     # 이전의 else에서 4칸 스페이스 눌러서 뛰우고 다시 if ~ else 작성\n",
        "        print(\"b\")   # 스코어점수가  80보다 크면 b를 출력해줘  (else) 아니면 다음문장으로\n",
        "    else :\n",
        "        if score > 70 :      # 이전의 else에서 4칸 스페이스 눌러서 뛰우고 다시 if ~ else 작성\n",
        "            print(\"c\")        # 스코어점수가  70보다 크면 c를 출력해줘  \n",
        "        else :\n",
        "            if score > 60 :        # 이전의 else에서 4칸 스페이스 눌러서 뛰우고 다시 if ~ else 작성\n",
        "                print(\"d\")       # 스코어점수가  60보다 크면 d를 출력해줘 \n",
        "            else :\n",
        "                 print(\"f\")"
      ],
      "metadata": {
        "colab": {
          "base_uri": "https://localhost:8080/"
        },
        "id": "nGVw-tKOXex5",
        "outputId": "fe0db297-9af7-48a8-c169-5c3aeca84261"
      },
      "execution_count": null,
      "outputs": [
        {
          "output_type": "stream",
          "name": "stdout",
          "text": [
            "c\n"
          ]
        }
      ]
    },
    {
      "cell_type": "code",
      "source": [
        "score = 55\n",
        "if  score  > 90:\n",
        "    print (\"a\")    # 스코어점수가  90보다 크면 a를 출력해줘  (else) 아니면 다음문장으로\n",
        "else :      #여기까지 한 묶음  if ~ else까지 \n",
        "    if score > 80 :     # 이전의 else에서 4칸 스페이스 눌러서 뛰우고 다시 if ~ else 작성\n",
        "        print(\"b\")   # 스코어점수가  80보다 크면 b를 출력해줘  (else) 아니면 다음문장으로\n",
        "    else :\n",
        "        if score > 70 :      # 이전의 else에서 4칸 스페이스 눌러서 뛰우고 다시 if ~ else 작성\n",
        "            print(\"c\")        # 스코어점수가  70보다 크면 c를 출력해줘  \n",
        "        else :\n",
        "            if score > 60 :        # 이전의 else에서 4칸 스페이스 눌러서 뛰우고 다시 if ~ else 작성\n",
        "                print(\"d\")       # 스코어점수가  60보다 크면 d를 출력해줘 \n",
        "            else :\n",
        "                 print(\"f\")   # f를 출력해줘 "
      ],
      "metadata": {
        "id": "zHdZ2XyOmuoq"
      },
      "execution_count": null,
      "outputs": []
    },
    {
      "cell_type": "code",
      "source": [
        "1/0\n",
        "#  ZeroDivisionError: division by zero 영으로 나눠서 잘못됬어"
      ],
      "metadata": {
        "colab": {
          "base_uri": "https://localhost:8080/",
          "height": 200
        },
        "id": "g0qhq77obcVn",
        "outputId": "12cf493e-9910-4586-9d87-e06c1f9af005"
      },
      "execution_count": null,
      "outputs": [
        {
          "output_type": "error",
          "ename": "ZeroDivisionError",
          "evalue": "ignored",
          "traceback": [
            "\u001b[0;31m---------------------------------------------------------------------------\u001b[0m",
            "\u001b[0;31mZeroDivisionError\u001b[0m                         Traceback (most recent call last)",
            "\u001b[0;32m<ipython-input-101-182dbf5874a5>\u001b[0m in \u001b[0;36m<module>\u001b[0;34m\u001b[0m\n\u001b[0;32m----> 1\u001b[0;31m \u001b[0;36m1\u001b[0m\u001b[0;34m/\u001b[0m\u001b[0;36m0\u001b[0m\u001b[0;34m\u001b[0m\u001b[0;34m\u001b[0m\u001b[0m\n\u001b[0m\u001b[1;32m      2\u001b[0m \u001b[0;31m#  ZeroDivisionError: division by zero 영어로 나눠서 잘못됬어\u001b[0m\u001b[0;34m\u001b[0m\u001b[0;34m\u001b[0m\u001b[0;34m\u001b[0m\u001b[0m\n",
            "\u001b[0;31mZeroDivisionError\u001b[0m: division by zero"
          ]
        }
      ]
    },
    {
      "cell_type": "code",
      "source": [
        "try : 1/0\n",
        "except :       # 오류가 발생하면  (분모가 0이 나왔음) 출력해줘\n",
        "    print (\"분모가 0이 나왔음\")\n",
        "else : \n",
        "    print(\"분모가 이상없음\")      # 만약 오류가 발생하지 않으면 (\"분모가 이상없음\") 출력해줘"
      ],
      "metadata": {
        "colab": {
          "base_uri": "https://localhost:8080/"
        },
        "id": "yilkSKJfbmzJ",
        "outputId": "f8c3df60-2beb-4a9b-b6cc-dd4c4e106665"
      },
      "execution_count": null,
      "outputs": [
        {
          "output_type": "stream",
          "name": "stdout",
          "text": [
            "분모가 0이 나왔음\n"
          ]
        }
      ]
    },
    {
      "cell_type": "code",
      "source": [
        "try : 1/3\n",
        "except : \n",
        "    print (\"분모가 0이 나왔음\")\n",
        "else : \n",
        "    print(\"분모가 이상없음\")"
      ],
      "metadata": {
        "colab": {
          "base_uri": "https://localhost:8080/"
        },
        "id": "nxglHDzDcRko",
        "outputId": "7c3db8d5-b3d3-4ca4-a0c6-bdb1df376f68"
      },
      "execution_count": null,
      "outputs": [
        {
          "output_type": "stream",
          "name": "stdout",
          "text": [
            "분모가 이상없음\n"
          ]
        }
      ]
    },
    {
      "cell_type": "code",
      "source": [
        "반복문"
      ],
      "metadata": {
        "colab": {
          "base_uri": "https://localhost:8080/",
          "height": 180
        },
        "id": "HcoGGYcDcT7V",
        "outputId": "f85162ed-bc93-4663-94ae-0347f081fe15"
      },
      "execution_count": null,
      "outputs": [
        {
          "output_type": "error",
          "ename": "NameError",
          "evalue": "ignored",
          "traceback": [
            "\u001b[0;31m---------------------------------------------------------------------------\u001b[0m",
            "\u001b[0;31mNameError\u001b[0m                                 Traceback (most recent call last)",
            "\u001b[0;32m<ipython-input-50-f395c44e8820>\u001b[0m in \u001b[0;36m<module>\u001b[0;34m\u001b[0m\n\u001b[0;32m----> 1\u001b[0;31m \u001b[0m반복문\u001b[0m\u001b[0;34m\u001b[0m\u001b[0;34m\u001b[0m\u001b[0m\n\u001b[0m",
            "\u001b[0;31mNameError\u001b[0m: name '반복문' is not defined"
          ]
        }
      ]
    },
    {
      "cell_type": "code",
      "source": [
        "#while. for  반복문 / 와일문은 계속 반복된다 그래서 잘 사용안한다"
      ],
      "metadata": {
        "id": "NmQF2BEvc0sN"
      },
      "execution_count": null,
      "outputs": []
    },
    {
      "cell_type": "code",
      "source": [
        "i = 0\n",
        "while i < 10 : \n",
        "        i+=1 # i = i+1\n",
        "        print(i)"
      ],
      "metadata": {
        "colab": {
          "base_uri": "https://localhost:8080/"
        },
        "id": "eMnlRsOqc3gd",
        "outputId": "1c2e2ab7-970b-42b7-c4f1-d597e51a82b8"
      },
      "execution_count": null,
      "outputs": [
        {
          "output_type": "stream",
          "name": "stdout",
          "text": [
            "1\n",
            "2\n",
            "3\n",
            "4\n",
            "5\n",
            "6\n",
            "7\n",
            "8\n",
            "9\n",
            "10\n"
          ]
        }
      ]
    },
    {
      "cell_type": "code",
      "source": [
        "for i in  range(10) :\n",
        "      print(i)\n",
        "      #어떤 볌위 안에서 찾아줘라"
      ],
      "metadata": {
        "colab": {
          "base_uri": "https://localhost:8080/"
        },
        "id": "dSiOXe04c5j-",
        "outputId": "6d29c698-7ca1-4c98-fd30-a57f6c52df89"
      },
      "execution_count": null,
      "outputs": [
        {
          "output_type": "stream",
          "name": "stdout",
          "text": [
            "0\n",
            "1\n",
            "2\n",
            "3\n",
            "4\n",
            "5\n",
            "6\n",
            "7\n",
            "8\n",
            "9\n"
          ]
        }
      ]
    },
    {
      "cell_type": "code",
      "source": [
        "j = 0\n",
        "for i in range (10) : \n",
        "      j += i #j= i +j\n",
        "      print(j)\n",
        "      #하나씩 더해간다???????"
      ],
      "metadata": {
        "colab": {
          "base_uri": "https://localhost:8080/"
        },
        "id": "yO12beflebVa",
        "outputId": "a43297c9-9231-4c85-f97e-eef0d88a56d6"
      },
      "execution_count": null,
      "outputs": [
        {
          "output_type": "stream",
          "name": "stdout",
          "text": [
            "0\n",
            "1\n",
            "3\n",
            "6\n",
            "10\n",
            "15\n",
            "21\n",
            "28\n",
            "36\n",
            "45\n"
          ]
        }
      ]
    },
    {
      "cell_type": "code",
      "source": [
        "j = 0\n",
        "for i in range (5, 10) : \n",
        "      print(i, end = \" \")\n",
        "      #인덱스 기준"
      ],
      "metadata": {
        "colab": {
          "base_uri": "https://localhost:8080/"
        },
        "id": "kh5VSItYevMT",
        "outputId": "c49fd37f-cdcc-4de3-e809-cd8af779ef96"
      },
      "execution_count": null,
      "outputs": [
        {
          "output_type": "stream",
          "name": "stdout",
          "text": [
            "5 6 7 8 9 "
          ]
        }
      ]
    },
    {
      "cell_type": "code",
      "source": [
        "j = 0\n",
        "for i in range (5, 10, 2) : \n",
        "      print(i, end = \" \")"
      ],
      "metadata": {
        "colab": {
          "base_uri": "https://localhost:8080/"
        },
        "id": "CSGmXQCLfmHW",
        "outputId": "bf9e42e6-ce14-4bdb-85b5-349b2fb59639"
      },
      "execution_count": null,
      "outputs": [
        {
          "output_type": "stream",
          "name": "stdout",
          "text": [
            "5 7 9 "
          ]
        }
      ]
    },
    {
      "cell_type": "code",
      "source": [
        "def f(a) : \n",
        "       out = a /3\n",
        "       return out "
      ],
      "metadata": {
        "id": "HmIPctHEftFJ"
      },
      "execution_count": null,
      "outputs": []
    },
    {
      "cell_type": "code",
      "source": [
        "f(30)\n",
        "#30을 위에 3으로 나눈거다"
      ],
      "metadata": {
        "colab": {
          "base_uri": "https://localhost:8080/"
        },
        "id": "0hK0HxgegFND",
        "outputId": "f6f50e54-05a4-4cec-e148-5957b9200074"
      },
      "execution_count": null,
      "outputs": [
        {
          "output_type": "execute_result",
          "data": {
            "text/plain": [
              "10.0"
            ]
          },
          "metadata": {},
          "execution_count": 60
        }
      ]
    },
    {
      "cell_type": "code",
      "source": [
        "def div_3(a) : \n",
        "       out = a /3\n",
        "       return out "
      ],
      "metadata": {
        "id": "MHj7B1ptgOtc"
      },
      "execution_count": null,
      "outputs": []
    },
    {
      "cell_type": "code",
      "source": [
        "div_3(30)"
      ],
      "metadata": {
        "colab": {
          "base_uri": "https://localhost:8080/"
        },
        "id": "ncjKp477gd9z",
        "outputId": "b4731fa5-a198-4c1b-b281-ec43f72c6dfa"
      },
      "execution_count": null,
      "outputs": [
        {
          "output_type": "execute_result",
          "data": {
            "text/plain": [
              "10.0"
            ]
          },
          "metadata": {},
          "execution_count": 63
        }
      ]
    },
    {
      "cell_type": "code",
      "source": [],
      "metadata": {
        "id": "_7AaVWXVghRk"
      },
      "execution_count": null,
      "outputs": []
    }
  ]
}