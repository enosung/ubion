{
  "nbformat": 4,
  "nbformat_minor": 0,
  "metadata": {
    "colab": {
      "provenance": [],
      "mount_file_id": "1QCX58DYW0ZrxqBY8UbVO2TgJbCJ6wWFg",
      "authorship_tag": "ABX9TyP8yOaAhdvXZ2Uc6ZxY+nWf",
      "include_colab_link": true
    },
    "kernelspec": {
      "name": "python3",
      "display_name": "Python 3"
    },
    "language_info": {
      "name": "python"
    },
    "accelerator": "GPU",
    "gpuClass": "standard"
  },
  "cells": [
    {
      "cell_type": "markdown",
      "metadata": {
        "id": "view-in-github",
        "colab_type": "text"
      },
      "source": [
        "<a href=\"https://colab.research.google.com/github/enosung/ubion/blob/main/%ED%81%B4%EB%A7%81%EC%97%B0%EC%8A%B5_%ED%85%8D%EC%8A%A4%ED%8A%B8%EC%9D%98_%EC%82%AC%EB%B3%B8.ipynb\" target=\"_parent\"><img src=\"https://colab.research.google.com/assets/colab-badge.svg\" alt=\"Open In Colab\"/></a>"
      ]
    },
    {
      "cell_type": "code",
      "source": [
        "# Data set Source\n",
        "#If you will use this dataset please cite the following document:\n",
        "#1- First paper\n",
        "#@inproceedings{alhajri2016classification,\n",
        "#title={Classification of indoor environments based on spatial correlation of rf channel fingerprints},\n",
        "#author={Alhajri, MI and Alsindi, N and Ali, NT and Shubair, RM},\n",
        "#booktitle={Antennas and Propagation (APSURSI), 2016 IEEE International Symposium on},\n",
        "#pages={1447--1448},\n",
        "#year={2016},\n",
        "#}\n",
        "#2- Second paper\n",
        "#@article{alhajri2018classification,\n",
        "#title={Classification of Indoor Environments for IoT Applications: A Machine Learning Approach},\n",
        "#author={AlHajri, Mohamed Ibrahim and Ali, Nazar T and Shubair, Raed M},\n",
        "#journal={IEEE Antennas and Wireless Propagation Letters},\n",
        "#year={2018},\n",
        "#publisher={IEEE}\n",
        "#}\n",
        "#Dua, D. and Graff, C. (2019). UCI Machine Learning Repository [http://archive.ics.uci.edu/ml]. Irvine, CA: University of California, School of Information and Computer Science."
      ],
      "metadata": {
        "id": "exLQ7tSgQO5w"
      },
      "execution_count": null,
      "outputs": []
    },
    {
      "cell_type": "markdown",
      "source": [
        "# Data set Source\n",
        "If you will use this dataset please cite the following document:\n",
        "1- First paper\n",
        "@inproceedings{alhajri2016classification,\n",
        "title={Classification of indoor environments based on spatial correlation of rf channel fingerprints},\n",
        "author={Alhajri, MI and Alsindi, N and Ali, NT and Shubair, RM},\n",
        "booktitle={Antennas and Propagation (APSURSI), 2016 IEEE International Symposium on},\n",
        "pages={1447--1448},\n",
        "year={2016},\n",
        "}\n",
        "2- Second paper\n",
        "@article{alhajri2018classification,\n",
        "title={Classification of Indoor Environments for IoT Applications: A Machine Learning Approach},\n",
        "author={AlHajri, Mohamed Ibrahim and Ali, Nazar T and Shubair, Raed M},\n",
        "journal={IEEE Antennas and Wireless Propagation Letters},\n",
        "year={2018},\n",
        "publisher={IEEE}\n",
        "}"
      ],
      "metadata": {
        "id": "GnXi5jn5ZjZu"
      }
    },
    {
      "cell_type": "markdown",
      "source": [],
      "metadata": {
        "id": "I48djJf7Zdev"
      }
    },
    {
      "cell_type": "markdown",
      "source": [],
      "metadata": {
        "id": "4-Cd1XLJQoKa"
      }
    },
    {
      "cell_type": "code",
      "execution_count": null,
      "metadata": {
        "colab": {
          "base_uri": "https://localhost:8080/",
          "height": 36
        },
        "id": "jE-BXXrxrCFu",
        "outputId": "f6868b9f-aab3-46e9-f53c-dda0e7f329ce"
      },
      "outputs": [
        {
          "output_type": "execute_result",
          "data": {
            "text/plain": [
              "' 1234 jimhyosung kim'"
            ],
            "application/vnd.google.colaboratory.intrinsic+json": {
              "type": "string"
            }
          },
          "metadata": {},
          "execution_count": 10
        }
      ],
      "source": [
        "a = \" 1234 jim\"\n",
        "b = \"hyosung kim\"\n",
        "a+b"
      ]
    },
    {
      "cell_type": "code",
      "source": [
        "print(\"hello world!\")"
      ],
      "metadata": {
        "colab": {
          "base_uri": "https://localhost:8080/"
        },
        "id": "NssIzAcR00On",
        "outputId": "f84aab6b-9ec8-411e-f570-f7c94e875eea"
      },
      "execution_count": null,
      "outputs": [
        {
          "output_type": "stream",
          "name": "stdout",
          "text": [
            "hello world!\n"
          ]
        }
      ]
    },
    {
      "cell_type": "code",
      "source": [
        "a = \"python\""
      ],
      "metadata": {
        "id": "34BDIe4E06Nc"
      },
      "execution_count": null,
      "outputs": []
    },
    {
      "cell_type": "code",
      "source": [
        "a"
      ],
      "metadata": {
        "colab": {
          "base_uri": "https://localhost:8080/",
          "height": 36
        },
        "id": "g1ipHi5z099K",
        "outputId": "4b0df2b0-688a-47ff-b375-36bc3de250c0"
      },
      "execution_count": null,
      "outputs": [
        {
          "output_type": "execute_result",
          "data": {
            "text/plain": [
              "'python'"
            ],
            "application/vnd.google.colaboratory.intrinsic+json": {
              "type": "string"
            }
          },
          "metadata": {},
          "execution_count": 13
        }
      ]
    },
    {
      "cell_type": "code",
      "source": [
        "del a"
      ],
      "metadata": {
        "id": "OWwNLgK10_Cy"
      },
      "execution_count": null,
      "outputs": []
    },
    {
      "cell_type": "code",
      "source": [
        "a"
      ],
      "metadata": {
        "colab": {
          "base_uri": "https://localhost:8080/",
          "height": 180
        },
        "id": "gnaj2RRf4Hmq",
        "outputId": "133b1f74-326f-4353-9756-1ff632844c4b"
      },
      "execution_count": null,
      "outputs": [
        {
          "output_type": "error",
          "ename": "NameError",
          "evalue": "ignored",
          "traceback": [
            "\u001b[0;31m---------------------------------------------------------------------------\u001b[0m",
            "\u001b[0;31mNameError\u001b[0m                                 Traceback (most recent call last)",
            "\u001b[0;32m<ipython-input-15-3f786850e387>\u001b[0m in \u001b[0;36m<module>\u001b[0;34m\u001b[0m\n\u001b[0;32m----> 1\u001b[0;31m \u001b[0ma\u001b[0m\u001b[0;34m\u001b[0m\u001b[0;34m\u001b[0m\u001b[0m\n\u001b[0m",
            "\u001b[0;31mNameError\u001b[0m: name 'a' is not defined"
          ]
        }
      ]
    },
    {
      "cell_type": "code",
      "source": [
        "a = 2"
      ],
      "metadata": {
        "id": "U7mv-as94I-H"
      },
      "execution_count": null,
      "outputs": []
    },
    {
      "cell_type": "code",
      "source": [
        "print (a)"
      ],
      "metadata": {
        "id": "_0fXKAvg4PJi"
      },
      "execution_count": null,
      "outputs": []
    },
    {
      "cell_type": "code",
      "source": [
        "b = 4"
      ],
      "metadata": {
        "id": "B_weXPrI4Ygx"
      },
      "execution_count": null,
      "outputs": []
    },
    {
      "cell_type": "code",
      "source": [
        "print (b)"
      ],
      "metadata": {
        "id": "6YrF03tg4iwZ"
      },
      "execution_count": null,
      "outputs": []
    },
    {
      "cell_type": "code",
      "source": [
        "a+b"
      ],
      "metadata": {
        "id": "U2DqXEsI4lAL"
      },
      "execution_count": null,
      "outputs": []
    },
    {
      "cell_type": "code",
      "source": [
        "a*b"
      ],
      "metadata": {
        "id": "UQjnDn3z4nks"
      },
      "execution_count": null,
      "outputs": []
    },
    {
      "cell_type": "code",
      "source": [
        "a/b"
      ],
      "metadata": {
        "id": "mCexjgnz4qij"
      },
      "execution_count": null,
      "outputs": []
    },
    {
      "cell_type": "code",
      "source": [
        "a = 123"
      ],
      "metadata": {
        "id": "WxUvqXm04tBa"
      },
      "execution_count": null,
      "outputs": []
    },
    {
      "cell_type": "code",
      "source": [
        "type(a)"
      ],
      "metadata": {
        "id": "hAtyCNaj4wPk"
      },
      "execution_count": null,
      "outputs": []
    },
    {
      "cell_type": "code",
      "source": [
        "b = 123.1"
      ],
      "metadata": {
        "id": "KCE5rY9W4za6"
      },
      "execution_count": null,
      "outputs": []
    },
    {
      "cell_type": "code",
      "source": [
        "type(b)"
      ],
      "metadata": {
        "id": "TGJIVJjS42f-"
      },
      "execution_count": null,
      "outputs": []
    },
    {
      "cell_type": "code",
      "source": [
        "import numpy as np\n",
        "matrix = [[1,2,3,4,],[5,6,7,8,],[9,10,11,12]]\n",
        "matrix\n",
        "np.array(matrix, int).shape\n",
        "# import 불러와 numpy 넘파이를  as 넘파이를 np 약자로 사용할께\n",
        "# matrix 출력\n",
        "# 출력할때 넘파이로 변경해줘 matrix를 int 정수로 보여주고 shape 행과열을 알려줘/  출력값 : 3행 4열"
      ],
      "metadata": {
        "id": "iBMNU-jK45Jj"
      },
      "execution_count": null,
      "outputs": []
    },
    {
      "cell_type": "code",
      "source": [
        "arr1 = np.array([1,2,3,4])\n",
        "arr1.shape"
      ],
      "metadata": {
        "id": "58ZKG-cXN54z"
      },
      "execution_count": null,
      "outputs": []
    },
    {
      "cell_type": "code",
      "source": [
        "arr2 = np.array([[1,2,3,4],[5,6,7,8]])\n",
        "arr2.shape\n",
        "# arr2변수를 넘파이로 변경\n",
        "# arr2 출력해서 행과 열 알려줘  / 출력값 : 2행 4열"
      ],
      "metadata": {
        "id": "W3Bxny0Kst4t"
      },
      "execution_count": null,
      "outputs": []
    },
    {
      "cell_type": "code",
      "source": [
        "a = \"kimhyosung\"\n",
        "a[:3]+a[3].upper()+a[4:]   # upper 는 변수자체를 대문자로 변경해주는건 아니다 / a = .upper() 로 변수 자체를 대문자로 변경가능\n",
        "#a 변수중 3번째까지 보여줘 + a 변수에 3번째를 대문자로 변경후 출력해서 붙여줘 + 그리고 a 변수 4번째부터 출력해서 붙여줘  "
      ],
      "metadata": {
        "id": "WZqkQyiANKAu"
      },
      "execution_count": null,
      "outputs": []
    },
    {
      "cell_type": "code",
      "source": [
        "a = \"hyosungkim\"\n",
        "a[:-3]+a[-3].upper()+a[-2:] \n",
        "  #a 변수중 뒤에서 3번째까지 보여줘 + a 변수에 뒤에서 3번째를 대문자로 변경후 출력해서 붙여줘 + 그리고 a 변수 뒤에서 2번째부터 출력해서 붙여줘  \n",
        "  # a[hyosung]+a[K]+im     ->   hyosungKim"
      ],
      "metadata": {
        "id": "XqLuUWDSqyQn"
      },
      "execution_count": null,
      "outputs": []
    },
    {
      "cell_type": "code",
      "source": [
        "a"
      ],
      "metadata": {
        "id": "0KiLfgkCnQes"
      },
      "execution_count": null,
      "outputs": []
    },
    {
      "cell_type": "code",
      "source": [
        "a = \"kimhyosung\"\n",
        "a.upper()+a[4:]"
      ],
      "metadata": {
        "id": "pV3UXzohn4NY"
      },
      "execution_count": null,
      "outputs": []
    },
    {
      "cell_type": "code",
      "source": [
        "a = \"python\""
      ],
      "metadata": {
        "id": "_EcCS-RKRTx7"
      },
      "execution_count": null,
      "outputs": []
    },
    {
      "cell_type": "code",
      "source": [
        "b = 123"
      ],
      "metadata": {
        "id": "Okgm-gBMTlwM"
      },
      "execution_count": null,
      "outputs": []
    },
    {
      "cell_type": "code",
      "source": [
        "c = len(a)"
      ],
      "metadata": {
        "id": "i7BdQA50TZlF"
      },
      "execution_count": null,
      "outputs": []
    },
    {
      "cell_type": "code",
      "source": [
        "c/b"
      ],
      "metadata": {
        "id": "7miFkt0ZTcfz"
      },
      "execution_count": null,
      "outputs": []
    },
    {
      "cell_type": "code",
      "source": [
        "score = 55\n",
        "if  score  > 90:\n",
        "    print (\"a\")    # 스코어점수가  90보다 크면 a를 출력해줘  (else) 아니면 다음문장으로\n",
        "else :      #여기까지 한 묶음  if ~ else까지 \n",
        "    if score > 80 :     # 이전의 else에서 4칸 스페이스 눌러서 뛰우고 다시 if ~ else 작성\n",
        "        print(\"b\")   # 스코어점수가  80보다 크면 b를 출력해줘  (else) 아니면 다음문장으로\n",
        "    else :\n",
        "        if score > 70 :      # 이전의 else에서 4칸 스페이스 눌러서 뛰우고 다시 if ~ else 작성\n",
        "            print(\"c\")        # 스코어점수가  70보다 크면 c를 출력해줘  \n",
        "        else :\n",
        "            if score > 60 :        # 이전의 else에서 4칸 스페이스 눌러서 뛰우고 다시 if ~ else 작성\n",
        "                print(\"d\")       # 스코어점수가  60보다 크면 d를 출력해줘 \n",
        "            else :\n",
        "                 print(\"f\")"
      ],
      "metadata": {
        "id": "A4dm0IxvmnN3"
      },
      "execution_count": null,
      "outputs": []
    },
    {
      "cell_type": "code",
      "source": [
        "try : 1/2\n",
        "except : \n",
        "    print (\"분모가 0이 나왔음\")\n",
        "else : \n",
        "    print(\"분모가 이상없음\")"
      ],
      "metadata": {
        "id": "AEvbmyoNoPB3"
      },
      "execution_count": null,
      "outputs": []
    },
    {
      "cell_type": "code",
      "source": [
        "날짜 = int(input(\"계산하고 싶은 날짜를 입력하세요(ex:10일 뒤 = 10): \"))\n",
        "print(날짜)\n",
        "\n",
        "import datetime\n",
        "start_date = datetime.datetime.today()\n",
        "d_day = 날짜\n",
        "target_date = start_date + datetime.timedelta(d_day)\n",
        "\n",
        "print(f\"start date: {start_date}\")\n",
        "print(f\"d-day: {d_day}\")\n",
        "print(f\"target date: {target_date}\")"
      ],
      "metadata": {
        "id": "3BgUr6AW-O1d"
      },
      "execution_count": null,
      "outputs": []
    },
    {
      "cell_type": "code",
      "source": [
        "날짜 = (input(\"계산하고 싶은 날짜를 입력하세요(ex:10일 뒤 = 10): \"))\n",
        "print(날짜)\n",
        "\n",
        "import datetime\n",
        "start_date = datetime.datetime.today()\n",
        "d_day = 날짜\n",
        "target_date = start_date + datetime.timedelta(d_day)\n",
        "\n",
        "print(f\"start date: {start_date}\")\n",
        "print(f\"d-day: {d_day}\")\n",
        "print(f\"target date: {target_date}\")"
      ],
      "metadata": {
        "id": "xYB7Afvs1-2D"
      },
      "execution_count": null,
      "outputs": []
    },
    {
      "cell_type": "code",
      "source": [
        "a = \"1,2,4,3,5,6,8,7,9,10\"\n",
        "b = a.ljust(23,\"@\") # b변수안에 a변수를 넣는데 오른쪽 끝부터 23번째까지 공백을 @로 채워줘\n",
        "b #b출력 출력값 : 1,2,4,3,5,6,8,7,9,10@@@"
      ],
      "metadata": {
        "id": "_-GqzncWwqI8"
      },
      "execution_count": null,
      "outputs": []
    },
    {
      "cell_type": "code",
      "source": [
        "a = \"1,2,4,3,5,6,8,7,9,10\"\n",
        "b = a.ljust(22,\"00\")\n",
        "b\n",
        "# 문자만 사용가능 숫자는 no"
      ],
      "metadata": {
        "id": "kq1bC47FL2-_"
      },
      "execution_count": null,
      "outputs": []
    },
    {
      "cell_type": "code",
      "source": [
        "a = \"12435687910\"\n",
        "b = a.rjust(13,\"@\") # b변수안에 a변수를 넣는데 왼쪽 끝부터 13번째까지 공백을 @로 채워줘\n",
        "b #b출력 출력값 : @@12435687910"
      ],
      "metadata": {
        "id": "sNH_wD6iIGfp"
      },
      "execution_count": null,
      "outputs": []
    },
    {
      "cell_type": "code",
      "source": [
        "a = \"12435687910\"\n",
        "b = a.ljust(13,\"@\") # b변수안에 a변수를 넣는데 오른쪽 끝부터 13번째까지 공백을 @로 채워줘\n",
        "b"
      ],
      "metadata": {
        "id": "yrYNnvaRLYCg"
      },
      "execution_count": null,
      "outputs": []
    },
    {
      "cell_type": "code",
      "source": [
        "a = \"12435687910\"\n",
        "b = a.rjust(12,\"@\")\n",
        "print(\"a : {}\".format(b))"
      ],
      "metadata": {
        "id": "40khNftAKivg"
      },
      "execution_count": null,
      "outputs": []
    },
    {
      "cell_type": "code",
      "source": [
        "a = \"12435687910\"\n",
        "print(\"a : {}\".format(@))"
      ],
      "metadata": {
        "id": "KPg8Mq0JPbNn"
      },
      "execution_count": null,
      "outputs": []
    },
    {
      "cell_type": "code",
      "source": [
        "test1 = []\n",
        "d = input (\"숫자를 넣어주세요:\")\n",
        "test1.append(d)\n",
        "d\n",
        "# test1 빈 리스트를 생성\n",
        "# input코드로 숫자를 넣어주세요 를 d라는 변수로 저장\n",
        "# test1 리스트에 d에 저장된 변수를 넣는다\n",
        "# d를 출력"
      ],
      "metadata": {
        "id": "JoNbPRfn2SXA"
      },
      "execution_count": null,
      "outputs": []
    },
    {
      "cell_type": "code",
      "source": [
        "for i in range(5) :\n",
        "      print(\"hello\", i)\n",
        "      #for 반복 / 변수 i 에 (range횟수) 5번 반복해줘 \n",
        "      # hello를 출력해주고 i 인덱스를 표시해줘 (hello 0 ,hello 1.....으로 표시함 / (\"i,hello\")게 쓰면 숫자가 앞에서 부터 출력 )"
      ],
      "metadata": {
        "id": "K6uk4iy_35cU"
      },
      "execution_count": null,
      "outputs": []
    },
    {
      "cell_type": "code",
      "source": [
        "for k in range(6) :\n",
        "      print(\"hello\", i)\n",
        "      #for함수로 인덱스를 출력할땐 변수이름도 i로 지정해줘야 0부터 알려준다. k를 넣었더니 에러는 발생하지 않지만 숫자4 출력"
      ],
      "metadata": {
        "id": "zAQz9DrZ92gN"
      },
      "execution_count": null,
      "outputs": []
    },
    {
      "cell_type": "code",
      "source": [
        "g = 34\n",
        "for g in range(5) :\n",
        "      print(\"hello\")\n",
        "      #혹시나 변수이름을 for 코드위에 변수내용을 지정하고 for의 g 변수이름에 반복문을 실행하면 어떻게 될까?\n",
        "      # for 코드 g변수랑 for 코드 위 g = 34 변수는 별개인거 같다."
      ],
      "metadata": {
        "id": "GW8zmLab9LVq"
      },
      "execution_count": null,
      "outputs": []
    },
    {
      "cell_type": "code",
      "source": [
        "print(__name__)"
      ],
      "metadata": {
        "id": "MmsXlYBTWRxi"
      },
      "execution_count": null,
      "outputs": []
    },
    {
      "cell_type": "code",
      "source": [
        "w = 1294\n",
        "print(w[0, 3])"
      ],
      "metadata": {
        "id": "bor5Q0GhXju5"
      },
      "execution_count": null,
      "outputs": []
    },
    {
      "cell_type": "code",
      "source": [
        "w = 1294\n",
        "w[2]"
      ],
      "metadata": {
        "id": "9Ow4JI35X8Rs"
      },
      "execution_count": null,
      "outputs": []
    },
    {
      "cell_type": "code",
      "source": [],
      "metadata": {
        "id": "dY1R8YTyUd7L"
      },
      "execution_count": null,
      "outputs": []
    },
    {
      "cell_type": "code",
      "source": [
        "a_list = [0,\"1\",2.0,3]\n",
        "type(a_list)\n",
        "a_list"
      ],
      "metadata": {
        "colab": {
          "base_uri": "https://localhost:8080/"
        },
        "id": "JPtKJy7QUjCc",
        "outputId": "c894cbc1-4b2d-4384-cb5b-3d3dfb537658"
      },
      "execution_count": null,
      "outputs": [
        {
          "output_type": "execute_result",
          "data": {
            "text/plain": [
              "[0, '1', 2.0, 3]"
            ]
          },
          "metadata": {},
          "execution_count": 9
        }
      ]
    },
    {
      "cell_type": "code",
      "source": [
        "import numpy as np"
      ],
      "metadata": {
        "id": "egK5om9JVNvA"
      },
      "execution_count": null,
      "outputs": []
    },
    {
      "cell_type": "code",
      "source": [
        "np.array(a_list)\n",
        "# 다양한 형식의 리스트타입이  문자형식''으로 변경됨"
      ],
      "metadata": {
        "colab": {
          "base_uri": "https://localhost:8080/"
        },
        "id": "-S_SCFZuU2cf",
        "outputId": "960cf447-b11f-48e6-915e-83891b24dd46"
      },
      "execution_count": null,
      "outputs": [
        {
          "output_type": "execute_result",
          "data": {
            "text/plain": [
              "array(['0', '1', '2.0', '3'], dtype='<U32')"
            ]
          },
          "metadata": {},
          "execution_count": 11
        }
      ]
    },
    {
      "cell_type": "code",
      "source": [
        "s = np.array(a_list)"
      ],
      "metadata": {
        "id": "586v_F81bKTI"
      },
      "execution_count": null,
      "outputs": []
    },
    {
      "cell_type": "code",
      "source": [
        "s"
      ],
      "metadata": {
        "colab": {
          "base_uri": "https://localhost:8080/"
        },
        "id": "TGOimt_lcjco",
        "outputId": "25a374e6-57f6-40c3-bc8a-e6feadcc0e7b"
      },
      "execution_count": null,
      "outputs": [
        {
          "output_type": "execute_result",
          "data": {
            "text/plain": [
              "array(['0', '1', '2.0', '3'], dtype='<U32')"
            ]
          },
          "metadata": {},
          "execution_count": 16
        }
      ]
    },
    {
      "cell_type": "code",
      "source": [
        "s.shape"
      ],
      "metadata": {
        "colab": {
          "base_uri": "https://localhost:8080/"
        },
        "id": "lYsEeUfSVToG",
        "outputId": "6dc943aa-2717-41c2-c05c-e8be242859fc"
      },
      "execution_count": null,
      "outputs": [
        {
          "output_type": "execute_result",
          "data": {
            "text/plain": [
              "(4,)"
            ]
          },
          "metadata": {},
          "execution_count": 17
        }
      ]
    },
    {
      "cell_type": "code",
      "source": [
        "#@title\n",
        "q = np.array([[1,2,3,4],[5,6,7,8],[9,10,11,12]])\n",
        "print (q)\n",
        "q.shape"
      ],
      "metadata": {
        "colab": {
          "base_uri": "https://localhost:8080/"
        },
        "id": "0h_DZOhMcoLJ",
        "outputId": "7b178af4-d5e7-4193-a550-96ca699ae2fe"
      },
      "execution_count": null,
      "outputs": [
        {
          "output_type": "stream",
          "name": "stdout",
          "text": [
            "[[ 1  2  3  4]\n",
            " [ 5  6  7  8]\n",
            " [ 9 10 11 12]]\n"
          ]
        },
        {
          "output_type": "execute_result",
          "data": {
            "text/plain": [
              "(3, 4)"
            ]
          },
          "metadata": {},
          "execution_count": 23
        }
      ]
    },
    {
      "cell_type": "code",
      "source": [
        "print(s)"
      ],
      "metadata": {
        "colab": {
          "base_uri": "https://localhost:8080/"
        },
        "id": "0g2v1gAciEOQ",
        "outputId": "555e3e29-d5e4-4c65-8ade-9740199c3997"
      },
      "execution_count": null,
      "outputs": [
        {
          "output_type": "stream",
          "name": "stdout",
          "text": [
            "['0' '1' '2.0' '3']\n"
          ]
        }
      ]
    },
    {
      "cell_type": "markdown",
      "source": [
        "# GPU 사용 확인"
      ],
      "metadata": {
        "id": "1cEPhrYY4p3e"
      }
    },
    {
      "cell_type": "code",
      "source": [
        "from tensorflow.python.client import device_lib\n",
        "print(device_lib.list_local_devices())"
      ],
      "metadata": {
        "id": "i1lPYIk7ln7F",
        "outputId": "2d87d0b4-2181-4098-cdb3-c0dffe9d8ec6",
        "colab": {
          "base_uri": "https://localhost:8080/"
        }
      },
      "execution_count": null,
      "outputs": [
        {
          "output_type": "stream",
          "name": "stdout",
          "text": [
            "[name: \"/device:CPU:0\"\n",
            "device_type: \"CPU\"\n",
            "memory_limit: 268435456\n",
            "locality {\n",
            "}\n",
            "incarnation: 127905666679555679\n",
            "xla_global_id: -1\n",
            ", name: \"/device:GPU:0\"\n",
            "device_type: \"GPU\"\n",
            "memory_limit: 14415560704\n",
            "locality {\n",
            "  bus_id: 1\n",
            "  links {\n",
            "  }\n",
            "}\n",
            "incarnation: 3613822274293690488\n",
            "physical_device_desc: \"device: 0, name: Tesla T4, pci bus id: 0000:00:04.0, compute capability: 7.5\"\n",
            "xla_global_id: 416903419\n",
            "]\n"
          ]
        }
      ]
    },
    {
      "cell_type": "code",
      "source": [
        "!nvidia-smi"
      ],
      "metadata": {
        "colab": {
          "base_uri": "https://localhost:8080/"
        },
        "id": "3jf1cImykG_C",
        "outputId": "5757726d-8b21-4adc-ae86-86afea052137"
      },
      "execution_count": null,
      "outputs": [
        {
          "output_type": "stream",
          "name": "stdout",
          "text": [
            "Sat Jan  7 14:09:37 2023       \n",
            "+-----------------------------------------------------------------------------+\n",
            "| NVIDIA-SMI 460.32.03    Driver Version: 460.32.03    CUDA Version: 11.2     |\n",
            "|-------------------------------+----------------------+----------------------+\n",
            "| GPU  Name        Persistence-M| Bus-Id        Disp.A | Volatile Uncorr. ECC |\n",
            "| Fan  Temp  Perf  Pwr:Usage/Cap|         Memory-Usage | GPU-Util  Compute M. |\n",
            "|                               |                      |               MIG M. |\n",
            "|===============================+======================+======================|\n",
            "|   0  Tesla T4            Off  | 00000000:00:04.0 Off |                    0 |\n",
            "| N/A   60C    P0    30W /  70W |      0MiB / 15109MiB |      0%      Default |\n",
            "|                               |                      |                  N/A |\n",
            "+-------------------------------+----------------------+----------------------+\n",
            "                                                                               \n",
            "+-----------------------------------------------------------------------------+\n",
            "| Processes:                                                                  |\n",
            "|  GPU   GI   CI        PID   Type   Process name                  GPU Memory |\n",
            "|        ID   ID                                                   Usage      |\n",
            "|=============================================================================|\n",
            "|  No running processes found                                                 |\n",
            "+-----------------------------------------------------------------------------+\n"
          ]
        }
      ]
    },
    {
      "cell_type": "code",
      "source": [
        "#@title\n"
      ],
      "metadata": {
        "cellView": "form",
        "id": "SevuCTgrhmzg"
      },
      "execution_count": null,
      "outputs": []
    },
    {
      "cell_type": "markdown",
      "source": [
        "# pandas 웹페이지 크롤링"
      ],
      "metadata": {
        "id": "MIDOhd63gsuq"
      }
    },
    {
      "cell_type": "code",
      "source": [
        "import pandas as pd"
      ],
      "metadata": {
        "id": "vqIylPbplyV4"
      },
      "execution_count": null,
      "outputs": []
    },
    {
      "cell_type": "code",
      "source": [
        "url01 = \"https://sports.news.naver.com/kbaseball/record/index?category=kbo\"\n",
        "url01"
      ],
      "metadata": {
        "colab": {
          "base_uri": "https://localhost:8080/",
          "height": 36
        },
        "id": "5HmEJ0wrmBu6",
        "outputId": "d81bca19-3b4f-425c-d550-c861b05b41b3"
      },
      "execution_count": null,
      "outputs": [
        {
          "output_type": "execute_result",
          "data": {
            "text/plain": [
              "'https://sports.news.naver.com/kbaseball/record/index?category=kbo'"
            ],
            "application/vnd.google.colaboratory.intrinsic+json": {
              "type": "string"
            }
          },
          "metadata": {},
          "execution_count": 5
        }
      ]
    },
    {
      "cell_type": "code",
      "source": [
        "pd.read_html(url01) #웹페이지의 모든표로 되어있는 데이터를 리스트타입으로 가져온다"
      ],
      "metadata": {
        "colab": {
          "base_uri": "https://localhost:8080/"
        },
        "id": "Nhn5xCJMl2qC",
        "outputId": "c1912716-c7e9-4bdb-915c-dbaa939af0c2"
      },
      "execution_count": null,
      "outputs": [
        {
          "output_type": "execute_result",
          "data": {
            "text/plain": [
              "[   순위    팀  경기수   승   패  무     승률   게임차  연속    출루율    장타율   최근 10경기\n",
              " 0   1  SSG  144  88  52  4  0.629   0.0  4패  0.336  0.396  4승-6패-0무\n",
              " 1   2   키움  144  80  62  2  0.563   9.0  1승  0.333  0.364  5승-5패-0무\n",
              " 2   3   LG  144  87  55  2  0.613   2.0  1승  0.346  0.396  4승-6패-0무\n",
              " 3   4   KT  144  80  62  2  0.563   9.0  1패  0.330  0.375  7승-3패-0무\n",
              " 4   5  KIA  144  70  73  1  0.490  19.5  1패  0.349  0.398  7승-3패-0무\n",
              " 5   6   NC  144  67  74  3  0.475  21.5  1패  0.334  0.375  6승-4패-0무\n",
              " 6   7   삼성  144  66  76  2  0.465  23.0  2승  0.334  0.387  6승-4패-0무\n",
              " 7   8   롯데  144  64  76  4  0.457  24.0  1승  0.328  0.383  5승-5패-0무\n",
              " 8   9   두산  144  60  82  2  0.423  29.0  2패  0.324  0.365  4승-6패-0무\n",
              " 9  10   한화  144  46  96  2  0.324  43.0  1패  0.319  0.352  3승-7패-0무,\n",
              "                                                다승 순위  \\\n",
              " 0  1  켈리  LG  16승  2  플럿코  LG  15승  2  안우진  키움  1...   \n",
              " \n",
              "                                              평균자책 순위  \\\n",
              " 0  1  안우진  키움  2.11  2  김광현  SSG  2.13  3  플럿코  L...   \n",
              " \n",
              "                                               탈삼진 순위  \\\n",
              " 0  1  안우진  키움  224  2  루친스키  NC  194  3  폰트  SSG ...   \n",
              " \n",
              "                                               세이브 순위  \n",
              " 0  1  고우석  LG  42  2  김재윤  KT  33  3  정해영  KIA  3...  ,\n",
              "                                                타율 순위  \\\n",
              " 0  1  이정후  키움  0.349  2  피렐라  삼성  0.342  3  박건우  ...   \n",
              " \n",
              "                                                타점 순위  \\\n",
              " 0  1  이정후  키움  113  2  피렐라  삼성  109  3  김현수  LG  ...   \n",
              " \n",
              "                                                홈런 순위  \\\n",
              " 0  1  박병호  KT  35  2  피렐라  삼성  28  3  최정  SSG  26...   \n",
              " \n",
              "                                                도루 순위  \n",
              " 0  1  박찬호  KIA  42  2  김혜성  키움  34  3  최지훈  SSG  ...  ,\n",
              "                                              WHIP 순위  \\\n",
              " 0  1  안우진  키움  0.95  2  폰트  SSG  0.95  3  플럿코  LG...   \n",
              " \n",
              "                                               OPS 순위  \\\n",
              " 0  1  이정후  키움  0.996  2  피렐라  삼성  0.976  3  나성범  ...   \n",
              " \n",
              "                                            투수 WAR 순위  \\\n",
              " 0  1  안우진  키움  7.95  2  김광현  SSG  5.72  3  요키시  키...   \n",
              " \n",
              "                                            타자 WAR 순위  \n",
              " 0  1  이정후  키움  8.53  2  피렐라  삼성  6.89  3  나성범  KI...  ,\n",
              " Empty DataFrame\n",
              " Columns: [순위, 선수, 평균자책점, 경기수, 이닝, 승, 패, 세이브, 홀드, 삼진, 피안타, 피홈런, 실점, 볼넷, 사구, 승률]\n",
              " Index: [],\n",
              " Empty DataFrame\n",
              " Columns: [순위, 선수, 타율, 경기수, 타수, 안타, 2루타, 3루타, 홈런, 타점, 득점, 도루, 볼넷, 삼진, 출루율, 장타율]\n",
              " Index: []]"
            ]
          },
          "metadata": {},
          "execution_count": 6
        }
      ]
    },
    {
      "cell_type": "code",
      "source": [
        "pd.read_html(url01)[0] # 0번째 테이블만 출력"
      ],
      "metadata": {
        "colab": {
          "base_uri": "https://localhost:8080/",
          "height": 363
        },
        "id": "ke9oTNO_p8gp",
        "outputId": "2b103b2f-dc4f-45a1-f94f-72be62b49789"
      },
      "execution_count": null,
      "outputs": [
        {
          "output_type": "execute_result",
          "data": {
            "text/plain": [
              "   순위    팀  경기수   승   패  무     승률   게임차  연속    출루율    장타율   최근 10경기\n",
              "0   1  SSG  144  88  52  4  0.629   0.0  4패  0.336  0.396  4승-6패-0무\n",
              "1   2   키움  144  80  62  2  0.563   9.0  1승  0.333  0.364  5승-5패-0무\n",
              "2   3   LG  144  87  55  2  0.613   2.0  1승  0.346  0.396  4승-6패-0무\n",
              "3   4   KT  144  80  62  2  0.563   9.0  1패  0.330  0.375  7승-3패-0무\n",
              "4   5  KIA  144  70  73  1  0.490  19.5  1패  0.349  0.398  7승-3패-0무\n",
              "5   6   NC  144  67  74  3  0.475  21.5  1패  0.334  0.375  6승-4패-0무\n",
              "6   7   삼성  144  66  76  2  0.465  23.0  2승  0.334  0.387  6승-4패-0무\n",
              "7   8   롯데  144  64  76  4  0.457  24.0  1승  0.328  0.383  5승-5패-0무\n",
              "8   9   두산  144  60  82  2  0.423  29.0  2패  0.324  0.365  4승-6패-0무\n",
              "9  10   한화  144  46  96  2  0.324  43.0  1패  0.319  0.352  3승-7패-0무"
            ],
            "text/html": [
              "\n",
              "  <div id=\"df-3159e66c-c574-4a40-8328-8385233b6eb6\">\n",
              "    <div class=\"colab-df-container\">\n",
              "      <div>\n",
              "<style scoped>\n",
              "    .dataframe tbody tr th:only-of-type {\n",
              "        vertical-align: middle;\n",
              "    }\n",
              "\n",
              "    .dataframe tbody tr th {\n",
              "        vertical-align: top;\n",
              "    }\n",
              "\n",
              "    .dataframe thead th {\n",
              "        text-align: right;\n",
              "    }\n",
              "</style>\n",
              "<table border=\"1\" class=\"dataframe\">\n",
              "  <thead>\n",
              "    <tr style=\"text-align: right;\">\n",
              "      <th></th>\n",
              "      <th>순위</th>\n",
              "      <th>팀</th>\n",
              "      <th>경기수</th>\n",
              "      <th>승</th>\n",
              "      <th>패</th>\n",
              "      <th>무</th>\n",
              "      <th>승률</th>\n",
              "      <th>게임차</th>\n",
              "      <th>연속</th>\n",
              "      <th>출루율</th>\n",
              "      <th>장타율</th>\n",
              "      <th>최근 10경기</th>\n",
              "    </tr>\n",
              "  </thead>\n",
              "  <tbody>\n",
              "    <tr>\n",
              "      <th>0</th>\n",
              "      <td>1</td>\n",
              "      <td>SSG</td>\n",
              "      <td>144</td>\n",
              "      <td>88</td>\n",
              "      <td>52</td>\n",
              "      <td>4</td>\n",
              "      <td>0.629</td>\n",
              "      <td>0.0</td>\n",
              "      <td>4패</td>\n",
              "      <td>0.336</td>\n",
              "      <td>0.396</td>\n",
              "      <td>4승-6패-0무</td>\n",
              "    </tr>\n",
              "    <tr>\n",
              "      <th>1</th>\n",
              "      <td>2</td>\n",
              "      <td>키움</td>\n",
              "      <td>144</td>\n",
              "      <td>80</td>\n",
              "      <td>62</td>\n",
              "      <td>2</td>\n",
              "      <td>0.563</td>\n",
              "      <td>9.0</td>\n",
              "      <td>1승</td>\n",
              "      <td>0.333</td>\n",
              "      <td>0.364</td>\n",
              "      <td>5승-5패-0무</td>\n",
              "    </tr>\n",
              "    <tr>\n",
              "      <th>2</th>\n",
              "      <td>3</td>\n",
              "      <td>LG</td>\n",
              "      <td>144</td>\n",
              "      <td>87</td>\n",
              "      <td>55</td>\n",
              "      <td>2</td>\n",
              "      <td>0.613</td>\n",
              "      <td>2.0</td>\n",
              "      <td>1승</td>\n",
              "      <td>0.346</td>\n",
              "      <td>0.396</td>\n",
              "      <td>4승-6패-0무</td>\n",
              "    </tr>\n",
              "    <tr>\n",
              "      <th>3</th>\n",
              "      <td>4</td>\n",
              "      <td>KT</td>\n",
              "      <td>144</td>\n",
              "      <td>80</td>\n",
              "      <td>62</td>\n",
              "      <td>2</td>\n",
              "      <td>0.563</td>\n",
              "      <td>9.0</td>\n",
              "      <td>1패</td>\n",
              "      <td>0.330</td>\n",
              "      <td>0.375</td>\n",
              "      <td>7승-3패-0무</td>\n",
              "    </tr>\n",
              "    <tr>\n",
              "      <th>4</th>\n",
              "      <td>5</td>\n",
              "      <td>KIA</td>\n",
              "      <td>144</td>\n",
              "      <td>70</td>\n",
              "      <td>73</td>\n",
              "      <td>1</td>\n",
              "      <td>0.490</td>\n",
              "      <td>19.5</td>\n",
              "      <td>1패</td>\n",
              "      <td>0.349</td>\n",
              "      <td>0.398</td>\n",
              "      <td>7승-3패-0무</td>\n",
              "    </tr>\n",
              "    <tr>\n",
              "      <th>5</th>\n",
              "      <td>6</td>\n",
              "      <td>NC</td>\n",
              "      <td>144</td>\n",
              "      <td>67</td>\n",
              "      <td>74</td>\n",
              "      <td>3</td>\n",
              "      <td>0.475</td>\n",
              "      <td>21.5</td>\n",
              "      <td>1패</td>\n",
              "      <td>0.334</td>\n",
              "      <td>0.375</td>\n",
              "      <td>6승-4패-0무</td>\n",
              "    </tr>\n",
              "    <tr>\n",
              "      <th>6</th>\n",
              "      <td>7</td>\n",
              "      <td>삼성</td>\n",
              "      <td>144</td>\n",
              "      <td>66</td>\n",
              "      <td>76</td>\n",
              "      <td>2</td>\n",
              "      <td>0.465</td>\n",
              "      <td>23.0</td>\n",
              "      <td>2승</td>\n",
              "      <td>0.334</td>\n",
              "      <td>0.387</td>\n",
              "      <td>6승-4패-0무</td>\n",
              "    </tr>\n",
              "    <tr>\n",
              "      <th>7</th>\n",
              "      <td>8</td>\n",
              "      <td>롯데</td>\n",
              "      <td>144</td>\n",
              "      <td>64</td>\n",
              "      <td>76</td>\n",
              "      <td>4</td>\n",
              "      <td>0.457</td>\n",
              "      <td>24.0</td>\n",
              "      <td>1승</td>\n",
              "      <td>0.328</td>\n",
              "      <td>0.383</td>\n",
              "      <td>5승-5패-0무</td>\n",
              "    </tr>\n",
              "    <tr>\n",
              "      <th>8</th>\n",
              "      <td>9</td>\n",
              "      <td>두산</td>\n",
              "      <td>144</td>\n",
              "      <td>60</td>\n",
              "      <td>82</td>\n",
              "      <td>2</td>\n",
              "      <td>0.423</td>\n",
              "      <td>29.0</td>\n",
              "      <td>2패</td>\n",
              "      <td>0.324</td>\n",
              "      <td>0.365</td>\n",
              "      <td>4승-6패-0무</td>\n",
              "    </tr>\n",
              "    <tr>\n",
              "      <th>9</th>\n",
              "      <td>10</td>\n",
              "      <td>한화</td>\n",
              "      <td>144</td>\n",
              "      <td>46</td>\n",
              "      <td>96</td>\n",
              "      <td>2</td>\n",
              "      <td>0.324</td>\n",
              "      <td>43.0</td>\n",
              "      <td>1패</td>\n",
              "      <td>0.319</td>\n",
              "      <td>0.352</td>\n",
              "      <td>3승-7패-0무</td>\n",
              "    </tr>\n",
              "  </tbody>\n",
              "</table>\n",
              "</div>\n",
              "      <button class=\"colab-df-convert\" onclick=\"convertToInteractive('df-3159e66c-c574-4a40-8328-8385233b6eb6')\"\n",
              "              title=\"Convert this dataframe to an interactive table.\"\n",
              "              style=\"display:none;\">\n",
              "        \n",
              "  <svg xmlns=\"http://www.w3.org/2000/svg\" height=\"24px\"viewBox=\"0 0 24 24\"\n",
              "       width=\"24px\">\n",
              "    <path d=\"M0 0h24v24H0V0z\" fill=\"none\"/>\n",
              "    <path d=\"M18.56 5.44l.94 2.06.94-2.06 2.06-.94-2.06-.94-.94-2.06-.94 2.06-2.06.94zm-11 1L8.5 8.5l.94-2.06 2.06-.94-2.06-.94L8.5 2.5l-.94 2.06-2.06.94zm10 10l.94 2.06.94-2.06 2.06-.94-2.06-.94-.94-2.06-.94 2.06-2.06.94z\"/><path d=\"M17.41 7.96l-1.37-1.37c-.4-.4-.92-.59-1.43-.59-.52 0-1.04.2-1.43.59L10.3 9.45l-7.72 7.72c-.78.78-.78 2.05 0 2.83L4 21.41c.39.39.9.59 1.41.59.51 0 1.02-.2 1.41-.59l7.78-7.78 2.81-2.81c.8-.78.8-2.07 0-2.86zM5.41 20L4 18.59l7.72-7.72 1.47 1.35L5.41 20z\"/>\n",
              "  </svg>\n",
              "      </button>\n",
              "      \n",
              "  <style>\n",
              "    .colab-df-container {\n",
              "      display:flex;\n",
              "      flex-wrap:wrap;\n",
              "      gap: 12px;\n",
              "    }\n",
              "\n",
              "    .colab-df-convert {\n",
              "      background-color: #E8F0FE;\n",
              "      border: none;\n",
              "      border-radius: 50%;\n",
              "      cursor: pointer;\n",
              "      display: none;\n",
              "      fill: #1967D2;\n",
              "      height: 32px;\n",
              "      padding: 0 0 0 0;\n",
              "      width: 32px;\n",
              "    }\n",
              "\n",
              "    .colab-df-convert:hover {\n",
              "      background-color: #E2EBFA;\n",
              "      box-shadow: 0px 1px 2px rgba(60, 64, 67, 0.3), 0px 1px 3px 1px rgba(60, 64, 67, 0.15);\n",
              "      fill: #174EA6;\n",
              "    }\n",
              "\n",
              "    [theme=dark] .colab-df-convert {\n",
              "      background-color: #3B4455;\n",
              "      fill: #D2E3FC;\n",
              "    }\n",
              "\n",
              "    [theme=dark] .colab-df-convert:hover {\n",
              "      background-color: #434B5C;\n",
              "      box-shadow: 0px 1px 3px 1px rgba(0, 0, 0, 0.15);\n",
              "      filter: drop-shadow(0px 1px 2px rgba(0, 0, 0, 0.3));\n",
              "      fill: #FFFFFF;\n",
              "    }\n",
              "  </style>\n",
              "\n",
              "      <script>\n",
              "        const buttonEl =\n",
              "          document.querySelector('#df-3159e66c-c574-4a40-8328-8385233b6eb6 button.colab-df-convert');\n",
              "        buttonEl.style.display =\n",
              "          google.colab.kernel.accessAllowed ? 'block' : 'none';\n",
              "\n",
              "        async function convertToInteractive(key) {\n",
              "          const element = document.querySelector('#df-3159e66c-c574-4a40-8328-8385233b6eb6');\n",
              "          const dataTable =\n",
              "            await google.colab.kernel.invokeFunction('convertToInteractive',\n",
              "                                                     [key], {});\n",
              "          if (!dataTable) return;\n",
              "\n",
              "          const docLinkHtml = 'Like what you see? Visit the ' +\n",
              "            '<a target=\"_blank\" href=https://colab.research.google.com/notebooks/data_table.ipynb>data table notebook</a>'\n",
              "            + ' to learn more about interactive tables.';\n",
              "          element.innerHTML = '';\n",
              "          dataTable['output_type'] = 'display_data';\n",
              "          await google.colab.output.renderOutput(dataTable, element);\n",
              "          const docLink = document.createElement('div');\n",
              "          docLink.innerHTML = docLinkHtml;\n",
              "          element.appendChild(docLink);\n",
              "        }\n",
              "      </script>\n",
              "    </div>\n",
              "  </div>\n",
              "  "
            ]
          },
          "metadata": {},
          "execution_count": 7
        }
      ]
    },
    {
      "cell_type": "code",
      "source": [
        "url = \"https://sports.news.naver.com/kbaseball/record/index?category=kbo&year=\"\n",
        "year = \"2021\"\n",
        "years = [\"2015\",\"2016\",\"2017\",\"2018\",\"2019\",\"2020\",\"2021\"]\n",
        "url + year"
      ],
      "metadata": {
        "colab": {
          "base_uri": "https://localhost:8080/",
          "height": 36
        },
        "id": "UXgyLhw-qCWU",
        "outputId": "18bd7d3e-5bd7-4231-9a1c-1f09c4c2df04"
      },
      "execution_count": null,
      "outputs": [
        {
          "output_type": "execute_result",
          "data": {
            "text/plain": [
              "'https://sports.news.naver.com/kbaseball/record/index?category=kbo&year=2021'"
            ],
            "application/vnd.google.colaboratory.intrinsic+json": {
              "type": "string"
            }
          },
          "metadata": {},
          "execution_count": 8
        }
      ]
    },
    {
      "cell_type": "code",
      "source": [
        "pd.read_html(url+year)[0]"
      ],
      "metadata": {
        "colab": {
          "base_uri": "https://localhost:8080/",
          "height": 363
        },
        "id": "N2p8xYVJrWPX",
        "outputId": "e7af6615-16d4-4d1a-d61c-dd391208c460"
      },
      "execution_count": null,
      "outputs": [
        {
          "output_type": "execute_result",
          "data": {
            "text/plain": [
              "   순위    팀  경기수   승   패   무     승률   게임차  연속    출루율    장타율   최근 10경기\n",
              "0   1   KT  144  76  59   9  0.563   0.0  1승  0.356  0.381  3승-6패-1무\n",
              "1   2   두산  144  71  65   8  0.522   5.5  2승  0.350  0.390  5승-3패-2무\n",
              "2   3   삼성  144  76  59   9  0.563   0.0  1승  0.344  0.399  6승-3패-1무\n",
              "3   4   LG  144  72  58  14  0.554   1.5  1패  0.342  0.368  3승-2패-5무\n",
              "4   5   키움  144  70  67   7  0.511   7.0  3승  0.347  0.376  6승-3패-1무\n",
              "5   6  SSG  144  66  64  14  0.508   7.5  1패  0.353  0.421  4승-4패-2무\n",
              "6   7   NC  144  67  68   9  0.496   9.0  1패  0.343  0.416  4승-5패-1무\n",
              "7   8   롯데  144  65  71   8  0.478  11.5  1승  0.356  0.399  4승-4패-2무\n",
              "8   9  KIA  144  58  76  10  0.433  17.5  2패  0.337  0.336  5승-5패-0무\n",
              "9  10   한화  144  49  83  12  0.371  25.5  6패  0.334  0.341  2승-6패-2무"
            ],
            "text/html": [
              "\n",
              "  <div id=\"df-d916f31f-c34d-4b71-98a9-48be3e6bac89\">\n",
              "    <div class=\"colab-df-container\">\n",
              "      <div>\n",
              "<style scoped>\n",
              "    .dataframe tbody tr th:only-of-type {\n",
              "        vertical-align: middle;\n",
              "    }\n",
              "\n",
              "    .dataframe tbody tr th {\n",
              "        vertical-align: top;\n",
              "    }\n",
              "\n",
              "    .dataframe thead th {\n",
              "        text-align: right;\n",
              "    }\n",
              "</style>\n",
              "<table border=\"1\" class=\"dataframe\">\n",
              "  <thead>\n",
              "    <tr style=\"text-align: right;\">\n",
              "      <th></th>\n",
              "      <th>순위</th>\n",
              "      <th>팀</th>\n",
              "      <th>경기수</th>\n",
              "      <th>승</th>\n",
              "      <th>패</th>\n",
              "      <th>무</th>\n",
              "      <th>승률</th>\n",
              "      <th>게임차</th>\n",
              "      <th>연속</th>\n",
              "      <th>출루율</th>\n",
              "      <th>장타율</th>\n",
              "      <th>최근 10경기</th>\n",
              "    </tr>\n",
              "  </thead>\n",
              "  <tbody>\n",
              "    <tr>\n",
              "      <th>0</th>\n",
              "      <td>1</td>\n",
              "      <td>KT</td>\n",
              "      <td>144</td>\n",
              "      <td>76</td>\n",
              "      <td>59</td>\n",
              "      <td>9</td>\n",
              "      <td>0.563</td>\n",
              "      <td>0.0</td>\n",
              "      <td>1승</td>\n",
              "      <td>0.356</td>\n",
              "      <td>0.381</td>\n",
              "      <td>3승-6패-1무</td>\n",
              "    </tr>\n",
              "    <tr>\n",
              "      <th>1</th>\n",
              "      <td>2</td>\n",
              "      <td>두산</td>\n",
              "      <td>144</td>\n",
              "      <td>71</td>\n",
              "      <td>65</td>\n",
              "      <td>8</td>\n",
              "      <td>0.522</td>\n",
              "      <td>5.5</td>\n",
              "      <td>2승</td>\n",
              "      <td>0.350</td>\n",
              "      <td>0.390</td>\n",
              "      <td>5승-3패-2무</td>\n",
              "    </tr>\n",
              "    <tr>\n",
              "      <th>2</th>\n",
              "      <td>3</td>\n",
              "      <td>삼성</td>\n",
              "      <td>144</td>\n",
              "      <td>76</td>\n",
              "      <td>59</td>\n",
              "      <td>9</td>\n",
              "      <td>0.563</td>\n",
              "      <td>0.0</td>\n",
              "      <td>1승</td>\n",
              "      <td>0.344</td>\n",
              "      <td>0.399</td>\n",
              "      <td>6승-3패-1무</td>\n",
              "    </tr>\n",
              "    <tr>\n",
              "      <th>3</th>\n",
              "      <td>4</td>\n",
              "      <td>LG</td>\n",
              "      <td>144</td>\n",
              "      <td>72</td>\n",
              "      <td>58</td>\n",
              "      <td>14</td>\n",
              "      <td>0.554</td>\n",
              "      <td>1.5</td>\n",
              "      <td>1패</td>\n",
              "      <td>0.342</td>\n",
              "      <td>0.368</td>\n",
              "      <td>3승-2패-5무</td>\n",
              "    </tr>\n",
              "    <tr>\n",
              "      <th>4</th>\n",
              "      <td>5</td>\n",
              "      <td>키움</td>\n",
              "      <td>144</td>\n",
              "      <td>70</td>\n",
              "      <td>67</td>\n",
              "      <td>7</td>\n",
              "      <td>0.511</td>\n",
              "      <td>7.0</td>\n",
              "      <td>3승</td>\n",
              "      <td>0.347</td>\n",
              "      <td>0.376</td>\n",
              "      <td>6승-3패-1무</td>\n",
              "    </tr>\n",
              "    <tr>\n",
              "      <th>5</th>\n",
              "      <td>6</td>\n",
              "      <td>SSG</td>\n",
              "      <td>144</td>\n",
              "      <td>66</td>\n",
              "      <td>64</td>\n",
              "      <td>14</td>\n",
              "      <td>0.508</td>\n",
              "      <td>7.5</td>\n",
              "      <td>1패</td>\n",
              "      <td>0.353</td>\n",
              "      <td>0.421</td>\n",
              "      <td>4승-4패-2무</td>\n",
              "    </tr>\n",
              "    <tr>\n",
              "      <th>6</th>\n",
              "      <td>7</td>\n",
              "      <td>NC</td>\n",
              "      <td>144</td>\n",
              "      <td>67</td>\n",
              "      <td>68</td>\n",
              "      <td>9</td>\n",
              "      <td>0.496</td>\n",
              "      <td>9.0</td>\n",
              "      <td>1패</td>\n",
              "      <td>0.343</td>\n",
              "      <td>0.416</td>\n",
              "      <td>4승-5패-1무</td>\n",
              "    </tr>\n",
              "    <tr>\n",
              "      <th>7</th>\n",
              "      <td>8</td>\n",
              "      <td>롯데</td>\n",
              "      <td>144</td>\n",
              "      <td>65</td>\n",
              "      <td>71</td>\n",
              "      <td>8</td>\n",
              "      <td>0.478</td>\n",
              "      <td>11.5</td>\n",
              "      <td>1승</td>\n",
              "      <td>0.356</td>\n",
              "      <td>0.399</td>\n",
              "      <td>4승-4패-2무</td>\n",
              "    </tr>\n",
              "    <tr>\n",
              "      <th>8</th>\n",
              "      <td>9</td>\n",
              "      <td>KIA</td>\n",
              "      <td>144</td>\n",
              "      <td>58</td>\n",
              "      <td>76</td>\n",
              "      <td>10</td>\n",
              "      <td>0.433</td>\n",
              "      <td>17.5</td>\n",
              "      <td>2패</td>\n",
              "      <td>0.337</td>\n",
              "      <td>0.336</td>\n",
              "      <td>5승-5패-0무</td>\n",
              "    </tr>\n",
              "    <tr>\n",
              "      <th>9</th>\n",
              "      <td>10</td>\n",
              "      <td>한화</td>\n",
              "      <td>144</td>\n",
              "      <td>49</td>\n",
              "      <td>83</td>\n",
              "      <td>12</td>\n",
              "      <td>0.371</td>\n",
              "      <td>25.5</td>\n",
              "      <td>6패</td>\n",
              "      <td>0.334</td>\n",
              "      <td>0.341</td>\n",
              "      <td>2승-6패-2무</td>\n",
              "    </tr>\n",
              "  </tbody>\n",
              "</table>\n",
              "</div>\n",
              "      <button class=\"colab-df-convert\" onclick=\"convertToInteractive('df-d916f31f-c34d-4b71-98a9-48be3e6bac89')\"\n",
              "              title=\"Convert this dataframe to an interactive table.\"\n",
              "              style=\"display:none;\">\n",
              "        \n",
              "  <svg xmlns=\"http://www.w3.org/2000/svg\" height=\"24px\"viewBox=\"0 0 24 24\"\n",
              "       width=\"24px\">\n",
              "    <path d=\"M0 0h24v24H0V0z\" fill=\"none\"/>\n",
              "    <path d=\"M18.56 5.44l.94 2.06.94-2.06 2.06-.94-2.06-.94-.94-2.06-.94 2.06-2.06.94zm-11 1L8.5 8.5l.94-2.06 2.06-.94-2.06-.94L8.5 2.5l-.94 2.06-2.06.94zm10 10l.94 2.06.94-2.06 2.06-.94-2.06-.94-.94-2.06-.94 2.06-2.06.94z\"/><path d=\"M17.41 7.96l-1.37-1.37c-.4-.4-.92-.59-1.43-.59-.52 0-1.04.2-1.43.59L10.3 9.45l-7.72 7.72c-.78.78-.78 2.05 0 2.83L4 21.41c.39.39.9.59 1.41.59.51 0 1.02-.2 1.41-.59l7.78-7.78 2.81-2.81c.8-.78.8-2.07 0-2.86zM5.41 20L4 18.59l7.72-7.72 1.47 1.35L5.41 20z\"/>\n",
              "  </svg>\n",
              "      </button>\n",
              "      \n",
              "  <style>\n",
              "    .colab-df-container {\n",
              "      display:flex;\n",
              "      flex-wrap:wrap;\n",
              "      gap: 12px;\n",
              "    }\n",
              "\n",
              "    .colab-df-convert {\n",
              "      background-color: #E8F0FE;\n",
              "      border: none;\n",
              "      border-radius: 50%;\n",
              "      cursor: pointer;\n",
              "      display: none;\n",
              "      fill: #1967D2;\n",
              "      height: 32px;\n",
              "      padding: 0 0 0 0;\n",
              "      width: 32px;\n",
              "    }\n",
              "\n",
              "    .colab-df-convert:hover {\n",
              "      background-color: #E2EBFA;\n",
              "      box-shadow: 0px 1px 2px rgba(60, 64, 67, 0.3), 0px 1px 3px 1px rgba(60, 64, 67, 0.15);\n",
              "      fill: #174EA6;\n",
              "    }\n",
              "\n",
              "    [theme=dark] .colab-df-convert {\n",
              "      background-color: #3B4455;\n",
              "      fill: #D2E3FC;\n",
              "    }\n",
              "\n",
              "    [theme=dark] .colab-df-convert:hover {\n",
              "      background-color: #434B5C;\n",
              "      box-shadow: 0px 1px 3px 1px rgba(0, 0, 0, 0.15);\n",
              "      filter: drop-shadow(0px 1px 2px rgba(0, 0, 0, 0.3));\n",
              "      fill: #FFFFFF;\n",
              "    }\n",
              "  </style>\n",
              "\n",
              "      <script>\n",
              "        const buttonEl =\n",
              "          document.querySelector('#df-d916f31f-c34d-4b71-98a9-48be3e6bac89 button.colab-df-convert');\n",
              "        buttonEl.style.display =\n",
              "          google.colab.kernel.accessAllowed ? 'block' : 'none';\n",
              "\n",
              "        async function convertToInteractive(key) {\n",
              "          const element = document.querySelector('#df-d916f31f-c34d-4b71-98a9-48be3e6bac89');\n",
              "          const dataTable =\n",
              "            await google.colab.kernel.invokeFunction('convertToInteractive',\n",
              "                                                     [key], {});\n",
              "          if (!dataTable) return;\n",
              "\n",
              "          const docLinkHtml = 'Like what you see? Visit the ' +\n",
              "            '<a target=\"_blank\" href=https://colab.research.google.com/notebooks/data_table.ipynb>data table notebook</a>'\n",
              "            + ' to learn more about interactive tables.';\n",
              "          element.innerHTML = '';\n",
              "          dataTable['output_type'] = 'display_data';\n",
              "          await google.colab.output.renderOutput(dataTable, element);\n",
              "          const docLink = document.createElement('div');\n",
              "          docLink.innerHTML = docLinkHtml;\n",
              "          element.appendChild(docLink);\n",
              "        }\n",
              "      </script>\n",
              "    </div>\n",
              "  </div>\n",
              "  "
            ]
          },
          "metadata": {},
          "execution_count": 9
        }
      ]
    },
    {
      "cell_type": "code",
      "source": [
        "type(url)"
      ],
      "metadata": {
        "colab": {
          "base_uri": "https://localhost:8080/"
        },
        "id": "E_Y4J6kSsKt3",
        "outputId": "c2b20d53-b2c1-43ef-c8a9-e62455edea4d"
      },
      "execution_count": null,
      "outputs": [
        {
          "output_type": "execute_result",
          "data": {
            "text/plain": [
              "str"
            ]
          },
          "metadata": {},
          "execution_count": 10
        }
      ]
    },
    {
      "cell_type": "code",
      "source": [
        "url.info()\n",
        "# url 이라서 info 함수 적용이 안되는듯"
      ],
      "metadata": {
        "colab": {
          "base_uri": "https://localhost:8080/",
          "height": 200
        },
        "id": "dbdXDUPlsPua",
        "outputId": "7ce077c3-8189-4556-ab53-3e82924fdaf5"
      },
      "execution_count": null,
      "outputs": [
        {
          "output_type": "error",
          "ename": "AttributeError",
          "evalue": "ignored",
          "traceback": [
            "\u001b[0;31m---------------------------------------------------------------------------\u001b[0m",
            "\u001b[0;31mAttributeError\u001b[0m                            Traceback (most recent call last)",
            "\u001b[0;32m<ipython-input-11-56a9ad731426>\u001b[0m in \u001b[0;36m<module>\u001b[0;34m\u001b[0m\n\u001b[0;32m----> 1\u001b[0;31m \u001b[0murl\u001b[0m\u001b[0;34m.\u001b[0m\u001b[0minfo\u001b[0m\u001b[0;34m(\u001b[0m\u001b[0;34m)\u001b[0m\u001b[0;34m\u001b[0m\u001b[0;34m\u001b[0m\u001b[0m\n\u001b[0m\u001b[1;32m      2\u001b[0m \u001b[0;31m# url 이라서 info 함수 적용이 안되는듯\u001b[0m\u001b[0;34m\u001b[0m\u001b[0;34m\u001b[0m\u001b[0;34m\u001b[0m\u001b[0m\n",
            "\u001b[0;31mAttributeError\u001b[0m: 'str' object has no attribute 'info'"
          ]
        }
      ]
    },
    {
      "cell_type": "code",
      "source": [
        "df = pd.DataFrame([])\n",
        "for i in years :\n",
        "        df1 = pd.read_html(url+i)[0]\n",
        "        df1[\"연도\"] = i #연도를 추가해서 구분\n",
        "        df = pd.concat([df,df1])\n",
        "        type(df)"
      ],
      "metadata": {
        "id": "-PYvfJhSrdWG"
      },
      "execution_count": null,
      "outputs": []
    },
    {
      "cell_type": "code",
      "source": [
        "print (type(df))\n",
        "print (df.shape)\n",
        "print (df)"
      ],
      "metadata": {
        "colab": {
          "base_uri": "https://localhost:8080/"
        },
        "id": "sfiFEeaSFztO",
        "outputId": "a0514f0d-e499-4822-cd53-68a1df1683d8"
      },
      "execution_count": null,
      "outputs": [
        {
          "output_type": "stream",
          "name": "stdout",
          "text": [
            "<class 'pandas.core.frame.DataFrame'>\n",
            "(70, 13)\n",
            "    순위    팀  경기수   승   패   무     승률   게임차  연속    출루율    장타율   최근 10경기    연도\n",
            "0    1   두산  144  79  65   0  0.549   0.0  2승  0.370  0.435  7승-3패-0무  2015\n",
            "1    2   삼성  144  88  56   0  0.611  -9.0  3승  0.378  0.469  4승-6패-0무  2015\n",
            "2    3   NC  144  84  57   3  0.596  -6.5  1패  0.367  0.455  5승-4패-1무  2015\n",
            "3    4   넥센  144  78  65   1  0.545   0.5  1패  0.372  0.486  4승-6패-0무  2015\n",
            "4    5   SK  144  69  73   2  0.486   9.0  1승  0.349  0.410  6승-4패-0무  2015\n",
            "..  ..  ...  ...  ..  ..  ..    ...   ...  ..    ...    ...       ...   ...\n",
            "5    6  SSG  144  66  64  14  0.508   7.5  1패  0.353  0.421  4승-4패-2무  2021\n",
            "6    7   NC  144  67  68   9  0.496   9.0  1패  0.343  0.416  4승-5패-1무  2021\n",
            "7    8   롯데  144  65  71   8  0.478  11.5  1승  0.356  0.399  4승-4패-2무  2021\n",
            "8    9  KIA  144  58  76  10  0.433  17.5  2패  0.337  0.336  5승-5패-0무  2021\n",
            "9   10   한화  144  49  83  12  0.371  25.5  6패  0.334  0.341  2승-6패-2무  2021\n",
            "\n",
            "[70 rows x 13 columns]\n"
          ]
        }
      ]
    },
    {
      "cell_type": "code",
      "source": [
        "url00 = \"https://sports.news.naver.com/kbaseball/record/index?category=kbo&year=\"\n",
        "year00 = \"2021\"\n",
        "years00 = range (2015,2022)"
      ],
      "metadata": {
        "id": "teMa--tFY3PV"
      },
      "execution_count": null,
      "outputs": []
    },
    {
      "cell_type": "code",
      "source": [
        "df00 = pd.DataFrame([])\n",
        "for i in years00 :\n",
        "        df01 = pd.read_html(url00+str(i))[0] # i 문자형으로,[0]인덱싱\n",
        "        df01[\"연도\"] = str(i) #연도 항목이 없어서 열로 추가 \n",
        "        df00 = pd.concat([df00,df01])\n",
        "        print(type(df))\n",
        "        print(df00)"
      ],
      "metadata": {
        "colab": {
          "base_uri": "https://localhost:8080/"
        },
        "id": "fpW_0n_iYRR2",
        "outputId": "a06f56e2-c3d8-4198-bfb0-b5eca0be13e8"
      },
      "execution_count": null,
      "outputs": [
        {
          "output_type": "stream",
          "name": "stdout",
          "text": [
            "<class 'pandas.core.frame.DataFrame'>\n",
            "   순위    팀  경기수   승   패  무     승률   게임차  연속    출루율    장타율   최근 10경기    연도\n",
            "0   1   두산  144  79  65  0  0.549   0.0  2승  0.370  0.435  7승-3패-0무  2015\n",
            "1   2   삼성  144  88  56  0  0.611  -9.0  3승  0.378  0.469  4승-6패-0무  2015\n",
            "2   3   NC  144  84  57  3  0.596  -6.5  1패  0.367  0.455  5승-4패-1무  2015\n",
            "3   4   넥센  144  78  65  1  0.545   0.5  1패  0.372  0.486  4승-6패-0무  2015\n",
            "4   5   SK  144  69  73  2  0.486   9.0  1승  0.349  0.410  6승-4패-0무  2015\n",
            "5   6   한화  144  68  76  0  0.472  11.0  1패  0.360  0.404  6승-4패-0무  2015\n",
            "6   7  KIA  144  67  77  0  0.465  12.0  4패  0.326  0.392  4승-6패-0무  2015\n",
            "7   8   롯데  144  66  77  1  0.462  12.5  1승  0.356  0.446  2승-8패-0무  2015\n",
            "8   9   LG  144  64  78  2  0.451  14.0  2승  0.339  0.399  6승-4패-0무  2015\n",
            "9  10   kt  144  52  91  1  0.364  26.5  1패  0.345  0.402  2승-7패-1무  2015\n",
            "<class 'pandas.core.frame.DataFrame'>\n",
            "   순위    팀  경기수   승   패  무     승률   게임차  연속    출루율    장타율   최근 10경기    연도\n",
            "0   1   두산  144  79  65  0  0.549   0.0  2승  0.370  0.435  7승-3패-0무  2015\n",
            "1   2   삼성  144  88  56  0  0.611  -9.0  3승  0.378  0.469  4승-6패-0무  2015\n",
            "2   3   NC  144  84  57  3  0.596  -6.5  1패  0.367  0.455  5승-4패-1무  2015\n",
            "3   4   넥센  144  78  65  1  0.545   0.5  1패  0.372  0.486  4승-6패-0무  2015\n",
            "4   5   SK  144  69  73  2  0.486   9.0  1승  0.349  0.410  6승-4패-0무  2015\n",
            "5   6   한화  144  68  76  0  0.472  11.0  1패  0.360  0.404  6승-4패-0무  2015\n",
            "6   7  KIA  144  67  77  0  0.465  12.0  4패  0.326  0.392  4승-6패-0무  2015\n",
            "7   8   롯데  144  66  77  1  0.462  12.5  1승  0.356  0.446  2승-8패-0무  2015\n",
            "8   9   LG  144  64  78  2  0.451  14.0  2승  0.339  0.399  6승-4패-0무  2015\n",
            "9  10   kt  144  52  91  1  0.364  26.5  1패  0.345  0.402  2승-7패-1무  2015\n",
            "0   1   두산  144  93  50  1  0.650   0.0  2승  0.378  0.473  6승-4패-0무  2016\n",
            "1   2   NC  144  83  58  3  0.589   9.0  2패  0.375  0.450  6승-4패-0무  2016\n",
            "2   3   넥센  144  77  66  1  0.538  16.0  3패  0.368  0.440  3승-7패-0무  2016\n",
            "3   4   LG  144  71  71  2  0.500  21.5  1패  0.361  0.417  4승-5패-1무  2016\n",
            "4   5  KIA  144  70  73  1  0.490  23.0  2패  0.358  0.452  5승-5패-0무  2016\n",
            "5   6   SK  144  69  75  0  0.479  24.5  1승  0.356  0.454  4승-6패-0무  2016\n",
            "6   7   한화  144  66  75  3  0.468  26.0  3승  0.362  0.431  6승-4패-0무  2016\n",
            "7   8   롯데  144  66  78  0  0.458  27.5  2승  0.370  0.422  5승-5패-0무  2016\n",
            "8   9   삼성  144  65  78  1  0.455  28.0  1패  0.367  0.439  5승-5패-0무  2016\n",
            "9  10   kt  144  53  89  2  0.373  39.5  2승  0.345  0.394  4승-6패-0무  2016\n",
            "<class 'pandas.core.frame.DataFrame'>\n",
            "   순위    팀  경기수   승   패  무     승률   게임차  연속    출루율    장타율   최근 10경기    연도\n",
            "0   1   두산  144  79  65  0  0.549   0.0  2승  0.370  0.435  7승-3패-0무  2015\n",
            "1   2   삼성  144  88  56  0  0.611  -9.0  3승  0.378  0.469  4승-6패-0무  2015\n",
            "2   3   NC  144  84  57  3  0.596  -6.5  1패  0.367  0.455  5승-4패-1무  2015\n",
            "3   4   넥센  144  78  65  1  0.545   0.5  1패  0.372  0.486  4승-6패-0무  2015\n",
            "4   5   SK  144  69  73  2  0.486   9.0  1승  0.349  0.410  6승-4패-0무  2015\n",
            "5   6   한화  144  68  76  0  0.472  11.0  1패  0.360  0.404  6승-4패-0무  2015\n",
            "6   7  KIA  144  67  77  0  0.465  12.0  4패  0.326  0.392  4승-6패-0무  2015\n",
            "7   8   롯데  144  66  77  1  0.462  12.5  1승  0.356  0.446  2승-8패-0무  2015\n",
            "8   9   LG  144  64  78  2  0.451  14.0  2승  0.339  0.399  6승-4패-0무  2015\n",
            "9  10   kt  144  52  91  1  0.364  26.5  1패  0.345  0.402  2승-7패-1무  2015\n",
            "0   1   두산  144  93  50  1  0.650   0.0  2승  0.378  0.473  6승-4패-0무  2016\n",
            "1   2   NC  144  83  58  3  0.589   9.0  2패  0.375  0.450  6승-4패-0무  2016\n",
            "2   3   넥센  144  77  66  1  0.538  16.0  3패  0.368  0.440  3승-7패-0무  2016\n",
            "3   4   LG  144  71  71  2  0.500  21.5  1패  0.361  0.417  4승-5패-1무  2016\n",
            "4   5  KIA  144  70  73  1  0.490  23.0  2패  0.358  0.452  5승-5패-0무  2016\n",
            "5   6   SK  144  69  75  0  0.479  24.5  1승  0.356  0.454  4승-6패-0무  2016\n",
            "6   7   한화  144  66  75  3  0.468  26.0  3승  0.362  0.431  6승-4패-0무  2016\n",
            "7   8   롯데  144  66  78  0  0.458  27.5  2승  0.370  0.422  5승-5패-0무  2016\n",
            "8   9   삼성  144  65  78  1  0.455  28.0  1패  0.367  0.439  5승-5패-0무  2016\n",
            "9  10   kt  144  53  89  2  0.373  39.5  2승  0.345  0.394  4승-6패-0무  2016\n",
            "0   1  KIA  144  87  56  1  0.608   0.0  2승  0.370  0.469  6승-4패-0무  2017\n",
            "1   2   두산  144  84  57  3  0.596   2.0  1패  0.369  0.459  8승-2패-0무  2017\n",
            "2   3   롯데  144  80  62  2  0.563   6.5  5승  0.356  0.433  8승-2패-0무  2017\n",
            "3   4   NC  144  79  62  3  0.560   7.0  4승  0.365  0.443  5승-4패-1무  2017\n",
            "4   5   SK  144  75  68  1  0.524  12.0  2승  0.341  0.465  7승-3패-0무  2017\n",
            "5   6   LG  144  69  72  3  0.489  17.0  2패  0.348  0.400  4승-6패-0무  2017\n",
            "6   7   넥센  144  69  73  2  0.486  17.5  4패  0.357  0.437  3승-7패-0무  2017\n",
            "7   8   한화  144  61  81  2  0.430  25.5  5패  0.350  0.435  3승-6패-1무  2017\n",
            "8   9   삼성  144  55  84  5  0.396  30.0  2승  0.340  0.428  4승-6패-0무  2017\n",
            "9  10   kt  144  50  94  0  0.347  37.5  2패  0.332  0.410  3승-7패-0무  2017\n",
            "<class 'pandas.core.frame.DataFrame'>\n",
            "   순위    팀  경기수   승   패  무     승률   게임차  연속    출루율    장타율   최근 10경기    연도\n",
            "0   1   두산  144  79  65  0  0.549   0.0  2승  0.370  0.435  7승-3패-0무  2015\n",
            "1   2   삼성  144  88  56  0  0.611  -9.0  3승  0.378  0.469  4승-6패-0무  2015\n",
            "2   3   NC  144  84  57  3  0.596  -6.5  1패  0.367  0.455  5승-4패-1무  2015\n",
            "3   4   넥센  144  78  65  1  0.545   0.5  1패  0.372  0.486  4승-6패-0무  2015\n",
            "4   5   SK  144  69  73  2  0.486   9.0  1승  0.349  0.410  6승-4패-0무  2015\n",
            "5   6   한화  144  68  76  0  0.472  11.0  1패  0.360  0.404  6승-4패-0무  2015\n",
            "6   7  KIA  144  67  77  0  0.465  12.0  4패  0.326  0.392  4승-6패-0무  2015\n",
            "7   8   롯데  144  66  77  1  0.462  12.5  1승  0.356  0.446  2승-8패-0무  2015\n",
            "8   9   LG  144  64  78  2  0.451  14.0  2승  0.339  0.399  6승-4패-0무  2015\n",
            "9  10   kt  144  52  91  1  0.364  26.5  1패  0.345  0.402  2승-7패-1무  2015\n",
            "0   1   두산  144  93  50  1  0.650   0.0  2승  0.378  0.473  6승-4패-0무  2016\n",
            "1   2   NC  144  83  58  3  0.589   9.0  2패  0.375  0.450  6승-4패-0무  2016\n",
            "2   3   넥센  144  77  66  1  0.538  16.0  3패  0.368  0.440  3승-7패-0무  2016\n",
            "3   4   LG  144  71  71  2  0.500  21.5  1패  0.361  0.417  4승-5패-1무  2016\n",
            "4   5  KIA  144  70  73  1  0.490  23.0  2패  0.358  0.452  5승-5패-0무  2016\n",
            "5   6   SK  144  69  75  0  0.479  24.5  1승  0.356  0.454  4승-6패-0무  2016\n",
            "6   7   한화  144  66  75  3  0.468  26.0  3승  0.362  0.431  6승-4패-0무  2016\n",
            "7   8   롯데  144  66  78  0  0.458  27.5  2승  0.370  0.422  5승-5패-0무  2016\n",
            "8   9   삼성  144  65  78  1  0.455  28.0  1패  0.367  0.439  5승-5패-0무  2016\n",
            "9  10   kt  144  53  89  2  0.373  39.5  2승  0.345  0.394  4승-6패-0무  2016\n",
            "0   1  KIA  144  87  56  1  0.608   0.0  2승  0.370  0.469  6승-4패-0무  2017\n",
            "1   2   두산  144  84  57  3  0.596   2.0  1패  0.369  0.459  8승-2패-0무  2017\n",
            "2   3   롯데  144  80  62  2  0.563   6.5  5승  0.356  0.433  8승-2패-0무  2017\n",
            "3   4   NC  144  79  62  3  0.560   7.0  4승  0.365  0.443  5승-4패-1무  2017\n",
            "4   5   SK  144  75  68  1  0.524  12.0  2승  0.341  0.465  7승-3패-0무  2017\n",
            "5   6   LG  144  69  72  3  0.489  17.0  2패  0.348  0.400  4승-6패-0무  2017\n",
            "6   7   넥센  144  69  73  2  0.486  17.5  4패  0.357  0.437  3승-7패-0무  2017\n",
            "7   8   한화  144  61  81  2  0.430  25.5  5패  0.350  0.435  3승-6패-1무  2017\n",
            "8   9   삼성  144  55  84  5  0.396  30.0  2승  0.340  0.428  4승-6패-0무  2017\n",
            "9  10   kt  144  50  94  0  0.347  37.5  2패  0.332  0.410  3승-7패-0무  2017\n",
            "0   1   SK  144  78  65  1  0.545   0.0  2패  0.356  0.473  3승-7패-0무  2018\n",
            "1   2   두산  144  93  51  0  0.646 -14.5  1승  0.376  0.486  6승-4패-0무  2018\n",
            "2   3   한화  144  77  67  0  0.535   1.5  1승  0.341  0.422  5승-5패-0무  2018\n",
            "3   4   넥센  144  75  69  0  0.521   3.5  1패  0.355  0.448  5승-5패-0무  2018\n",
            "4   5  KIA  144  70  74  0  0.486   8.5  1패  0.367  0.457  4승-6패-0무  2018\n",
            "5   6   삼성  144  68  72  4  0.486   8.5  2승  0.355  0.432  6승-3패-1무  2018\n",
            "6   7   롯데  144  68  74  2  0.479   9.5  1패  0.356  0.471  6승-4패-0무  2018\n",
            "7   8   LG  144  68  75  1  0.476  10.0  2승  0.353  0.445  4승-6패-0무  2018\n",
            "8   9   KT  144  59  82  3  0.418  18.0  1승  0.340  0.456  5승-5패-0무  2018\n",
            "9  10   NC  144  58  85  1  0.406  20.0  3패  0.329  0.404  2승-8패-0무  2018\n",
            "<class 'pandas.core.frame.DataFrame'>\n",
            "   순위    팀  경기수   승   패  무     승률   게임차  연속    출루율    장타율   최근 10경기    연도\n",
            "0   1   두산  144  79  65  0  0.549   0.0  2승  0.370  0.435  7승-3패-0무  2015\n",
            "1   2   삼성  144  88  56  0  0.611  -9.0  3승  0.378  0.469  4승-6패-0무  2015\n",
            "2   3   NC  144  84  57  3  0.596  -6.5  1패  0.367  0.455  5승-4패-1무  2015\n",
            "3   4   넥센  144  78  65  1  0.545   0.5  1패  0.372  0.486  4승-6패-0무  2015\n",
            "4   5   SK  144  69  73  2  0.486   9.0  1승  0.349  0.410  6승-4패-0무  2015\n",
            "5   6   한화  144  68  76  0  0.472  11.0  1패  0.360  0.404  6승-4패-0무  2015\n",
            "6   7  KIA  144  67  77  0  0.465  12.0  4패  0.326  0.392  4승-6패-0무  2015\n",
            "7   8   롯데  144  66  77  1  0.462  12.5  1승  0.356  0.446  2승-8패-0무  2015\n",
            "8   9   LG  144  64  78  2  0.451  14.0  2승  0.339  0.399  6승-4패-0무  2015\n",
            "9  10   kt  144  52  91  1  0.364  26.5  1패  0.345  0.402  2승-7패-1무  2015\n",
            "0   1   두산  144  93  50  1  0.650   0.0  2승  0.378  0.473  6승-4패-0무  2016\n",
            "1   2   NC  144  83  58  3  0.589   9.0  2패  0.375  0.450  6승-4패-0무  2016\n",
            "2   3   넥센  144  77  66  1  0.538  16.0  3패  0.368  0.440  3승-7패-0무  2016\n",
            "3   4   LG  144  71  71  2  0.500  21.5  1패  0.361  0.417  4승-5패-1무  2016\n",
            "4   5  KIA  144  70  73  1  0.490  23.0  2패  0.358  0.452  5승-5패-0무  2016\n",
            "5   6   SK  144  69  75  0  0.479  24.5  1승  0.356  0.454  4승-6패-0무  2016\n",
            "6   7   한화  144  66  75  3  0.468  26.0  3승  0.362  0.431  6승-4패-0무  2016\n",
            "7   8   롯데  144  66  78  0  0.458  27.5  2승  0.370  0.422  5승-5패-0무  2016\n",
            "8   9   삼성  144  65  78  1  0.455  28.0  1패  0.367  0.439  5승-5패-0무  2016\n",
            "9  10   kt  144  53  89  2  0.373  39.5  2승  0.345  0.394  4승-6패-0무  2016\n",
            "0   1  KIA  144  87  56  1  0.608   0.0  2승  0.370  0.469  6승-4패-0무  2017\n",
            "1   2   두산  144  84  57  3  0.596   2.0  1패  0.369  0.459  8승-2패-0무  2017\n",
            "2   3   롯데  144  80  62  2  0.563   6.5  5승  0.356  0.433  8승-2패-0무  2017\n",
            "3   4   NC  144  79  62  3  0.560   7.0  4승  0.365  0.443  5승-4패-1무  2017\n",
            "4   5   SK  144  75  68  1  0.524  12.0  2승  0.341  0.465  7승-3패-0무  2017\n",
            "5   6   LG  144  69  72  3  0.489  17.0  2패  0.348  0.400  4승-6패-0무  2017\n",
            "6   7   넥센  144  69  73  2  0.486  17.5  4패  0.357  0.437  3승-7패-0무  2017\n",
            "7   8   한화  144  61  81  2  0.430  25.5  5패  0.350  0.435  3승-6패-1무  2017\n",
            "8   9   삼성  144  55  84  5  0.396  30.0  2승  0.340  0.428  4승-6패-0무  2017\n",
            "9  10   kt  144  50  94  0  0.347  37.5  2패  0.332  0.410  3승-7패-0무  2017\n",
            "0   1   SK  144  78  65  1  0.545   0.0  2패  0.356  0.473  3승-7패-0무  2018\n",
            "1   2   두산  144  93  51  0  0.646 -14.5  1승  0.376  0.486  6승-4패-0무  2018\n",
            "2   3   한화  144  77  67  0  0.535   1.5  1승  0.341  0.422  5승-5패-0무  2018\n",
            "3   4   넥센  144  75  69  0  0.521   3.5  1패  0.355  0.448  5승-5패-0무  2018\n",
            "4   5  KIA  144  70  74  0  0.486   8.5  1패  0.367  0.457  4승-6패-0무  2018\n",
            "5   6   삼성  144  68  72  4  0.486   8.5  2승  0.355  0.432  6승-3패-1무  2018\n",
            "6   7   롯데  144  68  74  2  0.479   9.5  1패  0.356  0.471  6승-4패-0무  2018\n",
            "7   8   LG  144  68  75  1  0.476  10.0  2승  0.353  0.445  4승-6패-0무  2018\n",
            "8   9   KT  144  59  82  3  0.418  18.0  1승  0.340  0.456  5승-5패-0무  2018\n",
            "9  10   NC  144  58  85  1  0.406  20.0  3패  0.329  0.404  2승-8패-0무  2018\n",
            "0   1   두산  144  88  55  1  0.615   0.0  5승  0.355  0.389  8승-1패-1무  2019\n",
            "1   2   키움  144  86  57  1  0.601   2.0  2승  0.354  0.414  6승-4패-0무  2019\n",
            "2   3   SK  144  88  55  1  0.615   0.0  2승  0.334  0.384  4승-6패-0무  2019\n",
            "3   4   LG  144  79  64  1  0.552   9.0  1승  0.333  0.378  4승-6패-0무  2019\n",
            "4   5   NC  144  73  69  2  0.514  14.5  2패  0.345  0.416  4승-5패-1무  2019\n",
            "5   6   KT  144  71  71  2  0.500  16.5  2승  0.344  0.385  7승-3패-0무  2019\n",
            "6   7  KIA  144  62  80  2  0.437  25.5  3승  0.336  0.369  5승-5패-0무  2019\n",
            "7   8   삼성  144  60  83  1  0.420  28.0  1패  0.329  0.389  4승-6패-0무  2019\n",
            "8   9   한화  144  58  86  0  0.403  30.5  3패  0.324  0.362  6승-4패-0무  2019\n",
            "9  10   롯데  144  48  93  3  0.340  39.0  8패  0.316  0.358  1승-9패-0무  2019\n",
            "<class 'pandas.core.frame.DataFrame'>\n",
            "   순위    팀  경기수   승   패  무     승률   게임차  연속    출루율    장타율   최근 10경기    연도\n",
            "0   1   두산  144  79  65  0  0.549   0.0  2승  0.370  0.435  7승-3패-0무  2015\n",
            "1   2   삼성  144  88  56  0  0.611  -9.0  3승  0.378  0.469  4승-6패-0무  2015\n",
            "2   3   NC  144  84  57  3  0.596  -6.5  1패  0.367  0.455  5승-4패-1무  2015\n",
            "3   4   넥센  144  78  65  1  0.545   0.5  1패  0.372  0.486  4승-6패-0무  2015\n",
            "4   5   SK  144  69  73  2  0.486   9.0  1승  0.349  0.410  6승-4패-0무  2015\n",
            "5   6   한화  144  68  76  0  0.472  11.0  1패  0.360  0.404  6승-4패-0무  2015\n",
            "6   7  KIA  144  67  77  0  0.465  12.0  4패  0.326  0.392  4승-6패-0무  2015\n",
            "7   8   롯데  144  66  77  1  0.462  12.5  1승  0.356  0.446  2승-8패-0무  2015\n",
            "8   9   LG  144  64  78  2  0.451  14.0  2승  0.339  0.399  6승-4패-0무  2015\n",
            "9  10   kt  144  52  91  1  0.364  26.5  1패  0.345  0.402  2승-7패-1무  2015\n",
            "0   1   두산  144  93  50  1  0.650   0.0  2승  0.378  0.473  6승-4패-0무  2016\n",
            "1   2   NC  144  83  58  3  0.589   9.0  2패  0.375  0.450  6승-4패-0무  2016\n",
            "2   3   넥센  144  77  66  1  0.538  16.0  3패  0.368  0.440  3승-7패-0무  2016\n",
            "3   4   LG  144  71  71  2  0.500  21.5  1패  0.361  0.417  4승-5패-1무  2016\n",
            "4   5  KIA  144  70  73  1  0.490  23.0  2패  0.358  0.452  5승-5패-0무  2016\n",
            "5   6   SK  144  69  75  0  0.479  24.5  1승  0.356  0.454  4승-6패-0무  2016\n",
            "6   7   한화  144  66  75  3  0.468  26.0  3승  0.362  0.431  6승-4패-0무  2016\n",
            "7   8   롯데  144  66  78  0  0.458  27.5  2승  0.370  0.422  5승-5패-0무  2016\n",
            "8   9   삼성  144  65  78  1  0.455  28.0  1패  0.367  0.439  5승-5패-0무  2016\n",
            "9  10   kt  144  53  89  2  0.373  39.5  2승  0.345  0.394  4승-6패-0무  2016\n",
            "0   1  KIA  144  87  56  1  0.608   0.0  2승  0.370  0.469  6승-4패-0무  2017\n",
            "1   2   두산  144  84  57  3  0.596   2.0  1패  0.369  0.459  8승-2패-0무  2017\n",
            "2   3   롯데  144  80  62  2  0.563   6.5  5승  0.356  0.433  8승-2패-0무  2017\n",
            "3   4   NC  144  79  62  3  0.560   7.0  4승  0.365  0.443  5승-4패-1무  2017\n",
            "4   5   SK  144  75  68  1  0.524  12.0  2승  0.341  0.465  7승-3패-0무  2017\n",
            "5   6   LG  144  69  72  3  0.489  17.0  2패  0.348  0.400  4승-6패-0무  2017\n",
            "6   7   넥센  144  69  73  2  0.486  17.5  4패  0.357  0.437  3승-7패-0무  2017\n",
            "7   8   한화  144  61  81  2  0.430  25.5  5패  0.350  0.435  3승-6패-1무  2017\n",
            "8   9   삼성  144  55  84  5  0.396  30.0  2승  0.340  0.428  4승-6패-0무  2017\n",
            "9  10   kt  144  50  94  0  0.347  37.5  2패  0.332  0.410  3승-7패-0무  2017\n",
            "0   1   SK  144  78  65  1  0.545   0.0  2패  0.356  0.473  3승-7패-0무  2018\n",
            "1   2   두산  144  93  51  0  0.646 -14.5  1승  0.376  0.486  6승-4패-0무  2018\n",
            "2   3   한화  144  77  67  0  0.535   1.5  1승  0.341  0.422  5승-5패-0무  2018\n",
            "3   4   넥센  144  75  69  0  0.521   3.5  1패  0.355  0.448  5승-5패-0무  2018\n",
            "4   5  KIA  144  70  74  0  0.486   8.5  1패  0.367  0.457  4승-6패-0무  2018\n",
            "5   6   삼성  144  68  72  4  0.486   8.5  2승  0.355  0.432  6승-3패-1무  2018\n",
            "6   7   롯데  144  68  74  2  0.479   9.5  1패  0.356  0.471  6승-4패-0무  2018\n",
            "7   8   LG  144  68  75  1  0.476  10.0  2승  0.353  0.445  4승-6패-0무  2018\n",
            "8   9   KT  144  59  82  3  0.418  18.0  1승  0.340  0.456  5승-5패-0무  2018\n",
            "9  10   NC  144  58  85  1  0.406  20.0  3패  0.329  0.404  2승-8패-0무  2018\n",
            "0   1   두산  144  88  55  1  0.615   0.0  5승  0.355  0.389  8승-1패-1무  2019\n",
            "1   2   키움  144  86  57  1  0.601   2.0  2승  0.354  0.414  6승-4패-0무  2019\n",
            "2   3   SK  144  88  55  1  0.615   0.0  2승  0.334  0.384  4승-6패-0무  2019\n",
            "3   4   LG  144  79  64  1  0.552   9.0  1승  0.333  0.378  4승-6패-0무  2019\n",
            "4   5   NC  144  73  69  2  0.514  14.5  2패  0.345  0.416  4승-5패-1무  2019\n",
            "5   6   KT  144  71  71  2  0.500  16.5  2승  0.344  0.385  7승-3패-0무  2019\n",
            "6   7  KIA  144  62  80  2  0.437  25.5  3승  0.336  0.369  5승-5패-0무  2019\n",
            "7   8   삼성  144  60  83  1  0.420  28.0  1패  0.329  0.389  4승-6패-0무  2019\n",
            "8   9   한화  144  58  86  0  0.403  30.5  3패  0.324  0.362  6승-4패-0무  2019\n",
            "9  10   롯데  144  48  93  3  0.340  39.0  8패  0.316  0.358  1승-9패-0무  2019\n",
            "0   1   NC  144  83  55  6  0.601   0.0  1패  0.366  0.462  4승-4패-2무  2020\n",
            "1   2   두산  144  79  61  4  0.564   5.0  4승  0.365  0.427  6승-4패-0무  2020\n",
            "2   3   KT  144  81  62  1  0.566   4.5  1패  0.358  0.436  7승-3패-0무  2020\n",
            "3   4   LG  144  79  61  4  0.564   5.0  2패  0.349  0.428  5승-4패-1무  2020\n",
            "4   5   키움  144  80  63  1  0.559   5.5  1패  0.355  0.408  6승-4패-0무  2020\n",
            "5   6  KIA  144  73  71  0  0.507  13.0  1승  0.351  0.404  4승-6패-0무  2020\n",
            "6   7   롯데  144  71  72  1  0.497  14.5  1승  0.353  0.408  3승-7패-0무  2020\n",
            "7   8   삼성  144  64  75  5  0.460  19.5  1승  0.338  0.394  6승-2패-2무  2020\n",
            "8   9   SK  144  51  92  1  0.357  34.5  1승  0.329  0.383  5승-5패-0무  2020\n",
            "9  10   한화  144  46  95  3  0.326  38.5  1승  0.320  0.338  3승-6패-1무  2020\n",
            "<class 'pandas.core.frame.DataFrame'>\n",
            "    순위    팀  경기수   승   패   무     승률   게임차  연속    출루율    장타율   최근 10경기    연도\n",
            "0    1   두산  144  79  65   0  0.549   0.0  2승  0.370  0.435  7승-3패-0무  2015\n",
            "1    2   삼성  144  88  56   0  0.611  -9.0  3승  0.378  0.469  4승-6패-0무  2015\n",
            "2    3   NC  144  84  57   3  0.596  -6.5  1패  0.367  0.455  5승-4패-1무  2015\n",
            "3    4   넥센  144  78  65   1  0.545   0.5  1패  0.372  0.486  4승-6패-0무  2015\n",
            "4    5   SK  144  69  73   2  0.486   9.0  1승  0.349  0.410  6승-4패-0무  2015\n",
            "..  ..  ...  ...  ..  ..  ..    ...   ...  ..    ...    ...       ...   ...\n",
            "5    6  SSG  144  66  64  14  0.508   7.5  1패  0.353  0.421  4승-4패-2무  2021\n",
            "6    7   NC  144  67  68   9  0.496   9.0  1패  0.343  0.416  4승-5패-1무  2021\n",
            "7    8   롯데  144  65  71   8  0.478  11.5  1승  0.356  0.399  4승-4패-2무  2021\n",
            "8    9  KIA  144  58  76  10  0.433  17.5  2패  0.337  0.336  5승-5패-0무  2021\n",
            "9   10   한화  144  49  83  12  0.371  25.5  6패  0.334  0.341  2승-6패-2무  2021\n",
            "\n",
            "[70 rows x 13 columns]\n"
          ]
        }
      ]
    },
    {
      "cell_type": "code",
      "source": [
        "df00. pivot(values=\"순위\" , index=\"연도\" , columns=\"팀\" )\n",
        "# kt 17년까진 소문자 이후 대문자라서 nan, sk는 ssg로 변경되서 20년까지sk 21년ssg\n",
        "# 넥센은 팀명이 키움으로 변경되서 18년도까지 이후 키움으로 나옴\n",
        "# 리플레이스로 replace로 팀명 변경하고 다시 출력했더니 합쳐짐 "
      ],
      "metadata": {
        "colab": {
          "base_uri": "https://localhost:8080/",
          "height": 300
        },
        "id": "E5ru32bFZnyf",
        "outputId": "7be78e41-6372-49f6-923d-dfaa9372684f"
      },
      "execution_count": null,
      "outputs": [
        {
          "output_type": "execute_result",
          "data": {
            "text/plain": [
              "팀     KIA  KT  LG  NC  SSG  두산  롯데  삼성  키움  한화\n",
              "연도                                            \n",
              "2015    7  10   9   3    5   1   8   2   4   6\n",
              "2016    5  10   4   2    6   1   8   9   3   7\n",
              "2017    1  10   6   4    5   2   3   9   7   8\n",
              "2018    5   9   8  10    1   2   7   6   4   3\n",
              "2019    7   6   4   5    3   1  10   8   2   9\n",
              "2020    6   3   4   1    9   2   7   8   5  10\n",
              "2021    9   1   4   7    6   2   8   3   5  10"
            ],
            "text/html": [
              "\n",
              "  <div id=\"df-56f49186-ebd1-45ec-a251-4aa174f01853\">\n",
              "    <div class=\"colab-df-container\">\n",
              "      <div>\n",
              "<style scoped>\n",
              "    .dataframe tbody tr th:only-of-type {\n",
              "        vertical-align: middle;\n",
              "    }\n",
              "\n",
              "    .dataframe tbody tr th {\n",
              "        vertical-align: top;\n",
              "    }\n",
              "\n",
              "    .dataframe thead th {\n",
              "        text-align: right;\n",
              "    }\n",
              "</style>\n",
              "<table border=\"1\" class=\"dataframe\">\n",
              "  <thead>\n",
              "    <tr style=\"text-align: right;\">\n",
              "      <th>팀</th>\n",
              "      <th>KIA</th>\n",
              "      <th>KT</th>\n",
              "      <th>LG</th>\n",
              "      <th>NC</th>\n",
              "      <th>SSG</th>\n",
              "      <th>두산</th>\n",
              "      <th>롯데</th>\n",
              "      <th>삼성</th>\n",
              "      <th>키움</th>\n",
              "      <th>한화</th>\n",
              "    </tr>\n",
              "    <tr>\n",
              "      <th>연도</th>\n",
              "      <th></th>\n",
              "      <th></th>\n",
              "      <th></th>\n",
              "      <th></th>\n",
              "      <th></th>\n",
              "      <th></th>\n",
              "      <th></th>\n",
              "      <th></th>\n",
              "      <th></th>\n",
              "      <th></th>\n",
              "    </tr>\n",
              "  </thead>\n",
              "  <tbody>\n",
              "    <tr>\n",
              "      <th>2015</th>\n",
              "      <td>7</td>\n",
              "      <td>10</td>\n",
              "      <td>9</td>\n",
              "      <td>3</td>\n",
              "      <td>5</td>\n",
              "      <td>1</td>\n",
              "      <td>8</td>\n",
              "      <td>2</td>\n",
              "      <td>4</td>\n",
              "      <td>6</td>\n",
              "    </tr>\n",
              "    <tr>\n",
              "      <th>2016</th>\n",
              "      <td>5</td>\n",
              "      <td>10</td>\n",
              "      <td>4</td>\n",
              "      <td>2</td>\n",
              "      <td>6</td>\n",
              "      <td>1</td>\n",
              "      <td>8</td>\n",
              "      <td>9</td>\n",
              "      <td>3</td>\n",
              "      <td>7</td>\n",
              "    </tr>\n",
              "    <tr>\n",
              "      <th>2017</th>\n",
              "      <td>1</td>\n",
              "      <td>10</td>\n",
              "      <td>6</td>\n",
              "      <td>4</td>\n",
              "      <td>5</td>\n",
              "      <td>2</td>\n",
              "      <td>3</td>\n",
              "      <td>9</td>\n",
              "      <td>7</td>\n",
              "      <td>8</td>\n",
              "    </tr>\n",
              "    <tr>\n",
              "      <th>2018</th>\n",
              "      <td>5</td>\n",
              "      <td>9</td>\n",
              "      <td>8</td>\n",
              "      <td>10</td>\n",
              "      <td>1</td>\n",
              "      <td>2</td>\n",
              "      <td>7</td>\n",
              "      <td>6</td>\n",
              "      <td>4</td>\n",
              "      <td>3</td>\n",
              "    </tr>\n",
              "    <tr>\n",
              "      <th>2019</th>\n",
              "      <td>7</td>\n",
              "      <td>6</td>\n",
              "      <td>4</td>\n",
              "      <td>5</td>\n",
              "      <td>3</td>\n",
              "      <td>1</td>\n",
              "      <td>10</td>\n",
              "      <td>8</td>\n",
              "      <td>2</td>\n",
              "      <td>9</td>\n",
              "    </tr>\n",
              "    <tr>\n",
              "      <th>2020</th>\n",
              "      <td>6</td>\n",
              "      <td>3</td>\n",
              "      <td>4</td>\n",
              "      <td>1</td>\n",
              "      <td>9</td>\n",
              "      <td>2</td>\n",
              "      <td>7</td>\n",
              "      <td>8</td>\n",
              "      <td>5</td>\n",
              "      <td>10</td>\n",
              "    </tr>\n",
              "    <tr>\n",
              "      <th>2021</th>\n",
              "      <td>9</td>\n",
              "      <td>1</td>\n",
              "      <td>4</td>\n",
              "      <td>7</td>\n",
              "      <td>6</td>\n",
              "      <td>2</td>\n",
              "      <td>8</td>\n",
              "      <td>3</td>\n",
              "      <td>5</td>\n",
              "      <td>10</td>\n",
              "    </tr>\n",
              "  </tbody>\n",
              "</table>\n",
              "</div>\n",
              "      <button class=\"colab-df-convert\" onclick=\"convertToInteractive('df-56f49186-ebd1-45ec-a251-4aa174f01853')\"\n",
              "              title=\"Convert this dataframe to an interactive table.\"\n",
              "              style=\"display:none;\">\n",
              "        \n",
              "  <svg xmlns=\"http://www.w3.org/2000/svg\" height=\"24px\"viewBox=\"0 0 24 24\"\n",
              "       width=\"24px\">\n",
              "    <path d=\"M0 0h24v24H0V0z\" fill=\"none\"/>\n",
              "    <path d=\"M18.56 5.44l.94 2.06.94-2.06 2.06-.94-2.06-.94-.94-2.06-.94 2.06-2.06.94zm-11 1L8.5 8.5l.94-2.06 2.06-.94-2.06-.94L8.5 2.5l-.94 2.06-2.06.94zm10 10l.94 2.06.94-2.06 2.06-.94-2.06-.94-.94-2.06-.94 2.06-2.06.94z\"/><path d=\"M17.41 7.96l-1.37-1.37c-.4-.4-.92-.59-1.43-.59-.52 0-1.04.2-1.43.59L10.3 9.45l-7.72 7.72c-.78.78-.78 2.05 0 2.83L4 21.41c.39.39.9.59 1.41.59.51 0 1.02-.2 1.41-.59l7.78-7.78 2.81-2.81c.8-.78.8-2.07 0-2.86zM5.41 20L4 18.59l7.72-7.72 1.47 1.35L5.41 20z\"/>\n",
              "  </svg>\n",
              "      </button>\n",
              "      \n",
              "  <style>\n",
              "    .colab-df-container {\n",
              "      display:flex;\n",
              "      flex-wrap:wrap;\n",
              "      gap: 12px;\n",
              "    }\n",
              "\n",
              "    .colab-df-convert {\n",
              "      background-color: #E8F0FE;\n",
              "      border: none;\n",
              "      border-radius: 50%;\n",
              "      cursor: pointer;\n",
              "      display: none;\n",
              "      fill: #1967D2;\n",
              "      height: 32px;\n",
              "      padding: 0 0 0 0;\n",
              "      width: 32px;\n",
              "    }\n",
              "\n",
              "    .colab-df-convert:hover {\n",
              "      background-color: #E2EBFA;\n",
              "      box-shadow: 0px 1px 2px rgba(60, 64, 67, 0.3), 0px 1px 3px 1px rgba(60, 64, 67, 0.15);\n",
              "      fill: #174EA6;\n",
              "    }\n",
              "\n",
              "    [theme=dark] .colab-df-convert {\n",
              "      background-color: #3B4455;\n",
              "      fill: #D2E3FC;\n",
              "    }\n",
              "\n",
              "    [theme=dark] .colab-df-convert:hover {\n",
              "      background-color: #434B5C;\n",
              "      box-shadow: 0px 1px 3px 1px rgba(0, 0, 0, 0.15);\n",
              "      filter: drop-shadow(0px 1px 2px rgba(0, 0, 0, 0.3));\n",
              "      fill: #FFFFFF;\n",
              "    }\n",
              "  </style>\n",
              "\n",
              "      <script>\n",
              "        const buttonEl =\n",
              "          document.querySelector('#df-56f49186-ebd1-45ec-a251-4aa174f01853 button.colab-df-convert');\n",
              "        buttonEl.style.display =\n",
              "          google.colab.kernel.accessAllowed ? 'block' : 'none';\n",
              "\n",
              "        async function convertToInteractive(key) {\n",
              "          const element = document.querySelector('#df-56f49186-ebd1-45ec-a251-4aa174f01853');\n",
              "          const dataTable =\n",
              "            await google.colab.kernel.invokeFunction('convertToInteractive',\n",
              "                                                     [key], {});\n",
              "          if (!dataTable) return;\n",
              "\n",
              "          const docLinkHtml = 'Like what you see? Visit the ' +\n",
              "            '<a target=\"_blank\" href=https://colab.research.google.com/notebooks/data_table.ipynb>data table notebook</a>'\n",
              "            + ' to learn more about interactive tables.';\n",
              "          element.innerHTML = '';\n",
              "          dataTable['output_type'] = 'display_data';\n",
              "          await google.colab.output.renderOutput(dataTable, element);\n",
              "          const docLink = document.createElement('div');\n",
              "          docLink.innerHTML = docLinkHtml;\n",
              "          element.appendChild(docLink);\n",
              "        }\n",
              "      </script>\n",
              "    </div>\n",
              "  </div>\n",
              "  "
            ]
          },
          "metadata": {},
          "execution_count": 49
        }
      ]
    },
    {
      "cell_type": "code",
      "source": [
        "df00 = df.replace({\"kt\" : \"KT\", \"SK\" : \"SSG\", \"넥센\" : \"키움\"})\n",
        "# 리플레이스로 바뀐팀들의 팀명 수정"
      ],
      "metadata": {
        "id": "iC3yboJNcw6e"
      },
      "execution_count": null,
      "outputs": []
    },
    {
      "cell_type": "code",
      "source": [
        "df00. pivot(values=\"팀\" , index=\"연도\" , columns=\"순위\" )"
      ],
      "metadata": {
        "colab": {
          "base_uri": "https://localhost:8080/",
          "height": 300
        },
        "id": "kQX4JsY2d-qk",
        "outputId": "9f8c335e-b7d6-4232-f663-64e3526eb7d0"
      },
      "execution_count": null,
      "outputs": [
        {
          "output_type": "execute_result",
          "data": {
            "text/plain": [
              "순위     1   2    3   4    5    6    7   8    9   10\n",
              "연도                                                \n",
              "2015   두산  삼성   NC  키움  SSG   한화  KIA  롯데   LG  KT\n",
              "2016   두산  NC   키움  LG  KIA  SSG   한화  롯데   삼성  KT\n",
              "2017  KIA  두산   롯데  NC  SSG   LG   키움  한화   삼성  KT\n",
              "2018  SSG  두산   한화  키움  KIA   삼성   롯데  LG   KT  NC\n",
              "2019   두산  키움  SSG  LG   NC   KT  KIA  삼성   한화  롯데\n",
              "2020   NC  두산   KT  LG   키움  KIA   롯데  삼성  SSG  한화\n",
              "2021   KT  두산   삼성  LG   키움  SSG   NC  롯데  KIA  한화"
            ],
            "text/html": [
              "\n",
              "  <div id=\"df-1148ff4a-8723-4694-b24a-ded9b654b818\">\n",
              "    <div class=\"colab-df-container\">\n",
              "      <div>\n",
              "<style scoped>\n",
              "    .dataframe tbody tr th:only-of-type {\n",
              "        vertical-align: middle;\n",
              "    }\n",
              "\n",
              "    .dataframe tbody tr th {\n",
              "        vertical-align: top;\n",
              "    }\n",
              "\n",
              "    .dataframe thead th {\n",
              "        text-align: right;\n",
              "    }\n",
              "</style>\n",
              "<table border=\"1\" class=\"dataframe\">\n",
              "  <thead>\n",
              "    <tr style=\"text-align: right;\">\n",
              "      <th>순위</th>\n",
              "      <th>1</th>\n",
              "      <th>2</th>\n",
              "      <th>3</th>\n",
              "      <th>4</th>\n",
              "      <th>5</th>\n",
              "      <th>6</th>\n",
              "      <th>7</th>\n",
              "      <th>8</th>\n",
              "      <th>9</th>\n",
              "      <th>10</th>\n",
              "    </tr>\n",
              "    <tr>\n",
              "      <th>연도</th>\n",
              "      <th></th>\n",
              "      <th></th>\n",
              "      <th></th>\n",
              "      <th></th>\n",
              "      <th></th>\n",
              "      <th></th>\n",
              "      <th></th>\n",
              "      <th></th>\n",
              "      <th></th>\n",
              "      <th></th>\n",
              "    </tr>\n",
              "  </thead>\n",
              "  <tbody>\n",
              "    <tr>\n",
              "      <th>2015</th>\n",
              "      <td>두산</td>\n",
              "      <td>삼성</td>\n",
              "      <td>NC</td>\n",
              "      <td>키움</td>\n",
              "      <td>SSG</td>\n",
              "      <td>한화</td>\n",
              "      <td>KIA</td>\n",
              "      <td>롯데</td>\n",
              "      <td>LG</td>\n",
              "      <td>KT</td>\n",
              "    </tr>\n",
              "    <tr>\n",
              "      <th>2016</th>\n",
              "      <td>두산</td>\n",
              "      <td>NC</td>\n",
              "      <td>키움</td>\n",
              "      <td>LG</td>\n",
              "      <td>KIA</td>\n",
              "      <td>SSG</td>\n",
              "      <td>한화</td>\n",
              "      <td>롯데</td>\n",
              "      <td>삼성</td>\n",
              "      <td>KT</td>\n",
              "    </tr>\n",
              "    <tr>\n",
              "      <th>2017</th>\n",
              "      <td>KIA</td>\n",
              "      <td>두산</td>\n",
              "      <td>롯데</td>\n",
              "      <td>NC</td>\n",
              "      <td>SSG</td>\n",
              "      <td>LG</td>\n",
              "      <td>키움</td>\n",
              "      <td>한화</td>\n",
              "      <td>삼성</td>\n",
              "      <td>KT</td>\n",
              "    </tr>\n",
              "    <tr>\n",
              "      <th>2018</th>\n",
              "      <td>SSG</td>\n",
              "      <td>두산</td>\n",
              "      <td>한화</td>\n",
              "      <td>키움</td>\n",
              "      <td>KIA</td>\n",
              "      <td>삼성</td>\n",
              "      <td>롯데</td>\n",
              "      <td>LG</td>\n",
              "      <td>KT</td>\n",
              "      <td>NC</td>\n",
              "    </tr>\n",
              "    <tr>\n",
              "      <th>2019</th>\n",
              "      <td>두산</td>\n",
              "      <td>키움</td>\n",
              "      <td>SSG</td>\n",
              "      <td>LG</td>\n",
              "      <td>NC</td>\n",
              "      <td>KT</td>\n",
              "      <td>KIA</td>\n",
              "      <td>삼성</td>\n",
              "      <td>한화</td>\n",
              "      <td>롯데</td>\n",
              "    </tr>\n",
              "    <tr>\n",
              "      <th>2020</th>\n",
              "      <td>NC</td>\n",
              "      <td>두산</td>\n",
              "      <td>KT</td>\n",
              "      <td>LG</td>\n",
              "      <td>키움</td>\n",
              "      <td>KIA</td>\n",
              "      <td>롯데</td>\n",
              "      <td>삼성</td>\n",
              "      <td>SSG</td>\n",
              "      <td>한화</td>\n",
              "    </tr>\n",
              "    <tr>\n",
              "      <th>2021</th>\n",
              "      <td>KT</td>\n",
              "      <td>두산</td>\n",
              "      <td>삼성</td>\n",
              "      <td>LG</td>\n",
              "      <td>키움</td>\n",
              "      <td>SSG</td>\n",
              "      <td>NC</td>\n",
              "      <td>롯데</td>\n",
              "      <td>KIA</td>\n",
              "      <td>한화</td>\n",
              "    </tr>\n",
              "  </tbody>\n",
              "</table>\n",
              "</div>\n",
              "      <button class=\"colab-df-convert\" onclick=\"convertToInteractive('df-1148ff4a-8723-4694-b24a-ded9b654b818')\"\n",
              "              title=\"Convert this dataframe to an interactive table.\"\n",
              "              style=\"display:none;\">\n",
              "        \n",
              "  <svg xmlns=\"http://www.w3.org/2000/svg\" height=\"24px\"viewBox=\"0 0 24 24\"\n",
              "       width=\"24px\">\n",
              "    <path d=\"M0 0h24v24H0V0z\" fill=\"none\"/>\n",
              "    <path d=\"M18.56 5.44l.94 2.06.94-2.06 2.06-.94-2.06-.94-.94-2.06-.94 2.06-2.06.94zm-11 1L8.5 8.5l.94-2.06 2.06-.94-2.06-.94L8.5 2.5l-.94 2.06-2.06.94zm10 10l.94 2.06.94-2.06 2.06-.94-2.06-.94-.94-2.06-.94 2.06-2.06.94z\"/><path d=\"M17.41 7.96l-1.37-1.37c-.4-.4-.92-.59-1.43-.59-.52 0-1.04.2-1.43.59L10.3 9.45l-7.72 7.72c-.78.78-.78 2.05 0 2.83L4 21.41c.39.39.9.59 1.41.59.51 0 1.02-.2 1.41-.59l7.78-7.78 2.81-2.81c.8-.78.8-2.07 0-2.86zM5.41 20L4 18.59l7.72-7.72 1.47 1.35L5.41 20z\"/>\n",
              "  </svg>\n",
              "      </button>\n",
              "      \n",
              "  <style>\n",
              "    .colab-df-container {\n",
              "      display:flex;\n",
              "      flex-wrap:wrap;\n",
              "      gap: 12px;\n",
              "    }\n",
              "\n",
              "    .colab-df-convert {\n",
              "      background-color: #E8F0FE;\n",
              "      border: none;\n",
              "      border-radius: 50%;\n",
              "      cursor: pointer;\n",
              "      display: none;\n",
              "      fill: #1967D2;\n",
              "      height: 32px;\n",
              "      padding: 0 0 0 0;\n",
              "      width: 32px;\n",
              "    }\n",
              "\n",
              "    .colab-df-convert:hover {\n",
              "      background-color: #E2EBFA;\n",
              "      box-shadow: 0px 1px 2px rgba(60, 64, 67, 0.3), 0px 1px 3px 1px rgba(60, 64, 67, 0.15);\n",
              "      fill: #174EA6;\n",
              "    }\n",
              "\n",
              "    [theme=dark] .colab-df-convert {\n",
              "      background-color: #3B4455;\n",
              "      fill: #D2E3FC;\n",
              "    }\n",
              "\n",
              "    [theme=dark] .colab-df-convert:hover {\n",
              "      background-color: #434B5C;\n",
              "      box-shadow: 0px 1px 3px 1px rgba(0, 0, 0, 0.15);\n",
              "      filter: drop-shadow(0px 1px 2px rgba(0, 0, 0, 0.3));\n",
              "      fill: #FFFFFF;\n",
              "    }\n",
              "  </style>\n",
              "\n",
              "      <script>\n",
              "        const buttonEl =\n",
              "          document.querySelector('#df-1148ff4a-8723-4694-b24a-ded9b654b818 button.colab-df-convert');\n",
              "        buttonEl.style.display =\n",
              "          google.colab.kernel.accessAllowed ? 'block' : 'none';\n",
              "\n",
              "        async function convertToInteractive(key) {\n",
              "          const element = document.querySelector('#df-1148ff4a-8723-4694-b24a-ded9b654b818');\n",
              "          const dataTable =\n",
              "            await google.colab.kernel.invokeFunction('convertToInteractive',\n",
              "                                                     [key], {});\n",
              "          if (!dataTable) return;\n",
              "\n",
              "          const docLinkHtml = 'Like what you see? Visit the ' +\n",
              "            '<a target=\"_blank\" href=https://colab.research.google.com/notebooks/data_table.ipynb>data table notebook</a>'\n",
              "            + ' to learn more about interactive tables.';\n",
              "          element.innerHTML = '';\n",
              "          dataTable['output_type'] = 'display_data';\n",
              "          await google.colab.output.renderOutput(dataTable, element);\n",
              "          const docLink = document.createElement('div');\n",
              "          docLink.innerHTML = docLinkHtml;\n",
              "          element.appendChild(docLink);\n",
              "        }\n",
              "      </script>\n",
              "    </div>\n",
              "  </div>\n",
              "  "
            ]
          },
          "metadata": {},
          "execution_count": 50
        }
      ]
    },
    {
      "cell_type": "markdown",
      "source": [
        "#배추 가격 예측"
      ],
      "metadata": {
        "id": "Pnc_p4dMkHcZ"
      }
    },
    {
      "cell_type": "code",
      "source": [
        "import pandas as pd"
      ],
      "metadata": {
        "id": "93935THtv4WI"
      },
      "execution_count": null,
      "outputs": []
    },
    {
      "cell_type": "code",
      "source": [
        "data_frame = pd.read_csv(\"/content/drive/MyDrive/Colab Notebooks/ubion 파일/SeoulBikeData.csv\", encoding=\"cp949\")\n",
        "data_frame.info()"
      ],
      "metadata": {
        "colab": {
          "base_uri": "https://localhost:8080/"
        },
        "id": "luZ1ovZNx567",
        "outputId": "389e5c89-92c7-4e03-debd-1aa869878845"
      },
      "execution_count": null,
      "outputs": [
        {
          "output_type": "stream",
          "name": "stdout",
          "text": [
            "<class 'pandas.core.frame.DataFrame'>\n",
            "RangeIndex: 8760 entries, 0 to 8759\n",
            "Data columns (total 14 columns):\n",
            " #   Column                    Non-Null Count  Dtype  \n",
            "---  ------                    --------------  -----  \n",
            " 0   Date                      8760 non-null   object \n",
            " 1   Rented Bike Count         8760 non-null   int64  \n",
            " 2   Hour                      8760 non-null   int64  \n",
            " 3   Temperature(캜)            8760 non-null   float64\n",
            " 4   Humidity(%)               8760 non-null   int64  \n",
            " 5   Wind speed (m/s)          8760 non-null   float64\n",
            " 6   Visibility (10m)          8760 non-null   int64  \n",
            " 7   Dew point temperature(캜)  8760 non-null   float64\n",
            " 8   Solar Radiation (MJ/m2)   8760 non-null   float64\n",
            " 9   Rainfall(mm)              8760 non-null   float64\n",
            " 10  Snowfall (cm)             8760 non-null   float64\n",
            " 11  Seasons                   8760 non-null   object \n",
            " 12  Holiday                   8760 non-null   object \n",
            " 13  Functioning Day           8760 non-null   object \n",
            "dtypes: float64(6), int64(4), object(4)\n",
            "memory usage: 958.2+ KB\n"
          ]
        }
      ]
    },
    {
      "cell_type": "code",
      "source": [
        "data_frame"
      ],
      "metadata": {
        "colab": {
          "base_uri": "https://localhost:8080/",
          "height": 696
        },
        "id": "Zfi7fMPgzOcc",
        "outputId": "537d85b0-525e-4629-8ea6-bd4d1fb03f02"
      },
      "execution_count": null,
      "outputs": [
        {
          "output_type": "execute_result",
          "data": {
            "text/plain": [
              "            Date  Rented Bike Count  Hour  Temperature(캜)  Humidity(%)  \\\n",
              "0     01/12/2017                254     0            -5.2           37   \n",
              "1     01/12/2017                204     1            -5.5           38   \n",
              "2     01/12/2017                173     2            -6.0           39   \n",
              "3     01/12/2017                107     3            -6.2           40   \n",
              "4     01/12/2017                 78     4            -6.0           36   \n",
              "...          ...                ...   ...             ...          ...   \n",
              "8755  30/11/2018               1003    19             4.2           34   \n",
              "8756  30/11/2018                764    20             3.4           37   \n",
              "8757  30/11/2018                694    21             2.6           39   \n",
              "8758  30/11/2018                712    22             2.1           41   \n",
              "8759  30/11/2018                584    23             1.9           43   \n",
              "\n",
              "      Wind speed (m/s)  Visibility (10m)  Dew point temperature(캜)  \\\n",
              "0                  2.2              2000                     -17.6   \n",
              "1                  0.8              2000                     -17.6   \n",
              "2                  1.0              2000                     -17.7   \n",
              "3                  0.9              2000                     -17.6   \n",
              "4                  2.3              2000                     -18.6   \n",
              "...                ...               ...                       ...   \n",
              "8755               2.6              1894                     -10.3   \n",
              "8756               2.3              2000                      -9.9   \n",
              "8757               0.3              1968                      -9.9   \n",
              "8758               1.0              1859                      -9.8   \n",
              "8759               1.3              1909                      -9.3   \n",
              "\n",
              "      Solar Radiation (MJ/m2)  Rainfall(mm)  Snowfall (cm) Seasons  \\\n",
              "0                         0.0           0.0            0.0  Winter   \n",
              "1                         0.0           0.0            0.0  Winter   \n",
              "2                         0.0           0.0            0.0  Winter   \n",
              "3                         0.0           0.0            0.0  Winter   \n",
              "4                         0.0           0.0            0.0  Winter   \n",
              "...                       ...           ...            ...     ...   \n",
              "8755                      0.0           0.0            0.0  Autumn   \n",
              "8756                      0.0           0.0            0.0  Autumn   \n",
              "8757                      0.0           0.0            0.0  Autumn   \n",
              "8758                      0.0           0.0            0.0  Autumn   \n",
              "8759                      0.0           0.0            0.0  Autumn   \n",
              "\n",
              "         Holiday Functioning Day  \n",
              "0     No Holiday             Yes  \n",
              "1     No Holiday             Yes  \n",
              "2     No Holiday             Yes  \n",
              "3     No Holiday             Yes  \n",
              "4     No Holiday             Yes  \n",
              "...          ...             ...  \n",
              "8755  No Holiday             Yes  \n",
              "8756  No Holiday             Yes  \n",
              "8757  No Holiday             Yes  \n",
              "8758  No Holiday             Yes  \n",
              "8759  No Holiday             Yes  \n",
              "\n",
              "[8760 rows x 14 columns]"
            ],
            "text/html": [
              "\n",
              "  <div id=\"df-d3b047cb-7d31-4b31-8d5a-68bece34d376\">\n",
              "    <div class=\"colab-df-container\">\n",
              "      <div>\n",
              "<style scoped>\n",
              "    .dataframe tbody tr th:only-of-type {\n",
              "        vertical-align: middle;\n",
              "    }\n",
              "\n",
              "    .dataframe tbody tr th {\n",
              "        vertical-align: top;\n",
              "    }\n",
              "\n",
              "    .dataframe thead th {\n",
              "        text-align: right;\n",
              "    }\n",
              "</style>\n",
              "<table border=\"1\" class=\"dataframe\">\n",
              "  <thead>\n",
              "    <tr style=\"text-align: right;\">\n",
              "      <th></th>\n",
              "      <th>Date</th>\n",
              "      <th>Rented Bike Count</th>\n",
              "      <th>Hour</th>\n",
              "      <th>Temperature(캜)</th>\n",
              "      <th>Humidity(%)</th>\n",
              "      <th>Wind speed (m/s)</th>\n",
              "      <th>Visibility (10m)</th>\n",
              "      <th>Dew point temperature(캜)</th>\n",
              "      <th>Solar Radiation (MJ/m2)</th>\n",
              "      <th>Rainfall(mm)</th>\n",
              "      <th>Snowfall (cm)</th>\n",
              "      <th>Seasons</th>\n",
              "      <th>Holiday</th>\n",
              "      <th>Functioning Day</th>\n",
              "    </tr>\n",
              "  </thead>\n",
              "  <tbody>\n",
              "    <tr>\n",
              "      <th>0</th>\n",
              "      <td>01/12/2017</td>\n",
              "      <td>254</td>\n",
              "      <td>0</td>\n",
              "      <td>-5.2</td>\n",
              "      <td>37</td>\n",
              "      <td>2.2</td>\n",
              "      <td>2000</td>\n",
              "      <td>-17.6</td>\n",
              "      <td>0.0</td>\n",
              "      <td>0.0</td>\n",
              "      <td>0.0</td>\n",
              "      <td>Winter</td>\n",
              "      <td>No Holiday</td>\n",
              "      <td>Yes</td>\n",
              "    </tr>\n",
              "    <tr>\n",
              "      <th>1</th>\n",
              "      <td>01/12/2017</td>\n",
              "      <td>204</td>\n",
              "      <td>1</td>\n",
              "      <td>-5.5</td>\n",
              "      <td>38</td>\n",
              "      <td>0.8</td>\n",
              "      <td>2000</td>\n",
              "      <td>-17.6</td>\n",
              "      <td>0.0</td>\n",
              "      <td>0.0</td>\n",
              "      <td>0.0</td>\n",
              "      <td>Winter</td>\n",
              "      <td>No Holiday</td>\n",
              "      <td>Yes</td>\n",
              "    </tr>\n",
              "    <tr>\n",
              "      <th>2</th>\n",
              "      <td>01/12/2017</td>\n",
              "      <td>173</td>\n",
              "      <td>2</td>\n",
              "      <td>-6.0</td>\n",
              "      <td>39</td>\n",
              "      <td>1.0</td>\n",
              "      <td>2000</td>\n",
              "      <td>-17.7</td>\n",
              "      <td>0.0</td>\n",
              "      <td>0.0</td>\n",
              "      <td>0.0</td>\n",
              "      <td>Winter</td>\n",
              "      <td>No Holiday</td>\n",
              "      <td>Yes</td>\n",
              "    </tr>\n",
              "    <tr>\n",
              "      <th>3</th>\n",
              "      <td>01/12/2017</td>\n",
              "      <td>107</td>\n",
              "      <td>3</td>\n",
              "      <td>-6.2</td>\n",
              "      <td>40</td>\n",
              "      <td>0.9</td>\n",
              "      <td>2000</td>\n",
              "      <td>-17.6</td>\n",
              "      <td>0.0</td>\n",
              "      <td>0.0</td>\n",
              "      <td>0.0</td>\n",
              "      <td>Winter</td>\n",
              "      <td>No Holiday</td>\n",
              "      <td>Yes</td>\n",
              "    </tr>\n",
              "    <tr>\n",
              "      <th>4</th>\n",
              "      <td>01/12/2017</td>\n",
              "      <td>78</td>\n",
              "      <td>4</td>\n",
              "      <td>-6.0</td>\n",
              "      <td>36</td>\n",
              "      <td>2.3</td>\n",
              "      <td>2000</td>\n",
              "      <td>-18.6</td>\n",
              "      <td>0.0</td>\n",
              "      <td>0.0</td>\n",
              "      <td>0.0</td>\n",
              "      <td>Winter</td>\n",
              "      <td>No Holiday</td>\n",
              "      <td>Yes</td>\n",
              "    </tr>\n",
              "    <tr>\n",
              "      <th>...</th>\n",
              "      <td>...</td>\n",
              "      <td>...</td>\n",
              "      <td>...</td>\n",
              "      <td>...</td>\n",
              "      <td>...</td>\n",
              "      <td>...</td>\n",
              "      <td>...</td>\n",
              "      <td>...</td>\n",
              "      <td>...</td>\n",
              "      <td>...</td>\n",
              "      <td>...</td>\n",
              "      <td>...</td>\n",
              "      <td>...</td>\n",
              "      <td>...</td>\n",
              "    </tr>\n",
              "    <tr>\n",
              "      <th>8755</th>\n",
              "      <td>30/11/2018</td>\n",
              "      <td>1003</td>\n",
              "      <td>19</td>\n",
              "      <td>4.2</td>\n",
              "      <td>34</td>\n",
              "      <td>2.6</td>\n",
              "      <td>1894</td>\n",
              "      <td>-10.3</td>\n",
              "      <td>0.0</td>\n",
              "      <td>0.0</td>\n",
              "      <td>0.0</td>\n",
              "      <td>Autumn</td>\n",
              "      <td>No Holiday</td>\n",
              "      <td>Yes</td>\n",
              "    </tr>\n",
              "    <tr>\n",
              "      <th>8756</th>\n",
              "      <td>30/11/2018</td>\n",
              "      <td>764</td>\n",
              "      <td>20</td>\n",
              "      <td>3.4</td>\n",
              "      <td>37</td>\n",
              "      <td>2.3</td>\n",
              "      <td>2000</td>\n",
              "      <td>-9.9</td>\n",
              "      <td>0.0</td>\n",
              "      <td>0.0</td>\n",
              "      <td>0.0</td>\n",
              "      <td>Autumn</td>\n",
              "      <td>No Holiday</td>\n",
              "      <td>Yes</td>\n",
              "    </tr>\n",
              "    <tr>\n",
              "      <th>8757</th>\n",
              "      <td>30/11/2018</td>\n",
              "      <td>694</td>\n",
              "      <td>21</td>\n",
              "      <td>2.6</td>\n",
              "      <td>39</td>\n",
              "      <td>0.3</td>\n",
              "      <td>1968</td>\n",
              "      <td>-9.9</td>\n",
              "      <td>0.0</td>\n",
              "      <td>0.0</td>\n",
              "      <td>0.0</td>\n",
              "      <td>Autumn</td>\n",
              "      <td>No Holiday</td>\n",
              "      <td>Yes</td>\n",
              "    </tr>\n",
              "    <tr>\n",
              "      <th>8758</th>\n",
              "      <td>30/11/2018</td>\n",
              "      <td>712</td>\n",
              "      <td>22</td>\n",
              "      <td>2.1</td>\n",
              "      <td>41</td>\n",
              "      <td>1.0</td>\n",
              "      <td>1859</td>\n",
              "      <td>-9.8</td>\n",
              "      <td>0.0</td>\n",
              "      <td>0.0</td>\n",
              "      <td>0.0</td>\n",
              "      <td>Autumn</td>\n",
              "      <td>No Holiday</td>\n",
              "      <td>Yes</td>\n",
              "    </tr>\n",
              "    <tr>\n",
              "      <th>8759</th>\n",
              "      <td>30/11/2018</td>\n",
              "      <td>584</td>\n",
              "      <td>23</td>\n",
              "      <td>1.9</td>\n",
              "      <td>43</td>\n",
              "      <td>1.3</td>\n",
              "      <td>1909</td>\n",
              "      <td>-9.3</td>\n",
              "      <td>0.0</td>\n",
              "      <td>0.0</td>\n",
              "      <td>0.0</td>\n",
              "      <td>Autumn</td>\n",
              "      <td>No Holiday</td>\n",
              "      <td>Yes</td>\n",
              "    </tr>\n",
              "  </tbody>\n",
              "</table>\n",
              "<p>8760 rows × 14 columns</p>\n",
              "</div>\n",
              "      <button class=\"colab-df-convert\" onclick=\"convertToInteractive('df-d3b047cb-7d31-4b31-8d5a-68bece34d376')\"\n",
              "              title=\"Convert this dataframe to an interactive table.\"\n",
              "              style=\"display:none;\">\n",
              "        \n",
              "  <svg xmlns=\"http://www.w3.org/2000/svg\" height=\"24px\"viewBox=\"0 0 24 24\"\n",
              "       width=\"24px\">\n",
              "    <path d=\"M0 0h24v24H0V0z\" fill=\"none\"/>\n",
              "    <path d=\"M18.56 5.44l.94 2.06.94-2.06 2.06-.94-2.06-.94-.94-2.06-.94 2.06-2.06.94zm-11 1L8.5 8.5l.94-2.06 2.06-.94-2.06-.94L8.5 2.5l-.94 2.06-2.06.94zm10 10l.94 2.06.94-2.06 2.06-.94-2.06-.94-.94-2.06-.94 2.06-2.06.94z\"/><path d=\"M17.41 7.96l-1.37-1.37c-.4-.4-.92-.59-1.43-.59-.52 0-1.04.2-1.43.59L10.3 9.45l-7.72 7.72c-.78.78-.78 2.05 0 2.83L4 21.41c.39.39.9.59 1.41.59.51 0 1.02-.2 1.41-.59l7.78-7.78 2.81-2.81c.8-.78.8-2.07 0-2.86zM5.41 20L4 18.59l7.72-7.72 1.47 1.35L5.41 20z\"/>\n",
              "  </svg>\n",
              "      </button>\n",
              "      \n",
              "  <style>\n",
              "    .colab-df-container {\n",
              "      display:flex;\n",
              "      flex-wrap:wrap;\n",
              "      gap: 12px;\n",
              "    }\n",
              "\n",
              "    .colab-df-convert {\n",
              "      background-color: #E8F0FE;\n",
              "      border: none;\n",
              "      border-radius: 50%;\n",
              "      cursor: pointer;\n",
              "      display: none;\n",
              "      fill: #1967D2;\n",
              "      height: 32px;\n",
              "      padding: 0 0 0 0;\n",
              "      width: 32px;\n",
              "    }\n",
              "\n",
              "    .colab-df-convert:hover {\n",
              "      background-color: #E2EBFA;\n",
              "      box-shadow: 0px 1px 2px rgba(60, 64, 67, 0.3), 0px 1px 3px 1px rgba(60, 64, 67, 0.15);\n",
              "      fill: #174EA6;\n",
              "    }\n",
              "\n",
              "    [theme=dark] .colab-df-convert {\n",
              "      background-color: #3B4455;\n",
              "      fill: #D2E3FC;\n",
              "    }\n",
              "\n",
              "    [theme=dark] .colab-df-convert:hover {\n",
              "      background-color: #434B5C;\n",
              "      box-shadow: 0px 1px 3px 1px rgba(0, 0, 0, 0.15);\n",
              "      filter: drop-shadow(0px 1px 2px rgba(0, 0, 0, 0.3));\n",
              "      fill: #FFFFFF;\n",
              "    }\n",
              "  </style>\n",
              "\n",
              "      <script>\n",
              "        const buttonEl =\n",
              "          document.querySelector('#df-d3b047cb-7d31-4b31-8d5a-68bece34d376 button.colab-df-convert');\n",
              "        buttonEl.style.display =\n",
              "          google.colab.kernel.accessAllowed ? 'block' : 'none';\n",
              "\n",
              "        async function convertToInteractive(key) {\n",
              "          const element = document.querySelector('#df-d3b047cb-7d31-4b31-8d5a-68bece34d376');\n",
              "          const dataTable =\n",
              "            await google.colab.kernel.invokeFunction('convertToInteractive',\n",
              "                                                     [key], {});\n",
              "          if (!dataTable) return;\n",
              "\n",
              "          const docLinkHtml = 'Like what you see? Visit the ' +\n",
              "            '<a target=\"_blank\" href=https://colab.research.google.com/notebooks/data_table.ipynb>data table notebook</a>'\n",
              "            + ' to learn more about interactive tables.';\n",
              "          element.innerHTML = '';\n",
              "          dataTable['output_type'] = 'display_data';\n",
              "          await google.colab.output.renderOutput(dataTable, element);\n",
              "          const docLink = document.createElement('div');\n",
              "          docLink.innerHTML = docLinkHtml;\n",
              "          element.appendChild(docLink);\n",
              "        }\n",
              "      </script>\n",
              "    </div>\n",
              "  </div>\n",
              "  "
            ]
          },
          "metadata": {},
          "execution_count": 8
        }
      ]
    },
    {
      "cell_type": "code",
      "source": [
        "data_frame.describe()"
      ],
      "metadata": {
        "colab": {
          "base_uri": "https://localhost:8080/",
          "height": 399
        },
        "id": "5pATlN8niOol",
        "outputId": "ff2f16f1-5beb-44e8-d9ef-b651df6b5f7b"
      },
      "execution_count": null,
      "outputs": [
        {
          "output_type": "execute_result",
          "data": {
            "text/plain": [
              "       Rented Bike Count         Hour  Temperature(캜)  Humidity(%)  \\\n",
              "count        8760.000000  8760.000000     8760.000000  8760.000000   \n",
              "mean          704.602055    11.500000       12.882922    58.226256   \n",
              "std           644.997468     6.922582       11.944825    20.362413   \n",
              "min             0.000000     0.000000      -17.800000     0.000000   \n",
              "25%           191.000000     5.750000        3.500000    42.000000   \n",
              "50%           504.500000    11.500000       13.700000    57.000000   \n",
              "75%          1065.250000    17.250000       22.500000    74.000000   \n",
              "max          3556.000000    23.000000       39.400000    98.000000   \n",
              "\n",
              "       Wind speed (m/s)  Visibility (10m)  Dew point temperature(캜)  \\\n",
              "count       8760.000000       8760.000000               8760.000000   \n",
              "mean           1.724909       1436.825799                  4.073813   \n",
              "std            1.036300        608.298712                 13.060369   \n",
              "min            0.000000         27.000000                -30.600000   \n",
              "25%            0.900000        940.000000                 -4.700000   \n",
              "50%            1.500000       1698.000000                  5.100000   \n",
              "75%            2.300000       2000.000000                 14.800000   \n",
              "max            7.400000       2000.000000                 27.200000   \n",
              "\n",
              "       Solar Radiation (MJ/m2)  Rainfall(mm)  Snowfall (cm)  \n",
              "count              8760.000000   8760.000000    8760.000000  \n",
              "mean                  0.569111      0.148687       0.075068  \n",
              "std                   0.868746      1.128193       0.436746  \n",
              "min                   0.000000      0.000000       0.000000  \n",
              "25%                   0.000000      0.000000       0.000000  \n",
              "50%                   0.010000      0.000000       0.000000  \n",
              "75%                   0.930000      0.000000       0.000000  \n",
              "max                   3.520000     35.000000       8.800000  "
            ],
            "text/html": [
              "\n",
              "  <div id=\"df-429dcf14-e9d8-4b6b-ae17-7e536afcaad8\">\n",
              "    <div class=\"colab-df-container\">\n",
              "      <div>\n",
              "<style scoped>\n",
              "    .dataframe tbody tr th:only-of-type {\n",
              "        vertical-align: middle;\n",
              "    }\n",
              "\n",
              "    .dataframe tbody tr th {\n",
              "        vertical-align: top;\n",
              "    }\n",
              "\n",
              "    .dataframe thead th {\n",
              "        text-align: right;\n",
              "    }\n",
              "</style>\n",
              "<table border=\"1\" class=\"dataframe\">\n",
              "  <thead>\n",
              "    <tr style=\"text-align: right;\">\n",
              "      <th></th>\n",
              "      <th>Rented Bike Count</th>\n",
              "      <th>Hour</th>\n",
              "      <th>Temperature(캜)</th>\n",
              "      <th>Humidity(%)</th>\n",
              "      <th>Wind speed (m/s)</th>\n",
              "      <th>Visibility (10m)</th>\n",
              "      <th>Dew point temperature(캜)</th>\n",
              "      <th>Solar Radiation (MJ/m2)</th>\n",
              "      <th>Rainfall(mm)</th>\n",
              "      <th>Snowfall (cm)</th>\n",
              "    </tr>\n",
              "  </thead>\n",
              "  <tbody>\n",
              "    <tr>\n",
              "      <th>count</th>\n",
              "      <td>8760.000000</td>\n",
              "      <td>8760.000000</td>\n",
              "      <td>8760.000000</td>\n",
              "      <td>8760.000000</td>\n",
              "      <td>8760.000000</td>\n",
              "      <td>8760.000000</td>\n",
              "      <td>8760.000000</td>\n",
              "      <td>8760.000000</td>\n",
              "      <td>8760.000000</td>\n",
              "      <td>8760.000000</td>\n",
              "    </tr>\n",
              "    <tr>\n",
              "      <th>mean</th>\n",
              "      <td>704.602055</td>\n",
              "      <td>11.500000</td>\n",
              "      <td>12.882922</td>\n",
              "      <td>58.226256</td>\n",
              "      <td>1.724909</td>\n",
              "      <td>1436.825799</td>\n",
              "      <td>4.073813</td>\n",
              "      <td>0.569111</td>\n",
              "      <td>0.148687</td>\n",
              "      <td>0.075068</td>\n",
              "    </tr>\n",
              "    <tr>\n",
              "      <th>std</th>\n",
              "      <td>644.997468</td>\n",
              "      <td>6.922582</td>\n",
              "      <td>11.944825</td>\n",
              "      <td>20.362413</td>\n",
              "      <td>1.036300</td>\n",
              "      <td>608.298712</td>\n",
              "      <td>13.060369</td>\n",
              "      <td>0.868746</td>\n",
              "      <td>1.128193</td>\n",
              "      <td>0.436746</td>\n",
              "    </tr>\n",
              "    <tr>\n",
              "      <th>min</th>\n",
              "      <td>0.000000</td>\n",
              "      <td>0.000000</td>\n",
              "      <td>-17.800000</td>\n",
              "      <td>0.000000</td>\n",
              "      <td>0.000000</td>\n",
              "      <td>27.000000</td>\n",
              "      <td>-30.600000</td>\n",
              "      <td>0.000000</td>\n",
              "      <td>0.000000</td>\n",
              "      <td>0.000000</td>\n",
              "    </tr>\n",
              "    <tr>\n",
              "      <th>25%</th>\n",
              "      <td>191.000000</td>\n",
              "      <td>5.750000</td>\n",
              "      <td>3.500000</td>\n",
              "      <td>42.000000</td>\n",
              "      <td>0.900000</td>\n",
              "      <td>940.000000</td>\n",
              "      <td>-4.700000</td>\n",
              "      <td>0.000000</td>\n",
              "      <td>0.000000</td>\n",
              "      <td>0.000000</td>\n",
              "    </tr>\n",
              "    <tr>\n",
              "      <th>50%</th>\n",
              "      <td>504.500000</td>\n",
              "      <td>11.500000</td>\n",
              "      <td>13.700000</td>\n",
              "      <td>57.000000</td>\n",
              "      <td>1.500000</td>\n",
              "      <td>1698.000000</td>\n",
              "      <td>5.100000</td>\n",
              "      <td>0.010000</td>\n",
              "      <td>0.000000</td>\n",
              "      <td>0.000000</td>\n",
              "    </tr>\n",
              "    <tr>\n",
              "      <th>75%</th>\n",
              "      <td>1065.250000</td>\n",
              "      <td>17.250000</td>\n",
              "      <td>22.500000</td>\n",
              "      <td>74.000000</td>\n",
              "      <td>2.300000</td>\n",
              "      <td>2000.000000</td>\n",
              "      <td>14.800000</td>\n",
              "      <td>0.930000</td>\n",
              "      <td>0.000000</td>\n",
              "      <td>0.000000</td>\n",
              "    </tr>\n",
              "    <tr>\n",
              "      <th>max</th>\n",
              "      <td>3556.000000</td>\n",
              "      <td>23.000000</td>\n",
              "      <td>39.400000</td>\n",
              "      <td>98.000000</td>\n",
              "      <td>7.400000</td>\n",
              "      <td>2000.000000</td>\n",
              "      <td>27.200000</td>\n",
              "      <td>3.520000</td>\n",
              "      <td>35.000000</td>\n",
              "      <td>8.800000</td>\n",
              "    </tr>\n",
              "  </tbody>\n",
              "</table>\n",
              "</div>\n",
              "      <button class=\"colab-df-convert\" onclick=\"convertToInteractive('df-429dcf14-e9d8-4b6b-ae17-7e536afcaad8')\"\n",
              "              title=\"Convert this dataframe to an interactive table.\"\n",
              "              style=\"display:none;\">\n",
              "        \n",
              "  <svg xmlns=\"http://www.w3.org/2000/svg\" height=\"24px\"viewBox=\"0 0 24 24\"\n",
              "       width=\"24px\">\n",
              "    <path d=\"M0 0h24v24H0V0z\" fill=\"none\"/>\n",
              "    <path d=\"M18.56 5.44l.94 2.06.94-2.06 2.06-.94-2.06-.94-.94-2.06-.94 2.06-2.06.94zm-11 1L8.5 8.5l.94-2.06 2.06-.94-2.06-.94L8.5 2.5l-.94 2.06-2.06.94zm10 10l.94 2.06.94-2.06 2.06-.94-2.06-.94-.94-2.06-.94 2.06-2.06.94z\"/><path d=\"M17.41 7.96l-1.37-1.37c-.4-.4-.92-.59-1.43-.59-.52 0-1.04.2-1.43.59L10.3 9.45l-7.72 7.72c-.78.78-.78 2.05 0 2.83L4 21.41c.39.39.9.59 1.41.59.51 0 1.02-.2 1.41-.59l7.78-7.78 2.81-2.81c.8-.78.8-2.07 0-2.86zM5.41 20L4 18.59l7.72-7.72 1.47 1.35L5.41 20z\"/>\n",
              "  </svg>\n",
              "      </button>\n",
              "      \n",
              "  <style>\n",
              "    .colab-df-container {\n",
              "      display:flex;\n",
              "      flex-wrap:wrap;\n",
              "      gap: 12px;\n",
              "    }\n",
              "\n",
              "    .colab-df-convert {\n",
              "      background-color: #E8F0FE;\n",
              "      border: none;\n",
              "      border-radius: 50%;\n",
              "      cursor: pointer;\n",
              "      display: none;\n",
              "      fill: #1967D2;\n",
              "      height: 32px;\n",
              "      padding: 0 0 0 0;\n",
              "      width: 32px;\n",
              "    }\n",
              "\n",
              "    .colab-df-convert:hover {\n",
              "      background-color: #E2EBFA;\n",
              "      box-shadow: 0px 1px 2px rgba(60, 64, 67, 0.3), 0px 1px 3px 1px rgba(60, 64, 67, 0.15);\n",
              "      fill: #174EA6;\n",
              "    }\n",
              "\n",
              "    [theme=dark] .colab-df-convert {\n",
              "      background-color: #3B4455;\n",
              "      fill: #D2E3FC;\n",
              "    }\n",
              "\n",
              "    [theme=dark] .colab-df-convert:hover {\n",
              "      background-color: #434B5C;\n",
              "      box-shadow: 0px 1px 3px 1px rgba(0, 0, 0, 0.15);\n",
              "      filter: drop-shadow(0px 1px 2px rgba(0, 0, 0, 0.3));\n",
              "      fill: #FFFFFF;\n",
              "    }\n",
              "  </style>\n",
              "\n",
              "      <script>\n",
              "        const buttonEl =\n",
              "          document.querySelector('#df-429dcf14-e9d8-4b6b-ae17-7e536afcaad8 button.colab-df-convert');\n",
              "        buttonEl.style.display =\n",
              "          google.colab.kernel.accessAllowed ? 'block' : 'none';\n",
              "\n",
              "        async function convertToInteractive(key) {\n",
              "          const element = document.querySelector('#df-429dcf14-e9d8-4b6b-ae17-7e536afcaad8');\n",
              "          const dataTable =\n",
              "            await google.colab.kernel.invokeFunction('convertToInteractive',\n",
              "                                                     [key], {});\n",
              "          if (!dataTable) return;\n",
              "\n",
              "          const docLinkHtml = 'Like what you see? Visit the ' +\n",
              "            '<a target=\"_blank\" href=https://colab.research.google.com/notebooks/data_table.ipynb>data table notebook</a>'\n",
              "            + ' to learn more about interactive tables.';\n",
              "          element.innerHTML = '';\n",
              "          dataTable['output_type'] = 'display_data';\n",
              "          await google.colab.output.renderOutput(dataTable, element);\n",
              "          const docLink = document.createElement('div');\n",
              "          docLink.innerHTML = docLinkHtml;\n",
              "          element.appendChild(docLink);\n",
              "        }\n",
              "      </script>\n",
              "    </div>\n",
              "  </div>\n",
              "  "
            ]
          },
          "metadata": {},
          "execution_count": 9
        }
      ]
    },
    {
      "cell_type": "code",
      "source": [
        "import pandas as pd\n"
      ],
      "metadata": {
        "id": "hA5TuzsuAzc0"
      },
      "execution_count": null,
      "outputs": []
    },
    {
      "cell_type": "code",
      "source": [
        "import seaborn as sns\n",
        "import matplotlib as mpl\n",
        "\n",
        "mpl.rc(\"font\",family=\"Malgun Gothic\")"
      ],
      "metadata": {
        "id": "0O97rH8JA5BG"
      },
      "execution_count": null,
      "outputs": []
    },
    {
      "cell_type": "code",
      "source": [
        "sns.histplot(data=data_frame, x=\"Rented Bike Count\")"
      ],
      "metadata": {
        "colab": {
          "base_uri": "https://localhost:8080/",
          "height": 338
        },
        "id": "_-gP8PNRBPdC",
        "outputId": "c572e558-1f5f-4d3c-cfa8-dc000e2d3303"
      },
      "execution_count": null,
      "outputs": [
        {
          "output_type": "execute_result",
          "data": {
            "text/plain": [
              "<matplotlib.axes._subplots.AxesSubplot at 0x7feb0a4bbac0>"
            ]
          },
          "metadata": {},
          "execution_count": 12
        },
        {
          "output_type": "stream",
          "name": "stderr",
          "text": [
            "WARNING:matplotlib.font_manager:findfont: Font family ['Malgun Gothic'] not found. Falling back to DejaVu Sans.\n"
          ]
        },
        {
          "output_type": "display_data",
          "data": {
            "text/plain": [
              "<Figure size 432x288 with 1 Axes>"
            ],
            "image/png": "[encoded data removed]"
          },
          "metadata": {
            "needs_background": "light"
          }
        }
      ]
    },
    {
      "cell_type": "code",
      "source": [
        "sns.histplot(data=data_frame, x=\"Rented Bike Count\", kde=True)\n",
        "# kde=True) 값은 확률분포 "
      ],
      "metadata": {
        "colab": {
          "base_uri": "https://localhost:8080/",
          "height": 298
        },
        "id": "gNb4-DDIDBT3",
        "outputId": "6824a6e6-6b34-49d0-fe03-b52f73321fc2"
      },
      "execution_count": null,
      "outputs": [
        {
          "output_type": "execute_result",
          "data": {
            "text/plain": [
              "<matplotlib.axes._subplots.AxesSubplot at 0x7feb09c979d0>"
            ]
          },
          "metadata": {},
          "execution_count": 13
        },
        {
          "output_type": "display_data",
          "data": {
            "text/plain": [
              "<Figure size 432x288 with 1 Axes>"
            ],
            "image/png": "[encoded data removed]"
          },
          "metadata": {
            "needs_background": "light"
          }
        }
      ]
    },
    {
      "cell_type": "code",
      "source": [
        "import scipy.stats as stats"
      ],
      "metadata": {
        "id": "XHAg-9L8DcUv"
      },
      "execution_count": null,
      "outputs": []
    },
    {
      "cell_type": "code",
      "source": [
        "stats.normaltest(data_frame[\"Rented Bike Count\"])\n",
        "# 귀무가설 : 해당 연속형 데이터 분포는 정규분포이다.\n",
        "# 대립가설 : 해당 연속형 데이터 분포는 정규분포를 띄지 않을 것이다\n",
        "#  pvalue=3.779491395679156e-308 정규분포로 귀무가설 참"
      ],
      "metadata": {
        "colab": {
          "base_uri": "https://localhost:8080/"
        },
        "id": "xq9mwNiRDhdv",
        "outputId": "cbe1993c-eb98-4c90-c23f-6406d88bd33d"
      },
      "execution_count": null,
      "outputs": [
        {
          "output_type": "execute_result",
          "data": {
            "text/plain": [
              "NormaltestResult(statistic=1415.73323838599, pvalue=3.779491395679156e-308)"
            ]
          },
          "metadata": {},
          "execution_count": 15
        }
      ]
    },
    {
      "cell_type": "code",
      "source": [
        "sns.histplot(data=data_frame, x=\"Rainfall(mm)\", kde=True)"
      ],
      "metadata": {
        "colab": {
          "base_uri": "https://localhost:8080/",
          "height": 298
        },
        "id": "HHmFve2xEVte",
        "outputId": "71fb3ec9-17f5-4d8a-83b8-2a721f38a310"
      },
      "execution_count": null,
      "outputs": [
        {
          "output_type": "execute_result",
          "data": {
            "text/plain": [
              "<matplotlib.axes._subplots.AxesSubplot at 0x7feb09c91100>"
            ]
          },
          "metadata": {},
          "execution_count": 16
        },
        {
          "output_type": "display_data",
          "data": {
            "text/plain": [
              "<Figure size 432x288 with 1 Axes>"
            ],
            "image/png": "[encoded data removed]"
          },
          "metadata": {
            "needs_background": "light"
          }
        }
      ]
    },
    {
      "cell_type": "code",
      "source": [
        "stats.normaltest(data_frame[\"Rainfall(mm)\"])\n",
        "# pvalue=0.0 정규분포가 아니라 대립가설 참"
      ],
      "metadata": {
        "colab": {
          "base_uri": "https://localhost:8080/"
        },
        "id": "AbEArcYTEbFG",
        "outputId": "2d1f09a5-95de-4b6b-c521-2a72711d5622"
      },
      "execution_count": null,
      "outputs": [
        {
          "output_type": "execute_result",
          "data": {
            "text/plain": [
              "NormaltestResult(statistic=16558.10768709521, pvalue=0.0)"
            ]
          },
          "metadata": {},
          "execution_count": 17
        }
      ]
    }
  ]
}